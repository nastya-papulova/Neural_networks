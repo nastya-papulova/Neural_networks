{
 "cells": [
  {
   "cell_type": "code",
   "execution_count": 1,
   "id": "a36eec75-dcef-404a-8fcc-b32fea0fbe2f",
   "metadata": {},
   "outputs": [],
   "source": [
    "import numpy as np\n",
    "import tensorflow as tf\n",
    "from tensorflow.keras import layers\n",
    "import matplotlib.pyplot as plt\n",
    "%matplotlib inline"
   ]
  },
  {
   "cell_type": "code",
   "execution_count": 2,
   "id": "656f2fea-3a8b-4603-b82e-3546d71e09cf",
   "metadata": {},
   "outputs": [],
   "source": [
    "class_names = ['ant', 'axe', 'bear', 'bee', 'nose']\n",
    "num_classes = 5\n",
    "img_size = 28\n",
    "batch_size = 32\n",
    "samples_per_class = 5000"
   ]
  },
  {
   "cell_type": "code",
   "execution_count": 6,
   "id": "9dae8d88-7d06-4043-9735-f4d60562c97f",
   "metadata": {},
   "outputs": [],
   "source": [
    "def load_data(class_names, samples_per_class):\n",
    "    images = []\n",
    "    labels = []\n",
    "    \n",
    "    for idx, class_name in enumerate(class_names):\n",
    "        data = np.load(f'dataset/full_numpy_bitmap_{class_name}.npy')\n",
    "        data = data[:samples_per_class] \n",
    "        images.append(data)\n",
    "        labels.extend([idx] * len(data))\n",
    "    \n",
    "    images = np.concatenate(images, axis=0)\n",
    "    images = images.reshape(-1, 28, 28, 1)\n",
    "    labels = np.array(labels)\n",
    "    \n",
    "    return images, labels"
   ]
  },
  {
   "cell_type": "code",
   "execution_count": 7,
   "id": "ec2534e3-9d46-4e6f-a982-ce17b6967806",
   "metadata": {},
   "outputs": [],
   "source": [
    "images, labels = load_data(class_names, samples_per_class)"
   ]
  },
  {
   "cell_type": "code",
   "execution_count": 8,
   "id": "81686f60-2f45-4c8a-af60-3ad753316174",
   "metadata": {},
   "outputs": [
    {
     "name": "stdout",
     "output_type": "stream",
     "text": [
      "Dataset shape: (25000, 28, 28, 1), Labels shape: (25000,)\n"
     ]
    }
   ],
   "source": [
    "print(f\"Dataset shape: {images.shape}, Labels shape: {labels.shape}\")"
   ]
  },
  {
   "cell_type": "code",
   "execution_count": 10,
   "id": "4be4331c-ce0e-490c-94e0-e2680b1554f5",
   "metadata": {},
   "outputs": [
    {
     "data": {
      "image/png": "[encoded data removed]",
      "text/plain": [
       "<Figure size 1500x300 with 5 Axes>"
      ]
     },
     "metadata": {},
     "output_type": "display_data"
    }
   ],
   "source": [
    "# lets look at the first image of each class\n",
    "plt.figure(figsize=(15, 3))\n",
    "for i in range(5):\n",
    "    idx = np.where(labels == i)[0][0]     \n",
    "    plt.subplot(1, 5, i+1)\n",
    "    plt.imshow(images[idx].squeeze(), cmap='gray')  \n",
    "    plt.title(class_names[i])\n",
    "    plt.axis('off')\n",
    "plt.show()"
   ]
  },
  {
   "cell_type": "code",
   "execution_count": null,
   "id": "0754d4ee-4493-40a4-ad62-f8121c1cd5a9",
   "metadata": {},
   "outputs": [],
   "source": []
  }
 ],
 "metadata": {
  "kernelspec": {
   "display_name": "Python 3 (ipykernel)",
   "language": "python",
   "name": "python3"
  },
  "language_info": {
   "codemirror_mode": {
    "name": "ipython",
    "version": 3
   },
   "file_extension": ".py",
   "mimetype": "text/x-python",
   "name": "python",
   "nbconvert_exporter": "python",
   "pygments_lexer": "ipython3",
   "version": "3.11.8"
  }
 },
 "nbformat": 4,
 "nbformat_minor": 5
}
