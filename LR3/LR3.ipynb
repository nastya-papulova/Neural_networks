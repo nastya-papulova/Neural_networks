{
 "cells": [
  {
   "cell_type": "code",
   "execution_count": 1,
   "id": "a36eec75-dcef-404a-8fcc-b32fea0fbe2f",
   "metadata": {},
   "outputs": [],
   "source": [
    "import numpy as np\n",
    "import tensorflow as tf\n",
    "from tensorflow.keras import layers\n",
    "import matplotlib.pyplot as plt\n",
    "%matplotlib inline"
   ]
  },
  {
   "cell_type": "code",
   "execution_count": 2,
   "id": "656f2fea-3a8b-4603-b82e-3546d71e09cf",
   "metadata": {},
   "outputs": [],
   "source": [
    "class_names = ['ant', 'axe', 'bear', 'bee', 'nose']\n",
    "num_classes = 5\n",
    "img_size = 28\n",
    "batch_size = 32\n",
    "samples_per_class = 5000"
   ]
  },
  {
   "cell_type": "code",
   "execution_count": 3,
   "id": "9dae8d88-7d06-4043-9735-f4d60562c97f",
   "metadata": {},
   "outputs": [],
   "source": [
    "def load_data(class_names, samples_per_class):\n",
    "    images = []\n",
    "    labels = []\n",
    "    \n",
    "    for idx, class_name in enumerate(class_names):\n",
    "        data = np.load(f'dataset/full_numpy_bitmap_{class_name}.npy')\n",
    "        data = data[:samples_per_class] \n",
    "        images.append(data)\n",
    "        labels.extend([idx] * len(data))\n",
    "    \n",
    "    images = np.concatenate(images, axis=0)\n",
    "    images = images.reshape(-1, 28, 28, 1)\n",
    "    labels = np.array(labels)\n",
    "    \n",
    "    return images, labels"
   ]
  },
  {
   "cell_type": "code",
   "execution_count": 4,
   "id": "ec2534e3-9d46-4e6f-a982-ce17b6967806",
   "metadata": {},
   "outputs": [],
   "source": [
    "images, labels = load_data(class_names, samples_per_class)"
   ]
  },
  {
   "cell_type": "code",
   "execution_count": 5,
   "id": "81686f60-2f45-4c8a-af60-3ad753316174",
   "metadata": {},
   "outputs": [
    {
     "data": {
      "text/plain": [
       "(25000, 28, 28, 1)"
      ]
     },
     "execution_count": 5,
     "metadata": {},
     "output_type": "execute_result"
    }
   ],
   "source": [
    "images.shape"
   ]
  },
  {
   "cell_type": "code",
   "execution_count": 6,
   "id": "4be4331c-ce0e-490c-94e0-e2680b1554f5",
   "metadata": {
    "scrolled": true
   },
   "outputs": [
    {
     "data": {
      "image/png": "[encoded data removed]",
      "text/plain": [
       "<Figure size 1500x300 with 5 Axes>"
      ]
     },
     "metadata": {},
     "output_type": "display_data"
    }
   ],
   "source": [
    "# lets look at the first image of each class\n",
    "plt.figure(figsize=(15, 3))\n",
    "for i in range(5):\n",
    "    idx = np.where(labels == i)[0][0]     \n",
    "    plt.subplot(1, 5, i+1)\n",
    "    plt.imshow(images[idx].squeeze(), cmap='gray')  \n",
    "    plt.title(class_names[i])\n",
    "    plt.axis('off')\n",
    "plt.show()"
   ]
  },
  {
   "cell_type": "code",
   "execution_count": null,
   "id": "a0180c66-ed57-4a33-a5e1-00ce03062238",
   "metadata": {},
   "outputs": [],
   "source": []
  },
  {
   "cell_type": "markdown",
   "id": "5aad5a14-a227-41c6-a75a-1d86a2188a1a",
   "metadata": {},
   "source": [
    "images = images.astype('float32') / 255.0 #normalizw"
   ]
  },
  {
   "cell_type": "code",
   "execution_count": 7,
   "id": "ea9ad425-a8a1-4a0f-8089-de0211e123db",
   "metadata": {},
   "outputs": [],
   "source": [
    "from sklearn.model_selection import train_test_split\n",
    "X_train, X_val, y_train, y_val = train_test_split(images, labels, test_size=0.2, random_state=42)"
   ]
  },
  {
   "cell_type": "code",
   "execution_count": 8,
   "id": "f15a11c7-be91-4749-a5d8-25017063061a",
   "metadata": {},
   "outputs": [],
   "source": [
    "from tensorflow import keras"
   ]
  },
  {
   "cell_type": "code",
   "execution_count": 9,
   "id": "4dffc98f-2ffd-4e78-bb06-5d88cac89d17",
   "metadata": {},
   "outputs": [],
   "source": [
    "def normalize_img(image, label):\n",
    "    return tf.cast(image, tf.float32) / 127.5 - 1.0, label\n"
   ]
  },
  {
   "cell_type": "code",
   "execution_count": 10,
   "id": "b7cad02f-43a7-4299-be68-cb59c52d9b14",
   "metadata": {},
   "outputs": [],
   "source": [
    "data_augmentation = keras.Sequential([\n",
    "    layers.RandomRotation(\n",
    "        factor=0.15,  \n",
    "        fill_mode='constant',\n",
    "        fill_value=0.0  \n",
    "    ),\n",
    "    layers.RandomZoom(\n",
    "        height_factor=(-0.1, 0.2),  \n",
    "        width_factor=(-0.1, 0.2),\n",
    "        fill_mode='constant'\n",
    "    ),\n",
    "    layers.RandomContrast(factor=0.15),  \n",
    "    layers.RandomTranslation(\n",
    "        height_factor=0.1,\n",
    "        width_factor=0.1,\n",
    "        fill_mode='constant'\n",
    "    )\n",
    "])"
   ]
  },
  {
   "cell_type": "code",
   "execution_count": 11,
   "id": "53a7e097-13a2-49d1-8fbe-b66ece47e06d",
   "metadata": {},
   "outputs": [],
   "source": [
    "def create_dataset(images, labels, batch_size=32, augment=True):\n",
    "    dataset = tf.data.Dataset.from_tensor_slices((images, labels))\n",
    "\n",
    "    dataset = dataset.shuffle(1024, reshuffle_each_iteration=True)\n",
    "    dataset = dataset.map(normalize_img, num_parallel_calls=tf.data.AUTOTUNE)\n",
    "    \n",
    "    if augment:\n",
    "        dataset = dataset.map(\n",
    "            lambda x, y: (data_augmentation(x, training=True), y),  \n",
    "            num_parallel_calls=tf.data.AUTOTUNE\n",
    "        )\n",
    "    \n",
    "    dataset = dataset.batch(batch_size)\n",
    "    dataset = dataset.prefetch(tf.data.AUTOTUNE)\n",
    "    \n",
    "    return dataset"
   ]
  },
  {
   "cell_type": "code",
   "execution_count": 12,
   "id": "3709b9e3-2b80-46d1-8042-e01e15871f7f",
   "metadata": {},
   "outputs": [],
   "source": [
    "batch_size = 64\n",
    "train_dataset = create_dataset(X_train, y_train, batch_size=batch_size, augment=True)\n",
    "val_dataset = create_dataset(X_val, y_val, batch_size=batch_size, augment=False)"
   ]
  },
  {
   "cell_type": "code",
   "execution_count": 29,
   "id": "a425d8b1-92cc-4537-aa1b-a424ee7c215f",
   "metadata": {
    "scrolled": true
   },
   "outputs": [],
   "source": [
    "def plot_augmented_images(dataset, class_names, n_images=5):\n",
    "    for images, labels in dataset.take(1):\n",
    "        plt.figure(figsize=(15, 3))\n",
    "        for i in range(n_images):\n",
    "            plt.subplot(1, n_images, i+1)\n",
    "            img = (images[i].numpy() + 1.0) * 127.5 # denormalize\n",
    "            plt.imshow(img, cmap='gray')\n",
    "            plt.title(class_names[labels[i].numpy()])\n",
    "            plt.axis('off')\n",
    "        plt.show()"
   ]
  },
  {
   "cell_type": "code",
   "execution_count": 28,
   "id": "299b64e5-7539-4f05-82bc-de6ce9fafc86",
   "metadata": {},
   "outputs": [
    {
     "data": {
      "image/png": "[encoded data removed]",
      "text/plain": [
       "<Figure size 1500x300 with 5 Axes>"
      ]
     },
     "metadata": {},
     "output_type": "display_data"
    }
   ],
   "source": [
    "plot_augmented_images(train_dataset, class_names)"
   ]
  },
  {
   "cell_type": "code",
   "execution_count": null,
   "id": "7ada818c-7f05-4a49-9ab2-e6913c7613fd",
   "metadata": {},
   "outputs": [],
   "source": []
  }
 ],
 "metadata": {
  "kernelspec": {
   "display_name": "Python 3 (ipykernel)",
   "language": "python",
   "name": "python3"
  },
  "language_info": {
   "codemirror_mode": {
    "name": "ipython",
    "version": 3
   },
   "file_extension": ".py",
   "mimetype": "text/x-python",
   "name": "python",
   "nbconvert_exporter": "python",
   "pygments_lexer": "ipython3",
   "version": "3.11.8"
  }
 },
 "nbformat": 4,
 "nbformat_minor": 5
}
