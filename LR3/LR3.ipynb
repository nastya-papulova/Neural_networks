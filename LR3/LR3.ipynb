{
 "cells": [
  {
   "cell_type": "code",
   "execution_count": 1,
   "id": "a36eec75-dcef-404a-8fcc-b32fea0fbe2f",
   "metadata": {},
   "outputs": [],
   "source": [
    "import numpy as np\n",
    "import tensorflow as tf\n",
    "from tensorflow.keras import layers\n",
    "import matplotlib.pyplot as plt\n",
    "%matplotlib inline"
   ]
  },
  {
   "cell_type": "code",
   "execution_count": 2,
   "id": "656f2fea-3a8b-4603-b82e-3546d71e09cf",
   "metadata": {},
   "outputs": [],
   "source": [
    "class_names = ['ant', 'axe', 'bear', 'bee', 'nose']\n",
    "num_classes = 5\n",
    "img_size = 28\n",
    "batch_size = 32\n",
    "samples_per_class = 5000"
   ]
  },
  {
   "cell_type": "code",
   "execution_count": 3,
   "id": "9dae8d88-7d06-4043-9735-f4d60562c97f",
   "metadata": {},
   "outputs": [],
   "source": [
    "def load_data(class_names, samples_per_class):\n",
    "    images = []\n",
    "    labels = []\n",
    "    \n",
    "    for idx, class_name in enumerate(class_names):\n",
    "        data = np.load(f'dataset/full_numpy_bitmap_{class_name}.npy')\n",
    "        data = data[:samples_per_class] \n",
    "        images.append(data)\n",
    "        labels.extend([idx] * len(data))\n",
    "    \n",
    "    images = np.concatenate(images, axis=0)\n",
    "    images = images.reshape(-1, 28, 28, 1)\n",
    "    labels = np.array(labels)\n",
    "    \n",
    "    return images, labels"
   ]
  },
  {
   "cell_type": "code",
   "execution_count": 4,
   "id": "ec2534e3-9d46-4e6f-a982-ce17b6967806",
   "metadata": {},
   "outputs": [],
   "source": [
    "images, labels = load_data(class_names, samples_per_class)"
   ]
  },
  {
   "cell_type": "code",
   "execution_count": 5,
   "id": "81686f60-2f45-4c8a-af60-3ad753316174",
   "metadata": {},
   "outputs": [
    {
     "data": {
      "text/plain": [
       "(25000, 28, 28, 1)"
      ]
     },
     "execution_count": 5,
     "metadata": {},
     "output_type": "execute_result"
    }
   ],
   "source": [
    "images.shape"
   ]
  },
  {
   "cell_type": "code",
   "execution_count": 6,
   "id": "4be4331c-ce0e-490c-94e0-e2680b1554f5",
   "metadata": {
    "scrolled": true
   },
   "outputs": [
    {
     "data": {
      "image/png": "[encoded data removed]",
      "text/plain": [
       "<Figure size 1500x300 with 5 Axes>"
      ]
     },
     "metadata": {},
     "output_type": "display_data"
    }
   ],
   "source": [
    "# lets look at the first image of each class\n",
    "plt.figure(figsize=(15, 3))\n",
    "for i in range(5):\n",
    "    idx = np.where(labels == i)[0][0]     \n",
    "    plt.subplot(1, 5, i+1)\n",
    "    plt.imshow(images[idx].squeeze(), cmap='gray')  \n",
    "    plt.title(class_names[i])\n",
    "    plt.axis('off')\n",
    "plt.show()"
   ]
  },
  {
   "cell_type": "code",
   "execution_count": 7,
   "id": "ea9ad425-a8a1-4a0f-8089-de0211e123db",
   "metadata": {},
   "outputs": [],
   "source": [
    "from sklearn.model_selection import train_test_split\n",
    "X_train, X_val, y_train, y_val = train_test_split(images, labels, test_size=0.2, random_state=42)"
   ]
  },
  {
   "cell_type": "code",
   "execution_count": 8,
   "id": "f15a11c7-be91-4749-a5d8-25017063061a",
   "metadata": {},
   "outputs": [],
   "source": [
    "from tensorflow import keras"
   ]
  },
  {
   "cell_type": "code",
   "execution_count": 9,
   "id": "4dffc98f-2ffd-4e78-bb06-5d88cac89d17",
   "metadata": {},
   "outputs": [],
   "source": [
    "def normalize_img(image, label):\n",
    "    return tf.cast(image, tf.float32) / 127.5 - 1.0, label\n"
   ]
  },
  {
   "cell_type": "code",
   "execution_count": 10,
   "id": "b7cad02f-43a7-4299-be68-cb59c52d9b14",
   "metadata": {},
   "outputs": [],
   "source": [
    "data_augmentation = keras.Sequential([\n",
    "    layers.RandomRotation(\n",
    "        factor=0.15,  \n",
    "        fill_mode='constant',\n",
    "        fill_value=0.0  \n",
    "    ),\n",
    "    layers.RandomZoom(\n",
    "        height_factor=(-0.1, 0.2),  \n",
    "        width_factor=(-0.1, 0.2),\n",
    "        fill_mode='constant',\n",
    "        fill_value=0.0  \n",
    "    ), \n",
    "    layers.RandomTranslation(\n",
    "        height_factor=0.1,\n",
    "        width_factor=0.1,\n",
    "        fill_mode='constant',\n",
    "        fill_value=0.0  \n",
    "    )\n",
    "])"
   ]
  },
  {
   "cell_type": "code",
   "execution_count": 11,
   "id": "53a7e097-13a2-49d1-8fbe-b66ece47e06d",
   "metadata": {},
   "outputs": [],
   "source": [
    "def create_dataset(images, labels, batch_size=32, augment=True):\n",
    "    dataset = tf.data.Dataset.from_tensor_slices((images, labels))\n",
    "\n",
    "    dataset = dataset.shuffle(1024, reshuffle_each_iteration=True)\n",
    "  \n",
    "    if augment:\n",
    "        dataset = dataset.map(\n",
    "            lambda x, y: (data_augmentation(x, training=True), y),  \n",
    "            num_parallel_calls=tf.data.AUTOTUNE\n",
    "        )\n",
    "\n",
    "    dataset = dataset.map(normalize_img, num_parallel_calls=tf.data.AUTOTUNE)\n",
    "    dataset = dataset.batch(batch_size)\n",
    "    dataset = dataset.prefetch(tf.data.AUTOTUNE)\n",
    "    \n",
    "    return dataset"
   ]
  },
  {
   "cell_type": "code",
   "execution_count": 12,
   "id": "3709b9e3-2b80-46d1-8042-e01e15871f7f",
   "metadata": {},
   "outputs": [],
   "source": [
    "batch_size = 64\n",
    "train_dataset = create_dataset(X_train, y_train, batch_size=batch_size, augment=True)\n",
    "val_dataset = create_dataset(X_val, y_val, batch_size=batch_size, augment=False)"
   ]
  },
  {
   "cell_type": "code",
   "execution_count": 13,
   "id": "a425d8b1-92cc-4537-aa1b-a424ee7c215f",
   "metadata": {
    "scrolled": true
   },
   "outputs": [],
   "source": [
    "def plot_augmented_images(dataset, class_names, n_images=5):\n",
    "    for images, labels in dataset.take(1):\n",
    "        plt.figure(figsize=(15, 3))\n",
    "        for i in range(n_images):\n",
    "            plt.subplot(1, n_images, i+1)\n",
    "            img = (images[i].numpy() + 1.0) * 127.5 # denormalize\n",
    "            plt.imshow(img, cmap='gray')\n",
    "            plt.title(class_names[labels[i].numpy()])\n",
    "            plt.axis('off')\n",
    "        plt.show()"
   ]
  },
  {
   "cell_type": "code",
   "execution_count": 14,
   "id": "299b64e5-7539-4f05-82bc-de6ce9fafc86",
   "metadata": {},
   "outputs": [
    {
     "data": {
      "image/png": "[encoded data removed]",
      "text/plain": [
       "<Figure size 1500x300 with 5 Axes>"
      ]
     },
     "metadata": {},
     "output_type": "display_data"
    }
   ],
   "source": [
    "plot_augmented_images(train_dataset, class_names)"
   ]
  },
  {
   "cell_type": "markdown",
   "id": "f21849f3-355a-45c5-8e87-db3eab8d988c",
   "metadata": {},
   "source": [
    "# Task 2"
   ]
  },
  {
   "cell_type": "code",
   "execution_count": 15,
   "id": "7bae624a-6ebb-45b4-8df4-0837fcf6b3a5",
   "metadata": {},
   "outputs": [],
   "source": [
    "latent_dim = 100"
   ]
  },
  {
   "cell_type": "code",
   "execution_count": 16,
   "id": "3d9fb0dd-074f-4909-b6eb-eb45127a4b44",
   "metadata": {},
   "outputs": [],
   "source": [
    "# resnet\n",
    "def make_generator_model_1():\n",
    "    noise_input = layers.Input(shape=(latent_dim,))\n",
    "    label_input = layers.Input(shape=(1,))\n",
    "      \n",
    "    label_embedding = layers.Embedding(5, 50)(label_input)\n",
    "    label_embedding = layers.Flatten()(label_embedding)\n",
    "    \n",
    "    combined = layers.Concatenate()([noise_input, label_embedding])\n",
    "    \n",
    "    x = layers.Dense(7*7*256)(combined)\n",
    "    x = layers.Reshape((7, 7, 256))(x)\n",
    "    \n",
    "    # residual block 1\n",
    "    def residual_block(x, filters):\n",
    "        shortcut = x\n",
    "        x = layers.Conv2DTranspose(filters, 3, padding='same')(x)\n",
    "        x = layers.BatchNormalization()(x)\n",
    "        x = layers.ReLU()(x)\n",
    "        x = layers.Conv2DTranspose(filters, 3, padding='same')(x)\n",
    "        x = layers.BatchNormalization()(x)\n",
    "        return layers.Add()([x, shortcut])\n",
    "    \n",
    "    x = residual_block(x, 256)\n",
    "    \n",
    "    # upsample\n",
    "    x = layers.Conv2DTranspose(128, 5, strides=2, padding='same')(x)\n",
    "    x = layers.BatchNormalization()(x)\n",
    "    x = layers.ReLU()(x)\n",
    "    \n",
    "    # residual block 2\n",
    "    x = residual_block(x, 128)\n",
    "    \n",
    "    x = layers.Conv2DTranspose(64, 5, strides=2, padding='same')(x)\n",
    "    x = layers.BatchNormalization()(x)\n",
    "    x = layers.ReLU()(x)\n",
    "    \n",
    "    output = layers.Conv2DTranspose(1, 5, padding='same', activation='tanh')(x)\n",
    "    \n",
    "    return keras.Model([noise_input, label_input], output)\n",
    "\n",
    "def make_discriminator_model_1():\n",
    "    img_input = layers.Input(shape=(28,28,1))\n",
    "    label_input = layers.Input(shape=(1,))\n",
    "    \n",
    "    label_embedding = layers.Embedding(5, 50)(label_input)\n",
    "    label_embedding = layers.Flatten()(label_embedding)\n",
    "    label_embedding = layers.Dense(28*28)(label_embedding)\n",
    "    label_embedding = layers.Reshape((28,28,1))(label_embedding)\n",
    "    \n",
    "    combined = layers.Concatenate(axis=-1)([img_input, label_embedding])  \n",
    "    \n",
    "    x = layers.Conv2D(64, 5, strides=2, padding='same')(combined)\n",
    "    x = layers.LeakyReLU(0.2)(x)  # (14,14,64)\n",
    "    \n",
    "    def residual_block(x, filters):\n",
    "        shortcut = x\n",
    "\n",
    "        if shortcut.shape[-1] != filters:\n",
    "            shortcut = layers.Conv2D(filters, 1)(shortcut)  # 1x1 conv \n",
    "    \n",
    "        x = layers.Conv2D(filters, 3, padding='same')(x)\n",
    "        x = layers.LeakyReLU(0.2)(x)\n",
    "        x = layers.Conv2D(filters, 3, padding='same')(x)\n",
    "        return layers.Add()([x, shortcut])\n",
    "    \n",
    "    x = residual_block(x, 128)  # (14,14,128)\n",
    "    x = layers.LeakyReLU(0.2)(x)\n",
    "    \n",
    "    x = layers.Flatten()(x)\n",
    "    x = layers.Dense(1, activation='sigmoid')(x)\n",
    "    \n",
    "    return keras.Model([img_input, label_input], x)"
   ]
  },
  {
   "cell_type": "code",
   "execution_count": 17,
   "id": "39b1878c-bfef-4cc7-b8e2-975e86617814",
   "metadata": {},
   "outputs": [
    {
     "name": "stdout",
     "output_type": "stream",
     "text": [
      "Генератор: (1, 28, 28, 1)\n",
      "Дискриминатор: (1, 1)\n",
      "Совместимость подтверждена\n"
     ]
    }
   ],
   "source": [
    "# Тест генерации\n",
    "generator = make_generator_model_1()\n",
    "noise = tf.random.normal([1, latent_dim])\n",
    "label = tf.constant([[3]])\n",
    "generated_img = generator([noise, label])\n",
    "print(\"Генератор:\", generated_img.shape)  # Должно быть (1, 28, 28, 1)\n",
    "\n",
    "# Тест дискриминации\n",
    "discriminator = make_discriminator_model_1()\n",
    "decision = discriminator([generated_img, label])  \n",
    "print(\"Дискриминатор:\", decision.shape)  # Должно быть (1, 1)\n",
    "\n",
    "# Тест совместимости\n",
    "try:\n",
    "    assert generated_img.shape[1:] == discriminator.input_shape[0][1:]\n",
    "    print(\"Совместимость подтверждена\")\n",
    "except AssertionError as e:\n",
    "    print(f\"Ошибка совместимости: {str(e)}\")\n"
   ]
  },
  {
   "cell_type": "code",
   "execution_count": 21,
   "id": "19170654-d527-45e8-9f89-53edd75e993b",
   "metadata": {},
   "outputs": [],
   "source": [
    "# sagan \n",
    "def self_attention_block(x):\n",
    "    batch, H, W, C = tf.unstack(tf.shape(x))\n",
    "    f = layers.Conv2D(C//8, 1)(x)\n",
    "    g = layers.Conv2D(C//8, 1)(x)\n",
    "    h = layers.Conv2D(C, 1)(x)\n",
    "    \n",
    "    s = tf.matmul(\n",
    "        tf.reshape(g, [batch, H*W, C//8]), \n",
    "        tf.reshape(f, [batch, H*W, C//8]), transpose_b=True\n",
    "    )\n",
    "    beta = tf.nn.softmax(s)\n",
    "    o = tf.matmul(beta, tf.reshape(h, [batch, H*W, C]))\n",
    "    o = tf.reshape(o, [batch, H, W, C])\n",
    "    return layers.LayerNormalization()(o + x)\n",
    "\n",
    "def make_generator_model_2(latent_dim=100):\n",
    "    noise = layers.Input(shape=(latent_dim,))\n",
    "    label = layers.Input(shape=(1,))\n",
    "    \n",
    "    label_embed = layers.Embedding(5, 50)(label)\n",
    "    label_embed = layers.Dense(latent_dim)(label_embed)\n",
    "    label_embed = layers.Reshape((latent_dim,))(label_embed)\n",
    "    \n",
    "\n",
    "    combined = layers.Multiply()([noise, label_embed])\n",
    "    \n",
    "\n",
    "    x = layers.Dense(7*7*256)(combined)\n",
    "    x = layers.Reshape((7,7,256))(x)\n",
    "    \n",
    "\n",
    "    x = layers.Conv2DTranspose(128, 5, strides=2, padding='same')(x)\n",
    "    x = layers.BatchNormalization()(x)\n",
    "    x = layers.ReLU()(x)\n",
    "    \n",
    "\n",
    "    x = self_attention_block(x)\n",
    "    \n",
    "\n",
    "    x = layers.Conv2DTranspose(64, 5, strides=2, padding='same')(x)\n",
    "    x = layers.BatchNormalization()(x)\n",
    "    x = layers.ReLU()(x)\n",
    "    \n",
    "\n",
    "    out = layers.Conv2D(1, 7, padding='same', activation='tanh')(x)\n",
    "    \n",
    "    return keras.Model([noise, label], out)\n",
    "\n",
    "def make_discriminator_model_2():\n",
    "    img = layers.Input(shape=(28,28,1))\n",
    "    label = layers.Input(shape=(1,))\n",
    "    \n",
    "    label_embed = layers.Embedding(5, 50)(label)\n",
    "    label_embed = layers.Dense(28*28)(label_embed)\n",
    "    label_embed = layers.Reshape((28,28,1))(label_embed)\n",
    "    \n",
    "    combined = layers.Concatenate(axis=-1)([img, label_embed])\n",
    "    \n",
    "    x = layers.Conv2D(64, 5, strides=2, padding='same')(combined)\n",
    "    x = layers.LeakyReLU(0.2)(x)\n",
    "    \n",
    "    x = self_attention_block(x)\n",
    "    \n",
    "    x = layers.Conv2D(128, 5, strides=2, padding='same')(x)\n",
    "    x = layers.LeakyReLU(0.2)(x)\n",
    "    \n",
    "    x = layers.GlobalAveragePooling2D()(x)\n",
    "    out = layers.Dense(1, activation='sigmoid')(x)\n",
    "    \n",
    "    return keras.Model([img, label], out)"
   ]
  },
  {
   "cell_type": "code",
   "execution_count": 24,
   "id": "8d184273-67c8-4179-a1d1-4a3af6f2b75f",
   "metadata": {},
   "outputs": [
    {
     "ename": "TypeError",
     "evalue": "Keras symbolic inputs/outputs do not implement `__len__`. You may be trying to pass Keras symbolic inputs/outputs to a TF API that does not register dispatching, preventing Keras from automatically converting the API call to a lambda layer in the Functional Model. This error will also get raised if you try asserting a symbolic input/output directly.",
     "output_type": "error",
     "traceback": [
      "\u001b[1;31m---------------------------------------------------------------------------\u001b[0m",
      "\u001b[1;31mTypeError\u001b[0m                                 Traceback (most recent call last)",
      "Cell \u001b[1;32mIn[24], line 2\u001b[0m\n\u001b[0;32m      1\u001b[0m \u001b[38;5;66;03m# Тест генерации\u001b[39;00m\n\u001b[1;32m----> 2\u001b[0m generator \u001b[38;5;241m=\u001b[39m make_generator_model_2()\n\u001b[0;32m      3\u001b[0m noise \u001b[38;5;241m=\u001b[39m tf\u001b[38;5;241m.\u001b[39mrandom\u001b[38;5;241m.\u001b[39mnormal([\u001b[38;5;241m1\u001b[39m, \u001b[38;5;241m100\u001b[39m])\n\u001b[0;32m      4\u001b[0m label \u001b[38;5;241m=\u001b[39m tf\u001b[38;5;241m.\u001b[39mconstant([[\u001b[38;5;241m3\u001b[39m]])  \u001b[38;5;66;03m# Класс 3\u001b[39;00m\n",
      "Cell \u001b[1;32mIn[21], line 38\u001b[0m, in \u001b[0;36mmake_generator_model_2\u001b[1;34m(latent_dim)\u001b[0m\n\u001b[0;32m     34\u001b[0m x \u001b[38;5;241m=\u001b[39m layers\u001b[38;5;241m.\u001b[39mBatchNormalization()(x)\n\u001b[0;32m     35\u001b[0m x \u001b[38;5;241m=\u001b[39m layers\u001b[38;5;241m.\u001b[39mReLU()(x)\n\u001b[1;32m---> 38\u001b[0m x \u001b[38;5;241m=\u001b[39m self_attention_block(x)\n\u001b[0;32m     41\u001b[0m x \u001b[38;5;241m=\u001b[39m layers\u001b[38;5;241m.\u001b[39mConv2DTranspose(\u001b[38;5;241m64\u001b[39m, \u001b[38;5;241m5\u001b[39m, strides\u001b[38;5;241m=\u001b[39m\u001b[38;5;241m2\u001b[39m, padding\u001b[38;5;241m=\u001b[39m\u001b[38;5;124m'\u001b[39m\u001b[38;5;124msame\u001b[39m\u001b[38;5;124m'\u001b[39m)(x)\n\u001b[0;32m     42\u001b[0m x \u001b[38;5;241m=\u001b[39m layers\u001b[38;5;241m.\u001b[39mBatchNormalization()(x)\n",
      "Cell \u001b[1;32mIn[21], line 4\u001b[0m, in \u001b[0;36mself_attention_block\u001b[1;34m(x)\u001b[0m\n\u001b[0;32m      2\u001b[0m \u001b[38;5;28;01mdef\u001b[39;00m \u001b[38;5;21mself_attention_block\u001b[39m(x):\n\u001b[0;32m      3\u001b[0m     batch, H, W, C \u001b[38;5;241m=\u001b[39m tf\u001b[38;5;241m.\u001b[39munstack(tf\u001b[38;5;241m.\u001b[39mshape(x))\n\u001b[1;32m----> 4\u001b[0m     f \u001b[38;5;241m=\u001b[39m layers\u001b[38;5;241m.\u001b[39mConv2D(C\u001b[38;5;241m/\u001b[39m\u001b[38;5;241m/\u001b[39m\u001b[38;5;241m8\u001b[39m, \u001b[38;5;241m1\u001b[39m)(x)\n\u001b[0;32m      5\u001b[0m     g \u001b[38;5;241m=\u001b[39m layers\u001b[38;5;241m.\u001b[39mConv2D(C\u001b[38;5;241m/\u001b[39m\u001b[38;5;241m/\u001b[39m\u001b[38;5;241m8\u001b[39m, \u001b[38;5;241m1\u001b[39m)(x)\n\u001b[0;32m      6\u001b[0m     h \u001b[38;5;241m=\u001b[39m layers\u001b[38;5;241m.\u001b[39mConv2D(C, \u001b[38;5;241m1\u001b[39m)(x)\n",
      "File \u001b[1;32m~\\anaconda3\\Lib\\site-packages\\keras\\src\\dtensor\\utils.py:96\u001b[0m, in \u001b[0;36mallow_initializer_layout.<locals>._wrap_function\u001b[1;34m(layer_instance, *args, **kwargs)\u001b[0m\n\u001b[0;32m     93\u001b[0m         \u001b[38;5;28;01mif\u001b[39;00m layout:\n\u001b[0;32m     94\u001b[0m             layout_args[variable_name \u001b[38;5;241m+\u001b[39m \u001b[38;5;124m\"\u001b[39m\u001b[38;5;124m_layout\u001b[39m\u001b[38;5;124m\"\u001b[39m] \u001b[38;5;241m=\u001b[39m layout\n\u001b[1;32m---> 96\u001b[0m init_method(layer_instance, \u001b[38;5;241m*\u001b[39margs, \u001b[38;5;241m*\u001b[39m\u001b[38;5;241m*\u001b[39mkwargs)\n\u001b[0;32m     98\u001b[0m \u001b[38;5;66;03m# Inject the layout parameter after the invocation of __init__()\u001b[39;00m\n\u001b[0;32m     99\u001b[0m \u001b[38;5;28;01mfor\u001b[39;00m layout_param_name, layout \u001b[38;5;129;01min\u001b[39;00m layout_args\u001b[38;5;241m.\u001b[39mitems():\n",
      "File \u001b[1;32m~\\anaconda3\\Lib\\site-packages\\keras\\src\\layers\\convolutional\\conv2d.py:179\u001b[0m, in \u001b[0;36mConv2D.__init__\u001b[1;34m(self, filters, kernel_size, strides, padding, data_format, dilation_rate, groups, activation, use_bias, kernel_initializer, bias_initializer, kernel_regularizer, bias_regularizer, activity_regularizer, kernel_constraint, bias_constraint, **kwargs)\u001b[0m\n\u001b[0;32m    158\u001b[0m \u001b[38;5;129m@utils\u001b[39m\u001b[38;5;241m.\u001b[39mallow_initializer_layout\n\u001b[0;32m    159\u001b[0m \u001b[38;5;28;01mdef\u001b[39;00m \u001b[38;5;21m__init__\u001b[39m(\n\u001b[0;32m    160\u001b[0m     \u001b[38;5;28mself\u001b[39m,\n\u001b[1;32m   (...)\u001b[0m\n\u001b[0;32m    177\u001b[0m     \u001b[38;5;241m*\u001b[39m\u001b[38;5;241m*\u001b[39mkwargs\n\u001b[0;32m    178\u001b[0m ):\n\u001b[1;32m--> 179\u001b[0m     \u001b[38;5;28msuper\u001b[39m()\u001b[38;5;241m.\u001b[39m\u001b[38;5;21m__init__\u001b[39m(\n\u001b[0;32m    180\u001b[0m         rank\u001b[38;5;241m=\u001b[39m\u001b[38;5;241m2\u001b[39m,\n\u001b[0;32m    181\u001b[0m         filters\u001b[38;5;241m=\u001b[39mfilters,\n\u001b[0;32m    182\u001b[0m         kernel_size\u001b[38;5;241m=\u001b[39mkernel_size,\n\u001b[0;32m    183\u001b[0m         strides\u001b[38;5;241m=\u001b[39mstrides,\n\u001b[0;32m    184\u001b[0m         padding\u001b[38;5;241m=\u001b[39mpadding,\n\u001b[0;32m    185\u001b[0m         data_format\u001b[38;5;241m=\u001b[39mdata_format,\n\u001b[0;32m    186\u001b[0m         dilation_rate\u001b[38;5;241m=\u001b[39mdilation_rate,\n\u001b[0;32m    187\u001b[0m         groups\u001b[38;5;241m=\u001b[39mgroups,\n\u001b[0;32m    188\u001b[0m         activation\u001b[38;5;241m=\u001b[39mactivations\u001b[38;5;241m.\u001b[39mget(activation),\n\u001b[0;32m    189\u001b[0m         use_bias\u001b[38;5;241m=\u001b[39muse_bias,\n\u001b[0;32m    190\u001b[0m         kernel_initializer\u001b[38;5;241m=\u001b[39minitializers\u001b[38;5;241m.\u001b[39mget(kernel_initializer),\n\u001b[0;32m    191\u001b[0m         bias_initializer\u001b[38;5;241m=\u001b[39minitializers\u001b[38;5;241m.\u001b[39mget(bias_initializer),\n\u001b[0;32m    192\u001b[0m         kernel_regularizer\u001b[38;5;241m=\u001b[39mregularizers\u001b[38;5;241m.\u001b[39mget(kernel_regularizer),\n\u001b[0;32m    193\u001b[0m         bias_regularizer\u001b[38;5;241m=\u001b[39mregularizers\u001b[38;5;241m.\u001b[39mget(bias_regularizer),\n\u001b[0;32m    194\u001b[0m         activity_regularizer\u001b[38;5;241m=\u001b[39mregularizers\u001b[38;5;241m.\u001b[39mget(activity_regularizer),\n\u001b[0;32m    195\u001b[0m         kernel_constraint\u001b[38;5;241m=\u001b[39mconstraints\u001b[38;5;241m.\u001b[39mget(kernel_constraint),\n\u001b[0;32m    196\u001b[0m         bias_constraint\u001b[38;5;241m=\u001b[39mconstraints\u001b[38;5;241m.\u001b[39mget(bias_constraint),\n\u001b[0;32m    197\u001b[0m         \u001b[38;5;241m*\u001b[39m\u001b[38;5;241m*\u001b[39mkwargs\n\u001b[0;32m    198\u001b[0m     )\n",
      "File \u001b[1;32m~\\anaconda3\\Lib\\site-packages\\keras\\src\\layers\\convolutional\\base_conv.py:128\u001b[0m, in \u001b[0;36mConv.__init__\u001b[1;34m(self, rank, filters, kernel_size, strides, padding, data_format, dilation_rate, groups, activation, use_bias, kernel_initializer, bias_initializer, kernel_regularizer, bias_regularizer, activity_regularizer, kernel_constraint, bias_constraint, trainable, name, conv_op, **kwargs)\u001b[0m\n\u001b[0;32m    126\u001b[0m \u001b[38;5;28;01mif\u001b[39;00m \u001b[38;5;28misinstance\u001b[39m(filters, \u001b[38;5;28mfloat\u001b[39m):\n\u001b[0;32m    127\u001b[0m     filters \u001b[38;5;241m=\u001b[39m \u001b[38;5;28mint\u001b[39m(filters)\n\u001b[1;32m--> 128\u001b[0m \u001b[38;5;28;01mif\u001b[39;00m filters \u001b[38;5;129;01mis\u001b[39;00m \u001b[38;5;129;01mnot\u001b[39;00m \u001b[38;5;28;01mNone\u001b[39;00m \u001b[38;5;129;01mand\u001b[39;00m filters \u001b[38;5;241m<\u001b[39m\u001b[38;5;241m=\u001b[39m \u001b[38;5;241m0\u001b[39m:\n\u001b[0;32m    129\u001b[0m     \u001b[38;5;28;01mraise\u001b[39;00m \u001b[38;5;167;01mValueError\u001b[39;00m(\n\u001b[0;32m    130\u001b[0m         \u001b[38;5;124m\"\u001b[39m\u001b[38;5;124mInvalid value for argument `filters`. \u001b[39m\u001b[38;5;124m\"\u001b[39m\n\u001b[0;32m    131\u001b[0m         \u001b[38;5;124m\"\u001b[39m\u001b[38;5;124mExpected a strictly positive value. \u001b[39m\u001b[38;5;124m\"\u001b[39m\n\u001b[0;32m    132\u001b[0m         \u001b[38;5;124mf\u001b[39m\u001b[38;5;124m\"\u001b[39m\u001b[38;5;124mReceived filters=\u001b[39m\u001b[38;5;132;01m{\u001b[39;00mfilters\u001b[38;5;132;01m}\u001b[39;00m\u001b[38;5;124m.\u001b[39m\u001b[38;5;124m\"\u001b[39m\n\u001b[0;32m    133\u001b[0m     )\n\u001b[0;32m    134\u001b[0m \u001b[38;5;28mself\u001b[39m\u001b[38;5;241m.\u001b[39mfilters \u001b[38;5;241m=\u001b[39m filters\n",
      "File \u001b[1;32m~\\anaconda3\\Lib\\site-packages\\keras\\src\\engine\\keras_tensor.py:246\u001b[0m, in \u001b[0;36mKerasTensor.__len__\u001b[1;34m(self)\u001b[0m\n\u001b[0;32m    245\u001b[0m \u001b[38;5;28;01mdef\u001b[39;00m \u001b[38;5;21m__len__\u001b[39m(\u001b[38;5;28mself\u001b[39m):\n\u001b[1;32m--> 246\u001b[0m     \u001b[38;5;28;01mraise\u001b[39;00m \u001b[38;5;167;01mTypeError\u001b[39;00m(\n\u001b[0;32m    247\u001b[0m         \u001b[38;5;124m\"\u001b[39m\u001b[38;5;124mKeras symbolic inputs/outputs do not \u001b[39m\u001b[38;5;124m\"\u001b[39m\n\u001b[0;32m    248\u001b[0m         \u001b[38;5;124m\"\u001b[39m\u001b[38;5;124mimplement `__len__`. You may be \u001b[39m\u001b[38;5;124m\"\u001b[39m\n\u001b[0;32m    249\u001b[0m         \u001b[38;5;124m\"\u001b[39m\u001b[38;5;124mtrying to pass Keras symbolic inputs/outputs \u001b[39m\u001b[38;5;124m\"\u001b[39m\n\u001b[0;32m    250\u001b[0m         \u001b[38;5;124m\"\u001b[39m\u001b[38;5;124mto a TF API that does not register dispatching, \u001b[39m\u001b[38;5;124m\"\u001b[39m\n\u001b[0;32m    251\u001b[0m         \u001b[38;5;124m\"\u001b[39m\u001b[38;5;124mpreventing Keras from automatically \u001b[39m\u001b[38;5;124m\"\u001b[39m\n\u001b[0;32m    252\u001b[0m         \u001b[38;5;124m\"\u001b[39m\u001b[38;5;124mconverting the API call to a lambda layer \u001b[39m\u001b[38;5;124m\"\u001b[39m\n\u001b[0;32m    253\u001b[0m         \u001b[38;5;124m\"\u001b[39m\u001b[38;5;124min the Functional Model. This error will also get raised \u001b[39m\u001b[38;5;124m\"\u001b[39m\n\u001b[0;32m    254\u001b[0m         \u001b[38;5;124m\"\u001b[39m\u001b[38;5;124mif you try asserting a symbolic input/output directly.\u001b[39m\u001b[38;5;124m\"\u001b[39m\n\u001b[0;32m    255\u001b[0m     )\n",
      "\u001b[1;31mTypeError\u001b[0m: Keras symbolic inputs/outputs do not implement `__len__`. You may be trying to pass Keras symbolic inputs/outputs to a TF API that does not register dispatching, preventing Keras from automatically converting the API call to a lambda layer in the Functional Model. This error will also get raised if you try asserting a symbolic input/output directly."
     ]
    }
   ],
   "source": [
    "# Тест генерации\n",
    "generator = make_generator_model_2()\n",
    "noise = tf.random.normal([1, 100])\n",
    "label = tf.constant([[3]])  # Класс 3\n",
    "generated_img = generator([noise, label])\n",
    "print(\"Генератор:\", generated_img.shape)  # (1, 28, 28, 1)\n",
    "\n",
    "# Тест дискриминации\n",
    "discriminator = make_generator_model_2()\n",
    "decision = discriminator([generated_img, label])\n",
    "print(\"Дискриминатор:\", decision.shape)  # (1, 1)\n",
    "\n",
    "# Проверка совместимости\n",
    "assert generated_img.shape[1:] == discriminator.input_shape[0][1:]\n",
    "print(\"✅ Совместимость подтверждена\")"
   ]
  },
  {
   "cell_type": "code",
   "execution_count": 24,
   "id": "55725f20-4b84-4d43-8fb1-4bfef0f1db18",
   "metadata": {},
   "outputs": [],
   "source": [
    "# dense U-net\n",
    "def make_dense_generator_model_3():\n",
    "    def dense_block(x, filters, num_layers=3):\n",
    "        for _ in range(num_layers):\n",
    "            y = layers.Conv2DTranspose(filters, 3, padding='same')(x)\n",
    "            y = layers.InstanceNormalization()(y)\n",
    "            y = layers.LeakyReLU(0.2)(y)\n",
    "            x = layers.Concatenate()([x, y])\n",
    "        return x\n",
    "\n",
    "    latent = keras.Input(shape=(latent_dim,))\n",
    "\n",
    "    x = layers.Dense(7*7*256)(latent)\n",
    "    x = layers.Reshape((7, 7, 256))(x)\n",
    "    \n",
    "\n",
    "    x = dense_block(x, 128)\n",
    "    x = layers.UpSampling2D(2)(x)  # 14x14\n",
    "    \n",
    "    x = dense_block(x, 64)\n",
    "    x = layers.UpSampling2D(2)(x)  # 28x28\n",
    "    \n",
    "    x = self_attention_block(x)\n",
    "    \n",
    "    outputs = layers.Conv2D(1, 7, padding='same', activation='tanh')(x)\n",
    "    \n",
    "    return keras.Model(latent, outputs)\n",
    "\n",
    "def make_discriminator_model_3():\n",
    "    def spectral_conv(filters, kernel, strides):\n",
    "        conv = layers.Conv2D(filters, kernel, strides=strides, padding='same')\n",
    "        return layers.SpectralNormalization(conv)\n",
    "\n",
    "    inp = keras.Input(shape=(28,28,1))\n",
    "    \n",
    "    x = spectral_conv(64, 5, 2)(inp)  # 14x14\n",
    "    x = layers.LeakyReLU(0.2)(x)\n",
    "    \n",
    "    x = spectral_conv(128, 5, 2)(x)  # 7x7\n",
    "    x = layers.LeakyReLU(0.2)(x)\n",
    "    \n",
    "    x = self_attention_block(x)\n",
    "    \n",
    "    # multiscale features\n",
    "    x1 = layers.GlobalMaxPooling2D()(x)\n",
    "    x2 = layers.GlobalAvgPool2D()(x)\n",
    "    x = layers.Concatenate()([x1, x2])\n",
    "    \n",
    "    outputs = layers.Dense(1, activation='sigmoid')(x)\n",
    "    \n",
    "    return keras.Model(inp, outputs)"
   ]
  },
  {
   "cell_type": "code",
   "execution_count": null,
   "id": "0e1e601c-a228-4a34-a107-7901babcc7a9",
   "metadata": {},
   "outputs": [],
   "source": []
  }
 ],
 "metadata": {
  "kernelspec": {
   "display_name": "Python 3 (ipykernel)",
   "language": "python",
   "name": "python3"
  },
  "language_info": {
   "codemirror_mode": {
    "name": "ipython",
    "version": 3
   },
   "file_extension": ".py",
   "mimetype": "text/x-python",
   "name": "python",
   "nbconvert_exporter": "python",
   "pygments_lexer": "ipython3",
   "version": "3.11.8"
  }
 },
 "nbformat": 4,
 "nbformat_minor": 5
}
