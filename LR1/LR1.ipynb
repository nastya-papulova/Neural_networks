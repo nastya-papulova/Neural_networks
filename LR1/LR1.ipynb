{
 "cells": [
  {
   "cell_type": "code",
   "execution_count": 1,
   "id": "d3788fcb-7765-4fe2-ab61-3b21fe61a4aa",
   "metadata": {},
   "outputs": [],
   "source": [
    "import scipy.io\n",
    "import numpy as np\n",
    "import matplotlib.pyplot as plt\n",
    "%matplotlib inline"
   ]
  },
  {
   "cell_type": "code",
   "execution_count": 2,
   "id": "401f5124-8b79-4114-87ba-8565f2aa1ead",
   "metadata": {},
   "outputs": [],
   "source": [
    "train = scipy.io.loadmat('dataset/train_32x32.mat')"
   ]
  },
  {
   "cell_type": "code",
   "execution_count": 82,
   "id": "8c9d7f24-e4ca-497c-a202-daaadd60e41c",
   "metadata": {
    "scrolled": true
   },
   "outputs": [
    {
     "data": {
      "text/plain": [
       "{'__header__': b'MATLAB 5.0 MAT-file, Platform: GLNXA64, Created on: Mon Dec  5 21:09:26 2011',\n",
       " '__version__': '1.0',\n",
       " '__globals__': [],\n",
       " 'X': array([[[[ 33,  84,  19, ...,  92, 190, 216],\n",
       "          [ 30,  76,  54, ...,  78, 188, 217],\n",
       "          [ 38,  59, 110, ..., 101, 191, 212]],\n",
       " \n",
       "         [[ 15,  86,  20, ...,  94, 205, 221],\n",
       "          [ 23,  73,  52, ...,  82, 203, 222],\n",
       "          [ 19,  66, 111, ..., 105, 206, 217]],\n",
       " \n",
       "         [[ 15,  77,  25, ..., 114, 220, 226],\n",
       "          [ 17,  78,  57, ..., 101, 218, 227],\n",
       "          [ 19,  56, 116, ..., 125, 220, 221]],\n",
       " \n",
       "         ...,\n",
       " \n",
       "         [[ 72,  90,  65, ..., 200, 229, 200],\n",
       "          [ 65,  78, 144, ..., 201, 231, 199],\n",
       "          [ 56,  69, 223, ..., 203, 224, 191]],\n",
       " \n",
       "         [[ 82,  88,  78, ..., 192, 229, 193],\n",
       "          [ 77,  77, 148, ..., 193, 229, 188],\n",
       "          [ 57,  67, 218, ..., 195, 224, 182]],\n",
       " \n",
       "         [[ 89,  88,  98, ..., 190, 229, 197],\n",
       "          [ 79,  78, 158, ..., 191, 228, 189],\n",
       "          [ 59,  66, 220, ..., 193, 223, 186]]],\n",
       " \n",
       " \n",
       "        [[[ 28,  85,  21, ...,  92, 183, 204],\n",
       "          [ 39,  77,  53, ...,  78, 182, 205],\n",
       "          [ 35,  61, 110, ..., 103, 186, 202]],\n",
       " \n",
       "         [[ 14,  83,  19, ...,  93, 200, 210],\n",
       "          [ 25,  73,  52, ...,  80, 199, 211],\n",
       "          [ 22,  64, 106, ..., 106, 201, 208]],\n",
       " \n",
       "         [[ 14,  74,  25, ..., 111, 218, 220],\n",
       "          [ 20,  69,  56, ...,  98, 217, 221],\n",
       "          [ 17,  59, 111, ..., 124, 218, 217]],\n",
       " \n",
       "         ...,\n",
       " \n",
       "         [[ 40,  89,  63, ..., 181, 227, 201],\n",
       "          [ 39,  82, 137, ..., 180, 228, 199],\n",
       "          [ 50,  64, 208, ..., 184, 223, 193]],\n",
       " \n",
       "         [[ 67,  88,  91, ..., 177, 227, 195],\n",
       "          [ 58,  79, 153, ..., 176, 226, 191],\n",
       "          [ 52,  70, 214, ..., 180, 222, 186]],\n",
       " \n",
       "         [[ 83,  88, 130, ..., 183, 228, 196],\n",
       "          [ 78,  81, 180, ..., 182, 224, 190],\n",
       "          [ 60,  67, 229, ..., 187, 221, 186]]],\n",
       " \n",
       " \n",
       "        [[[ 40,  83,  21, ...,  99, 171, 198],\n",
       "          [ 41,  76,  53, ...,  84, 170, 198],\n",
       "          [ 38,  60, 110, ..., 112, 175, 197]],\n",
       " \n",
       "         [[ 18,  78,  20, ...,  94, 189, 202],\n",
       "          [ 21,  77,  51, ...,  81, 189, 202],\n",
       "          [ 26,  58, 106, ..., 110, 193, 201]],\n",
       " \n",
       "         [[ 16,  61,  22, ..., 107, 213, 212],\n",
       "          [ 17,  50,  52, ...,  94, 213, 211],\n",
       "          [ 23,  54, 106, ..., 123, 215, 210]],\n",
       " \n",
       "         ...,\n",
       " \n",
       "         [[ 23,  90,  79, ..., 167, 231, 203],\n",
       "          [ 29,  85, 147, ..., 166, 230, 200],\n",
       "          [ 45,  63, 210, ..., 171, 226, 196]],\n",
       " \n",
       "         [[ 35,  88, 125, ..., 172, 229, 198],\n",
       "          [ 42,  83, 181, ..., 171, 226, 194],\n",
       "          [ 44,  66, 230, ..., 176, 223, 191]],\n",
       " \n",
       "         [[ 72,  85, 178, ..., 185, 227, 195],\n",
       "          [ 69,  82, 218, ..., 184, 223, 190],\n",
       "          [ 53,  70, 254, ..., 189, 220, 187]]],\n",
       " \n",
       " \n",
       "        ...,\n",
       " \n",
       " \n",
       "        [[[ 86, 100,  88, ...,  99, 187, 233],\n",
       "          [ 81,  98, 162, ...,  94, 185, 226],\n",
       "          [ 75,  72, 237, ..., 110, 186, 228]],\n",
       " \n",
       "         [[ 87,  98,  89, ...,  96, 204, 230],\n",
       "          [ 82,  94, 163, ...,  91, 202, 224],\n",
       "          [ 71,  76, 238, ..., 109, 199, 225]],\n",
       " \n",
       "         [[ 82,  95,  84, ..., 108, 217, 228],\n",
       "          [ 79,  93, 156, ..., 103, 217, 223],\n",
       "          [ 65,  73, 230, ..., 124, 210, 221]],\n",
       " \n",
       "         ...,\n",
       " \n",
       "         [[104, 104,  62, ..., 210, 204, 198],\n",
       "          [104, 104, 142, ..., 207, 200, 196],\n",
       "          [ 87,  86, 227, ..., 204, 195, 190]],\n",
       " \n",
       "         [[104, 102,  67, ..., 206, 196, 184],\n",
       "          [105, 102, 144, ..., 202, 193, 183],\n",
       "          [ 81,  87, 226, ..., 200, 189, 177]],\n",
       " \n",
       "         [[103, 100,  74, ..., 203, 196, 189],\n",
       "          [105, 101, 145, ..., 197, 193, 187],\n",
       "          [ 78,  78, 225, ..., 199, 189, 182]]],\n",
       " \n",
       " \n",
       "        [[[ 84, 103,  88, ...,  94, 186, 231],\n",
       "          [ 86, 104, 164, ...,  91, 184, 226],\n",
       "          [ 64,  79, 240, ..., 103, 185, 228]],\n",
       " \n",
       "         [[ 86, 106,  87, ...,  94, 198, 229],\n",
       "          [ 79, 104, 160, ...,  91, 197, 224],\n",
       "          [ 72,  79, 237, ..., 104, 194, 225]],\n",
       " \n",
       "         [[ 82, 103,  88, ..., 110, 211, 227],\n",
       "          [ 76, 103, 159, ..., 107, 211, 223],\n",
       "          [ 72,  87, 237, ..., 121, 204, 222]],\n",
       " \n",
       "         ...,\n",
       " \n",
       "         [[110, 103,  60, ..., 219, 222, 195],\n",
       "          [103, 104, 141, ..., 218, 216, 194],\n",
       "          [ 84,  86, 230, ..., 215, 212, 186]],\n",
       " \n",
       "         [[106, 103,  61, ..., 218, 214, 181],\n",
       "          [105, 103, 141, ..., 215, 209, 181],\n",
       "          [ 85,  87, 228, ..., 212, 205, 173]],\n",
       " \n",
       "         [[106, 105,  65, ..., 212, 208, 186],\n",
       "          [104,  99, 143, ..., 209, 205, 183],\n",
       "          [ 86,  81, 226, ..., 209, 200, 177]]],\n",
       " \n",
       " \n",
       "        [[[ 85, 103,  84, ...,  88, 190, 230],\n",
       "          [ 88, 106, 160, ...,  87, 188, 226],\n",
       "          [ 68,  82, 238, ...,  94, 190, 227]],\n",
       " \n",
       "         [[ 89, 103,  81, ...,  85, 199, 230],\n",
       "          [ 82, 105, 154, ...,  84, 197, 226],\n",
       "          [ 72,  87, 233, ...,  93, 194, 227]],\n",
       " \n",
       "         [[ 85, 104,  87, ..., 105, 208, 229],\n",
       "          [ 79, 106, 158, ..., 103, 208, 225],\n",
       "          [ 67,  91, 238, ..., 114, 201, 226]],\n",
       " \n",
       "         ...,\n",
       " \n",
       "         [[111, 113,  63, ..., 217, 232, 190],\n",
       "          [104, 103, 144, ..., 217, 227, 190],\n",
       "          [ 87,  88, 235, ..., 214, 223, 181]],\n",
       " \n",
       "         [[109, 104,  62, ..., 221, 226, 178],\n",
       "          [105, 104, 143, ..., 220, 221, 177],\n",
       "          [ 86,  88, 232, ..., 219, 216, 169]],\n",
       " \n",
       "         [[103, 103,  63, ..., 218, 218, 181],\n",
       "          [106,  98, 145, ..., 217, 213, 178],\n",
       "          [ 79,  80, 231, ..., 218, 209, 171]]]], dtype=uint8),\n",
       " 'y': array([[1],\n",
       "        [9],\n",
       "        [2],\n",
       "        ...,\n",
       "        [1],\n",
       "        [6],\n",
       "        [9]], dtype=uint8)}"
      ]
     },
     "execution_count": 82,
     "metadata": {},
     "output_type": "execute_result"
    }
   ],
   "source": [
    "train"
   ]
  },
  {
   "cell_type": "code",
   "execution_count": null,
   "id": "9f64ac0a-fec5-42e4-92b5-53ceed810e6f",
   "metadata": {},
   "outputs": [],
   "source": [
    "X_train = train['X']  \n",
    "y_train = train['y']  \n",
    "\n",
    "print(X_train.shape)\n",
    "print(y_train.shape)"
   ]
  },
  {
   "cell_type": "code",
   "execution_count": 85,
   "id": "a56053b0-270c-4f71-a968-2d3d7fc102ea",
   "metadata": {},
   "outputs": [
    {
     "data": {
      "text/plain": [
       "array([[1],\n",
       "       [9],\n",
       "       [2],\n",
       "       [3],\n",
       "       [2],\n",
       "       [5],\n",
       "       [9],\n",
       "       [3],\n",
       "       [3],\n",
       "       [1]], dtype=uint8)"
      ]
     },
     "execution_count": 85,
     "metadata": {},
     "output_type": "execute_result"
    }
   ],
   "source": [
    "y_train[:10]"
   ]
  },
  {
   "cell_type": "code",
   "execution_count": 86,
   "id": "1fa2f4bf-dac2-407a-9dca-3604e7ec79ea",
   "metadata": {},
   "outputs": [],
   "source": [
    "X_train = np.transpose(X_train, (3, 0, 1, 2))  # transpose axes into (73257, 32, 32, 3)"
   ]
  },
  {
   "cell_type": "code",
   "execution_count": 87,
   "id": "8da30668-67d2-49b6-8451-7fcc3b845b45",
   "metadata": {},
   "outputs": [
    {
     "data": {
      "image/png": "[encoded data removed]",
      "text/plain": [
       "<Figure size 640x480 with 9 Axes>"
      ]
     },
     "metadata": {},
     "output_type": "display_data"
    }
   ],
   "source": [
    "for i in range(9):\n",
    "    plt.subplot(3, 3, i + 1)\n",
    "    plt.imshow(X_train[i])\n",
    "    plt.title(f\"Number: {y_train[i]}\")\n",
    "    plt.axis('off')  "
   ]
  },
  {
   "cell_type": "code",
   "execution_count": 88,
   "id": "219d8692-9935-4ac1-a802-f3ee5042b816",
   "metadata": {},
   "outputs": [],
   "source": [
    "y_train = y_train.flatten()"
   ]
  },
  {
   "cell_type": "code",
   "execution_count": 89,
   "id": "05f211df-fc88-4b2c-8a95-fe9d84d02c49",
   "metadata": {},
   "outputs": [],
   "source": [
    "unique_classes, counts = np.unique(y_train, return_counts=True)"
   ]
  },
  {
   "cell_type": "code",
   "execution_count": 90,
   "id": "c1a98675-8bd1-43d3-9e06-2e08fcda7370",
   "metadata": {},
   "outputs": [
    {
     "data": {
      "text/plain": [
       "{1: 13861,\n",
       " 2: 10585,\n",
       " 3: 8497,\n",
       " 4: 7458,\n",
       " 5: 6882,\n",
       " 6: 5727,\n",
       " 7: 5595,\n",
       " 8: 5045,\n",
       " 9: 4659,\n",
       " 10: 4948}"
      ]
     },
     "execution_count": 90,
     "metadata": {},
     "output_type": "execute_result"
    }
   ],
   "source": [
    "sample_counts_train = dict(zip(unique_classes, counts))\n",
    "sample_counts_train"
   ]
  },
  {
   "cell_type": "code",
   "execution_count": 91,
   "id": "07624986-a408-4c94-a53a-89a0b71c0a4a",
   "metadata": {},
   "outputs": [
    {
     "data": {
      "text/plain": [
       "<BarContainer object of 10 artists>"
      ]
     },
     "execution_count": 91,
     "metadata": {},
     "output_type": "execute_result"
    },
    {
     "data": {
      "image/png": "[encoded data removed]",
      "text/plain": [
       "<Figure size 640x480 with 1 Axes>"
      ]
     },
     "metadata": {},
     "output_type": "display_data"
    }
   ],
   "source": [
    "plt.bar(unique_classes, counts)"
   ]
  },
  {
   "cell_type": "code",
   "execution_count": 92,
   "id": "224a0c92-0cf6-47ee-8213-8c2d4eec57fa",
   "metadata": {},
   "outputs": [],
   "source": [
    "#expand each class to 7000 samples\n",
    "extra = scipy.io.loadmat('dataset/extra_32x32.mat')"
   ]
  },
  {
   "cell_type": "code",
   "execution_count": 93,
   "id": "0116846e-9f88-48d5-ba2f-2e79872fb68a",
   "metadata": {},
   "outputs": [],
   "source": [
    "X_extra = extra['X']  \n",
    "y_extra = extra['y'] "
   ]
  },
  {
   "cell_type": "code",
   "execution_count": 94,
   "id": "b9a8e2ba-8d48-47ec-8bfe-7b2919c60338",
   "metadata": {},
   "outputs": [
    {
     "name": "stdout",
     "output_type": "stream",
     "text": [
      "(32, 32, 3, 531131)\n",
      "(531131, 1)\n"
     ]
    }
   ],
   "source": [
    "print(X_extra.shape)\n",
    "print(y_extra.shape)"
   ]
  },
  {
   "cell_type": "code",
   "execution_count": 95,
   "id": "c400cd5c-a1f9-4dc3-a809-a54806544db2",
   "metadata": {},
   "outputs": [],
   "source": [
    "X_extra = np.transpose(X_extra, (3, 0, 1, 2))  # transpose axes into (73257, 32, 32, 3)"
   ]
  },
  {
   "cell_type": "code",
   "execution_count": 96,
   "id": "d4969282-577f-479c-85a6-b9c65039bfdf",
   "metadata": {},
   "outputs": [],
   "source": [
    "y_extra = y_extra.flatten()\n",
    "unique_classes, counts_extra = np.unique(y_extra, return_counts=True)\n",
    "sample_counts_extra = dict(zip(unique_classes, counts_extra))"
   ]
  },
  {
   "cell_type": "code",
   "execution_count": 97,
   "id": "bd5ac284-4a55-43b5-ae6a-2b2d11311f05",
   "metadata": {},
   "outputs": [
    {
     "data": {
      "text/plain": [
       "{1: 90560,\n",
       " 2: 74740,\n",
       " 3: 60765,\n",
       " 4: 50633,\n",
       " 5: 53490,\n",
       " 6: 41582,\n",
       " 7: 43997,\n",
       " 8: 35358,\n",
       " 9: 34456,\n",
       " 10: 45550}"
      ]
     },
     "execution_count": 97,
     "metadata": {},
     "output_type": "execute_result"
    }
   ],
   "source": [
    "sample_counts_extra"
   ]
  },
  {
   "cell_type": "code",
   "execution_count": 98,
   "id": "87a960b4-e521-4594-9117-6f262855def9",
   "metadata": {},
   "outputs": [
    {
     "data": {
      "text/plain": [
       "<BarContainer object of 10 artists>"
      ]
     },
     "execution_count": 98,
     "metadata": {},
     "output_type": "execute_result"
    },
    {
     "data": {
      "image/png": "[encoded data removed]",
      "text/plain": [
       "<Figure size 640x480 with 1 Axes>"
      ]
     },
     "metadata": {},
     "output_type": "display_data"
    }
   ],
   "source": [
    "plt.bar(unique_classes_extra, counts_extra)"
   ]
  },
  {
   "cell_type": "code",
   "execution_count": 99,
   "id": "4ec0d304-3d3a-4313-abfe-ead7eda2fef5",
   "metadata": {},
   "outputs": [],
   "source": [
    "target_samples_number = 7000"
   ]
  },
  {
   "cell_type": "code",
   "execution_count": 115,
   "id": "1a5b8c66-77ef-48b0-b810-d2ffa8dfb694",
   "metadata": {},
   "outputs": [],
   "source": [
    "X_train_balanced = []\n",
    "y_train_balanced = []\n",
    "\n",
    "for class_label in unique_classes:\n",
    "    num_missing = target_samples_number - sample_counts_train[class_label]\n",
    "\n",
    "    extra_indices = np.where(y_extra == class_label)[0]\n",
    "    \n",
    "    X_class = X_train[y_train == class_label]\n",
    "    y_class = y_train[y_train == class_label]\n",
    "\n",
    "    if num_missing > 0:\n",
    "        X_class = np.concatenate((X_class, X_extra[extra_indices[:num_missing]]), axis=0)\n",
    "        y_class = np.concatenate((y_class, y_extra[extra_indices[:num_missing]]), axis=0)\n",
    "\n",
    "    # If size> 7000 randomly select 7000 samples\n",
    "    if len(y_class) > target_samples_number:\n",
    "        indices = np.random.choice(len(y_class), target_samples_number, replace=False)\n",
    "        X_class = X_class[indices]\n",
    "        y_class = y_class[indices]\n",
    "\n",
    "    X_train_balanced.append(X_class)\n",
    "    y_train_balanced.append(y_class)\n",
    "\n",
    "\n",
    "X_train_balanced = np.concatenate(X_train_balanced, axis=0)\n",
    "y_train_balanced = np.concatenate(y_train_balanced, axis=0)\n"
   ]
  },
  {
   "cell_type": "code",
   "execution_count": 117,
   "id": "df0fba35-2616-4632-899e-2fca2b337aa5",
   "metadata": {
    "scrolled": true
   },
   "outputs": [
    {
     "data": {
      "text/plain": [
       "{1: 7000,\n",
       " 2: 7000,\n",
       " 3: 7000,\n",
       " 4: 7000,\n",
       " 5: 7000,\n",
       " 6: 7000,\n",
       " 7: 7000,\n",
       " 8: 7000,\n",
       " 9: 7000,\n",
       " 10: 7000}"
      ]
     },
     "execution_count": 117,
     "metadata": {},
     "output_type": "execute_result"
    }
   ],
   "source": [
    "unique_classes, counts_balanced= np.unique(y_train_balanced, return_counts=True)\n",
    "dict(zip(unique_classes, counts_balanced))"
   ]
  },
  {
   "cell_type": "code",
   "execution_count": 118,
   "id": "2b984e23-76dd-4624-be69-1741d2e3a38a",
   "metadata": {},
   "outputs": [],
   "source": [
    "import torchvision.transforms as transforms"
   ]
  },
  {
   "cell_type": "code",
   "execution_count": 128,
   "id": "799741de-295d-44cd-9d5a-fb9cee15158b",
   "metadata": {},
   "outputs": [],
   "source": [
    "transform = transforms.Compose([\n",
    "    transforms.ToPILImage(),\n",
    "    transforms.Grayscale(num_output_channels=1),  \n",
    "    transforms.ToTensor(),  \n",
    "    transforms.Normalize(mean=[0.5], std=[0.5])  \n",
    "])"
   ]
  },
  {
   "cell_type": "code",
   "execution_count": 129,
   "id": "477febdd-3247-42b1-b4e4-88ed31c21954",
   "metadata": {},
   "outputs": [],
   "source": [
    "transform_augmented = transforms.Compose([\n",
    "    transforms.ToPILImage(),\n",
    "    transforms.Grayscale(num_output_channels=1)\n",
    "    transforms.RandomRotation(10),  \n",
    "    transforms.RandomAffine(degrees=0, translate=(0.1, 0.1)), \n",
    "    transforms.RandomPerspective(distortion_scale=0.2, p=0.5),  \n",
    "    transforms.RandomAdjustSharpness(sharpness_factor=2, p=0.5), \n",
    "    transforms.ToTensor(),\n",
    "    transforms.Normalize(mean=[0.5], std=[0.5])\n",
    "])\n"
   ]
  },
  {
   "cell_type": "code",
   "execution_count": 121,
   "id": "422adb72-8bd7-4997-8a20-b0b74c26a1e2",
   "metadata": {},
   "outputs": [],
   "source": [
    "test = scipy.io.loadmat('dataset/test_32x32.mat')"
   ]
  },
  {
   "cell_type": "code",
   "execution_count": 124,
   "id": "49039e22-ddb5-4f7a-9bb1-ae5a062ea094",
   "metadata": {},
   "outputs": [
    {
     "name": "stdout",
     "output_type": "stream",
     "text": [
      "(32, 32, 3, 26032)\n",
      "(26032, 1)\n"
     ]
    }
   ],
   "source": [
    "X_test = test['X']  \n",
    "y_test = test['y'] \n",
    "\n",
    "print(X_test.shape)\n",
    "print(y_test.shape)"
   ]
  },
  {
   "cell_type": "code",
   "execution_count": 125,
   "id": "8bf3e128-88fd-4a3e-8c6a-27333e832c53",
   "metadata": {},
   "outputs": [
    {
     "data": {
      "text/plain": [
       "{1: 5099,\n",
       " 2: 4149,\n",
       " 3: 2882,\n",
       " 4: 2523,\n",
       " 5: 2384,\n",
       " 6: 1977,\n",
       " 7: 2019,\n",
       " 8: 1660,\n",
       " 9: 1595,\n",
       " 10: 1744}"
      ]
     },
     "execution_count": 125,
     "metadata": {},
     "output_type": "execute_result"
    }
   ],
   "source": [
    "X_test = np.transpose(X_test, (3, 0, 1, 2))  # transpose axes into (73257, 32, 32, 3)\n",
    "\n",
    "y_test = y_test.flatten()\n",
    "\n",
    "unique_classes, counts_test = np.unique(y_test, return_counts=True)\n",
    "dict(zip(unique_classes, counts_test))"
   ]
  },
  {
   "cell_type": "code",
   "execution_count": 126,
   "id": "730d148f-bae2-4fe7-b201-74d268e81be8",
   "metadata": {},
   "outputs": [
    {
     "name": "stdout",
     "output_type": "stream",
     "text": [
      "(26032, 32, 32, 3)\n",
      "(26032,)\n"
     ]
    }
   ],
   "source": [
    "print(X_test.shape)\n",
    "print(y_test.shape)"
   ]
  },
  {
   "cell_type": "code",
   "execution_count": 127,
   "id": "fb16abe8-7b43-4460-b0e8-dad3642cdb75",
   "metadata": {},
   "outputs": [],
   "source": [
    "import torch"
   ]
  },
  {
   "cell_type": "code",
   "execution_count": 130,
   "id": "7b8f3472-08ee-4a84-983f-5ceee15e3dac",
   "metadata": {},
   "outputs": [],
   "source": [
    "def apply_transform(X, y, transform):\n",
    "    X_transformed = torch.stack([transform(img) for img in X])  \n",
    "    y_transformed = torch.tensor(y, dtype=torch.long)  \n",
    "    return X_transformed, y_transformed\n"
   ]
  },
  {
   "cell_type": "code",
   "execution_count": 133,
   "id": "960fa966-65ae-4545-9d0d-74d32511aabb",
   "metadata": {},
   "outputs": [
    {
     "name": "stdout",
     "output_type": "stream",
     "text": [
      "torch.Size([70000, 1, 32, 32])\n",
      "torch.Size([70000])\n"
     ]
    }
   ],
   "source": [
    "X_train_transformed, y_train_transformed = apply_transform(X_train_balanced, y_train_balanced, transform_augmented)\n",
    "X_test_transformed, y_test_transformed = apply_transform(X_test, y_test, transform)"
   ]
  },
  {
   "cell_type": "code",
   "execution_count": 134,
   "id": "c7ff799e-bd8a-45e6-89bc-61da0a622a89",
   "metadata": {},
   "outputs": [
    {
     "name": "stdout",
     "output_type": "stream",
     "text": [
      "torch.Size([70000, 1, 32, 32])\n",
      "torch.Size([70000])\n"
     ]
    }
   ],
   "source": [
    "print(X_train_transformed.shape) \n",
    "print(y_train_transformed.shape)  "
   ]
  },
  {
   "cell_type": "code",
   "execution_count": null,
   "id": "12df8a63-070b-43b9-991c-90387eabb1c3",
   "metadata": {},
   "outputs": [],
   "source": []
  }
 ],
 "metadata": {
  "kernelspec": {
   "display_name": "Python 3 (ipykernel)",
   "language": "python",
   "name": "python3"
  },
  "language_info": {
   "codemirror_mode": {
    "name": "ipython",
    "version": 3
   },
   "file_extension": ".py",
   "mimetype": "text/x-python",
   "name": "python",
   "nbconvert_exporter": "python",
   "pygments_lexer": "ipython3",
   "version": "3.11.8"
  }
 },
 "nbformat": 4,
 "nbformat_minor": 5
}
