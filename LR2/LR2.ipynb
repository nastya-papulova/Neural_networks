{
 "cells": [
  {
   "cell_type": "code",
   "execution_count": 4,
   "id": "8242b76e-c5c1-4da7-abe0-4113bbfae572",
   "metadata": {},
   "outputs": [],
   "source": [
    "import pandas as pd"
   ]
  },
  {
   "cell_type": "code",
   "execution_count": 5,
   "id": "2a94588a-5404-47b8-ae02-9ff29ca72173",
   "metadata": {},
   "outputs": [],
   "source": [
    "df_fake = pd.read_csv('dataset/Fake.csv')\n",
    "df_true = pd.read_csv('dataset/True.csv')"
   ]
  },
  {
   "cell_type": "code",
   "execution_count": 6,
   "id": "03173829-d065-439b-8e30-b7f5a24cdd91",
   "metadata": {
    "scrolled": true
   },
   "outputs": [
    {
     "data": {
      "text/html": [
       "<div>\n",
       "<style scoped>\n",
       "    .dataframe tbody tr th:only-of-type {\n",
       "        vertical-align: middle;\n",
       "    }\n",
       "\n",
       "    .dataframe tbody tr th {\n",
       "        vertical-align: top;\n",
       "    }\n",
       "\n",
       "    .dataframe thead th {\n",
       "        text-align: right;\n",
       "    }\n",
       "</style>\n",
       "<table border=\"1\" class=\"dataframe\">\n",
       "  <thead>\n",
       "    <tr style=\"text-align: right;\">\n",
       "      <th></th>\n",
       "      <th>title</th>\n",
       "      <th>text</th>\n",
       "      <th>subject</th>\n",
       "      <th>date</th>\n",
       "    </tr>\n",
       "  </thead>\n",
       "  <tbody>\n",
       "    <tr>\n",
       "      <th>0</th>\n",
       "      <td>Donald Trump Sends Out Embarrassing New Year’...</td>\n",
       "      <td>Donald Trump just couldn t wish all Americans ...</td>\n",
       "      <td>News</td>\n",
       "      <td>December 31, 2017</td>\n",
       "    </tr>\n",
       "    <tr>\n",
       "      <th>1</th>\n",
       "      <td>Drunk Bragging Trump Staffer Started Russian ...</td>\n",
       "      <td>House Intelligence Committee Chairman Devin Nu...</td>\n",
       "      <td>News</td>\n",
       "      <td>December 31, 2017</td>\n",
       "    </tr>\n",
       "    <tr>\n",
       "      <th>2</th>\n",
       "      <td>Sheriff David Clarke Becomes An Internet Joke...</td>\n",
       "      <td>On Friday, it was revealed that former Milwauk...</td>\n",
       "      <td>News</td>\n",
       "      <td>December 30, 2017</td>\n",
       "    </tr>\n",
       "    <tr>\n",
       "      <th>3</th>\n",
       "      <td>Trump Is So Obsessed He Even Has Obama’s Name...</td>\n",
       "      <td>On Christmas day, Donald Trump announced that ...</td>\n",
       "      <td>News</td>\n",
       "      <td>December 29, 2017</td>\n",
       "    </tr>\n",
       "    <tr>\n",
       "      <th>4</th>\n",
       "      <td>Pope Francis Just Called Out Donald Trump Dur...</td>\n",
       "      <td>Pope Francis used his annual Christmas Day mes...</td>\n",
       "      <td>News</td>\n",
       "      <td>December 25, 2017</td>\n",
       "    </tr>\n",
       "  </tbody>\n",
       "</table>\n",
       "</div>"
      ],
      "text/plain": [
       "                                               title  \\\n",
       "0   Donald Trump Sends Out Embarrassing New Year’...   \n",
       "1   Drunk Bragging Trump Staffer Started Russian ...   \n",
       "2   Sheriff David Clarke Becomes An Internet Joke...   \n",
       "3   Trump Is So Obsessed He Even Has Obama’s Name...   \n",
       "4   Pope Francis Just Called Out Donald Trump Dur...   \n",
       "\n",
       "                                                text subject  \\\n",
       "0  Donald Trump just couldn t wish all Americans ...    News   \n",
       "1  House Intelligence Committee Chairman Devin Nu...    News   \n",
       "2  On Friday, it was revealed that former Milwauk...    News   \n",
       "3  On Christmas day, Donald Trump announced that ...    News   \n",
       "4  Pope Francis used his annual Christmas Day mes...    News   \n",
       "\n",
       "                date  \n",
       "0  December 31, 2017  \n",
       "1  December 31, 2017  \n",
       "2  December 30, 2017  \n",
       "3  December 29, 2017  \n",
       "4  December 25, 2017  "
      ]
     },
     "execution_count": 6,
     "metadata": {},
     "output_type": "execute_result"
    }
   ],
   "source": [
    "df_fake.head()"
   ]
  },
  {
   "cell_type": "code",
   "execution_count": 7,
   "id": "4427f558-57d3-4a17-81bf-64bcb3cca4fb",
   "metadata": {},
   "outputs": [
    {
     "name": "stdout",
     "output_type": "stream",
     "text": [
      "(23481, 4)\n",
      "(21417, 4)\n"
     ]
    }
   ],
   "source": [
    "print(df_fake.shape)\n",
    "print(df_true.shape)"
   ]
  },
  {
   "cell_type": "code",
   "execution_count": 8,
   "id": "82ddeabc-5a87-43e1-89e8-ebabc2a71e8f",
   "metadata": {},
   "outputs": [],
   "source": [
    "# add labels and concatinate\n",
    "df_fake['label'] = 0  # fakes\n",
    "df_true['label'] = 1  # real news\n",
    "\n",
    "df = pd.concat([df_fake, df_true], axis=0)\n",
    "df = df.sample(frac=1).reset_index(drop=True)"
   ]
  },
  {
   "cell_type": "code",
   "execution_count": 9,
   "id": "604522f2-3cc4-4c86-9ffd-18337d16da26",
   "metadata": {
    "scrolled": true
   },
   "outputs": [
    {
     "data": {
      "text/html": [
       "<div>\n",
       "<style scoped>\n",
       "    .dataframe tbody tr th:only-of-type {\n",
       "        vertical-align: middle;\n",
       "    }\n",
       "\n",
       "    .dataframe tbody tr th {\n",
       "        vertical-align: top;\n",
       "    }\n",
       "\n",
       "    .dataframe thead th {\n",
       "        text-align: right;\n",
       "    }\n",
       "</style>\n",
       "<table border=\"1\" class=\"dataframe\">\n",
       "  <thead>\n",
       "    <tr style=\"text-align: right;\">\n",
       "      <th></th>\n",
       "      <th>title</th>\n",
       "      <th>text</th>\n",
       "      <th>subject</th>\n",
       "      <th>date</th>\n",
       "      <th>label</th>\n",
       "    </tr>\n",
       "  </thead>\n",
       "  <tbody>\n",
       "    <tr>\n",
       "      <th>0</th>\n",
       "      <td>Canada’s Foreign Minister: We Must Now Fill T...</td>\n",
       "      <td>Donald Trump has done so much damage that othe...</td>\n",
       "      <td>News</td>\n",
       "      <td>June 6, 2017</td>\n",
       "      <td>0</td>\n",
       "    </tr>\n",
       "    <tr>\n",
       "      <th>1</th>\n",
       "      <td>FOX News MOCKS MSNBC’s Chris Matthews, Who Act...</td>\n",
       "      <td>MSNBC s Chris Matthews deemed the  big story  ...</td>\n",
       "      <td>politics</td>\n",
       "      <td>Jul 9, 2017</td>\n",
       "      <td>0</td>\n",
       "    </tr>\n",
       "    <tr>\n",
       "      <th>2</th>\n",
       "      <td>Police arrest seven youths after deadly Malays...</td>\n",
       "      <td>KUALA LUMPUR (Reuters) - Police in Malaysia ha...</td>\n",
       "      <td>worldnews</td>\n",
       "      <td>September 16, 2017</td>\n",
       "      <td>1</td>\n",
       "    </tr>\n",
       "    <tr>\n",
       "      <th>3</th>\n",
       "      <td>CONVENIENT? ‘Active Shooter’ Kills 5 in Fort L...</td>\n",
       "      <td>21st Century Wire says Incredibly, on the same...</td>\n",
       "      <td>Middle-east</td>\n",
       "      <td>January 6, 2017</td>\n",
       "      <td>0</td>\n",
       "    </tr>\n",
       "    <tr>\n",
       "      <th>4</th>\n",
       "      <td>How Ted Cruz win in Supreme Court hurt U.S.-Me...</td>\n",
       "      <td>WASHINGTON (Reuters) - Republican presidential...</td>\n",
       "      <td>politicsNews</td>\n",
       "      <td>April 5, 2016</td>\n",
       "      <td>1</td>\n",
       "    </tr>\n",
       "  </tbody>\n",
       "</table>\n",
       "</div>"
      ],
      "text/plain": [
       "                                               title  \\\n",
       "0   Canada’s Foreign Minister: We Must Now Fill T...   \n",
       "1  FOX News MOCKS MSNBC’s Chris Matthews, Who Act...   \n",
       "2  Police arrest seven youths after deadly Malays...   \n",
       "3  CONVENIENT? ‘Active Shooter’ Kills 5 in Fort L...   \n",
       "4  How Ted Cruz win in Supreme Court hurt U.S.-Me...   \n",
       "\n",
       "                                                text       subject  \\\n",
       "0  Donald Trump has done so much damage that othe...          News   \n",
       "1  MSNBC s Chris Matthews deemed the  big story  ...      politics   \n",
       "2  KUALA LUMPUR (Reuters) - Police in Malaysia ha...     worldnews   \n",
       "3  21st Century Wire says Incredibly, on the same...   Middle-east   \n",
       "4  WASHINGTON (Reuters) - Republican presidential...  politicsNews   \n",
       "\n",
       "                  date  label  \n",
       "0         June 6, 2017      0  \n",
       "1          Jul 9, 2017      0  \n",
       "2  September 16, 2017       1  \n",
       "3      January 6, 2017      0  \n",
       "4       April 5, 2016       1  "
      ]
     },
     "execution_count": 9,
     "metadata": {},
     "output_type": "execute_result"
    }
   ],
   "source": [
    "df.head()"
   ]
  },
  {
   "cell_type": "code",
   "execution_count": 10,
   "id": "854c0075-6bd6-4029-a625-25ffbc436fd5",
   "metadata": {},
   "outputs": [
    {
     "data": {
      "text/plain": [
       "title      0\n",
       "text       0\n",
       "subject    0\n",
       "date       0\n",
       "label      0\n",
       "dtype: int64"
      ]
     },
     "execution_count": 10,
     "metadata": {},
     "output_type": "execute_result"
    }
   ],
   "source": [
    "df.isna().sum()"
   ]
  },
  {
   "cell_type": "code",
   "execution_count": 11,
   "id": "5a14fce0-dd7d-464a-a153-1852304db291",
   "metadata": {},
   "outputs": [
    {
     "data": {
      "text/plain": [
       "title      object\n",
       "text       object\n",
       "subject    object\n",
       "date       object\n",
       "label       int64\n",
       "dtype: object"
      ]
     },
     "execution_count": 11,
     "metadata": {},
     "output_type": "execute_result"
    }
   ],
   "source": [
    "df.dtypes"
   ]
  },
  {
   "cell_type": "markdown",
   "id": "b0434cc4-8df3-4bc1-8c73-f82249cc9699",
   "metadata": {},
   "source": [
    "# Date preparation"
   ]
  },
  {
   "cell_type": "code",
   "execution_count": 12,
   "id": "f284ea02-4591-46be-831e-ad7ea05457ec",
   "metadata": {},
   "outputs": [
    {
     "data": {
      "text/plain": [
       "2397"
      ]
     },
     "execution_count": 12,
     "metadata": {},
     "output_type": "execute_result"
    }
   ],
   "source": [
    "len(df['date'].unique())"
   ]
  },
  {
   "cell_type": "code",
   "execution_count": 13,
   "id": "f87fbd9c-fcd8-4c23-96d5-e9987378bbc2",
   "metadata": {},
   "outputs": [],
   "source": [
    "df['date'] = pd.to_datetime(df['date'], format='mixed', errors='coerce') #there are a lot of inccorect values"
   ]
  },
  {
   "cell_type": "code",
   "execution_count": 14,
   "id": "e1366375-4cfb-49ac-a9be-cb343553807f",
   "metadata": {
    "scrolled": true
   },
   "outputs": [
    {
     "data": {
      "text/plain": [
       "title              object\n",
       "text               object\n",
       "subject            object\n",
       "date       datetime64[ns]\n",
       "label               int64\n",
       "dtype: object"
      ]
     },
     "execution_count": 14,
     "metadata": {},
     "output_type": "execute_result"
    }
   ],
   "source": [
    "df.dtypes"
   ]
  },
  {
   "cell_type": "code",
   "execution_count": 15,
   "id": "26f91639-ee1c-4740-a1e9-a2d3e18edf76",
   "metadata": {},
   "outputs": [
    {
     "data": {
      "text/plain": [
       "1011"
      ]
     },
     "execution_count": 15,
     "metadata": {},
     "output_type": "execute_result"
    }
   ],
   "source": [
    "len(df['date'].unique())"
   ]
  },
  {
   "cell_type": "code",
   "execution_count": 16,
   "id": "7d758a8b-3f0c-4602-b3e5-109b1ed4fcdf",
   "metadata": {
    "scrolled": true
   },
   "outputs": [
    {
     "data": {
      "text/html": [
       "<div>\n",
       "<style scoped>\n",
       "    .dataframe tbody tr th:only-of-type {\n",
       "        vertical-align: middle;\n",
       "    }\n",
       "\n",
       "    .dataframe tbody tr th {\n",
       "        vertical-align: top;\n",
       "    }\n",
       "\n",
       "    .dataframe thead th {\n",
       "        text-align: right;\n",
       "    }\n",
       "</style>\n",
       "<table border=\"1\" class=\"dataframe\">\n",
       "  <thead>\n",
       "    <tr style=\"text-align: right;\">\n",
       "      <th></th>\n",
       "      <th>title</th>\n",
       "      <th>text</th>\n",
       "      <th>subject</th>\n",
       "      <th>date</th>\n",
       "      <th>label</th>\n",
       "    </tr>\n",
       "  </thead>\n",
       "  <tbody>\n",
       "    <tr>\n",
       "      <th>2776</th>\n",
       "      <td>Homepage</td>\n",
       "      <td>[vc_row][vc_column width= 1/1 ][td_block_trend...</td>\n",
       "      <td>left-news</td>\n",
       "      <td>NaT</td>\n",
       "      <td>0</td>\n",
       "    </tr>\n",
       "    <tr>\n",
       "      <th>6514</th>\n",
       "      <td>https://fedup.wpengine.com/wp-content/uploads/...</td>\n",
       "      <td>https://fedup.wpengine.com/wp-content/uploads/...</td>\n",
       "      <td>left-news</td>\n",
       "      <td>NaT</td>\n",
       "      <td>0</td>\n",
       "    </tr>\n",
       "    <tr>\n",
       "      <th>10787</th>\n",
       "      <td>https://100percentfedup.com/video-hillary-aske...</td>\n",
       "      <td>https://100percentfedup.com/video-hillary-aske...</td>\n",
       "      <td>politics</td>\n",
       "      <td>NaT</td>\n",
       "      <td>0</td>\n",
       "    </tr>\n",
       "    <tr>\n",
       "      <th>10962</th>\n",
       "      <td>https://fedup.wpengine.com/wp-content/uploads/...</td>\n",
       "      <td>https://fedup.wpengine.com/wp-content/uploads/...</td>\n",
       "      <td>politics</td>\n",
       "      <td>NaT</td>\n",
       "      <td>0</td>\n",
       "    </tr>\n",
       "    <tr>\n",
       "      <th>11779</th>\n",
       "      <td>https://100percentfedup.com/12-yr-old-black-co...</td>\n",
       "      <td>https://100percentfedup.com/12-yr-old-black-co...</td>\n",
       "      <td>politics</td>\n",
       "      <td>NaT</td>\n",
       "      <td>0</td>\n",
       "    </tr>\n",
       "    <tr>\n",
       "      <th>19759</th>\n",
       "      <td>https://fedup.wpengine.com/wp-content/uploads/...</td>\n",
       "      <td>https://fedup.wpengine.com/wp-content/uploads/...</td>\n",
       "      <td>Government News</td>\n",
       "      <td>NaT</td>\n",
       "      <td>0</td>\n",
       "    </tr>\n",
       "    <tr>\n",
       "      <th>32416</th>\n",
       "      <td>https://fedup.wpengine.com/wp-content/uploads/...</td>\n",
       "      <td>https://fedup.wpengine.com/wp-content/uploads/...</td>\n",
       "      <td>left-news</td>\n",
       "      <td>NaT</td>\n",
       "      <td>0</td>\n",
       "    </tr>\n",
       "    <tr>\n",
       "      <th>36955</th>\n",
       "      <td>https://100percentfedup.com/served-roy-moore-v...</td>\n",
       "      <td>https://100percentfedup.com/served-roy-moore-v...</td>\n",
       "      <td>politics</td>\n",
       "      <td>NaT</td>\n",
       "      <td>0</td>\n",
       "    </tr>\n",
       "    <tr>\n",
       "      <th>38489</th>\n",
       "      <td>https://fedup.wpengine.com/wp-content/uploads/...</td>\n",
       "      <td>https://fedup.wpengine.com/wp-content/uploads/...</td>\n",
       "      <td>Government News</td>\n",
       "      <td>NaT</td>\n",
       "      <td>0</td>\n",
       "    </tr>\n",
       "    <tr>\n",
       "      <th>43769</th>\n",
       "      <td>https://fedup.wpengine.com/wp-content/uploads/...</td>\n",
       "      <td>https://fedup.wpengine.com/wp-content/uploads/...</td>\n",
       "      <td>politics</td>\n",
       "      <td>NaT</td>\n",
       "      <td>0</td>\n",
       "    </tr>\n",
       "  </tbody>\n",
       "</table>\n",
       "</div>"
      ],
      "text/plain": [
       "                                                   title  \\\n",
       "2776                                            Homepage   \n",
       "6514   https://fedup.wpengine.com/wp-content/uploads/...   \n",
       "10787  https://100percentfedup.com/video-hillary-aske...   \n",
       "10962  https://fedup.wpengine.com/wp-content/uploads/...   \n",
       "11779  https://100percentfedup.com/12-yr-old-black-co...   \n",
       "19759  https://fedup.wpengine.com/wp-content/uploads/...   \n",
       "32416  https://fedup.wpengine.com/wp-content/uploads/...   \n",
       "36955  https://100percentfedup.com/served-roy-moore-v...   \n",
       "38489  https://fedup.wpengine.com/wp-content/uploads/...   \n",
       "43769  https://fedup.wpengine.com/wp-content/uploads/...   \n",
       "\n",
       "                                                    text          subject  \\\n",
       "2776   [vc_row][vc_column width= 1/1 ][td_block_trend...        left-news   \n",
       "6514   https://fedup.wpengine.com/wp-content/uploads/...        left-news   \n",
       "10787  https://100percentfedup.com/video-hillary-aske...         politics   \n",
       "10962  https://fedup.wpengine.com/wp-content/uploads/...         politics   \n",
       "11779  https://100percentfedup.com/12-yr-old-black-co...         politics   \n",
       "19759  https://fedup.wpengine.com/wp-content/uploads/...  Government News   \n",
       "32416  https://fedup.wpengine.com/wp-content/uploads/...        left-news   \n",
       "36955  https://100percentfedup.com/served-roy-moore-v...         politics   \n",
       "38489  https://fedup.wpengine.com/wp-content/uploads/...  Government News   \n",
       "43769  https://fedup.wpengine.com/wp-content/uploads/...         politics   \n",
       "\n",
       "      date  label  \n",
       "2776   NaT      0  \n",
       "6514   NaT      0  \n",
       "10787  NaT      0  \n",
       "10962  NaT      0  \n",
       "11779  NaT      0  \n",
       "19759  NaT      0  \n",
       "32416  NaT      0  \n",
       "36955  NaT      0  \n",
       "38489  NaT      0  \n",
       "43769  NaT      0  "
      ]
     },
     "execution_count": 16,
     "metadata": {},
     "output_type": "execute_result"
    }
   ],
   "source": [
    "df[df['date'].isna()].head(10)"
   ]
  },
  {
   "cell_type": "code",
   "execution_count": 17,
   "id": "025b928f-1091-49b2-99a1-aced4a22fe15",
   "metadata": {
    "scrolled": true
   },
   "outputs": [
    {
     "data": {
      "text/plain": [
       "title       0\n",
       "text        0\n",
       "subject     0\n",
       "date       10\n",
       "label       0\n",
       "dtype: int64"
      ]
     },
     "execution_count": 17,
     "metadata": {},
     "output_type": "execute_result"
    }
   ],
   "source": [
    "df.isna().sum()"
   ]
  },
  {
   "cell_type": "code",
   "execution_count": 18,
   "id": "a46810c2-66ff-4d6c-b98a-df2e710cfd9d",
   "metadata": {},
   "outputs": [],
   "source": [
    "df = df.dropna(subset=['date'])"
   ]
  },
  {
   "cell_type": "code",
   "execution_count": 19,
   "id": "9c99360e-671c-4e25-a14a-629716f96d4b",
   "metadata": {},
   "outputs": [],
   "source": [
    "# add date features\n",
    "df['year'] = df['date'].dt.year.astype('int32')\n",
    "df['month'] = df['date'].dt.month.astype('int32')\n",
    "df['day'] = df['date'].dt.day.astype('int32')"
   ]
  },
  {
   "cell_type": "code",
   "execution_count": 20,
   "id": "abc89c25-0dd8-40d3-8abb-c0a1857cdd68",
   "metadata": {},
   "outputs": [
    {
     "data": {
      "text/html": [
       "<div>\n",
       "<style scoped>\n",
       "    .dataframe tbody tr th:only-of-type {\n",
       "        vertical-align: middle;\n",
       "    }\n",
       "\n",
       "    .dataframe tbody tr th {\n",
       "        vertical-align: top;\n",
       "    }\n",
       "\n",
       "    .dataframe thead th {\n",
       "        text-align: right;\n",
       "    }\n",
       "</style>\n",
       "<table border=\"1\" class=\"dataframe\">\n",
       "  <thead>\n",
       "    <tr style=\"text-align: right;\">\n",
       "      <th></th>\n",
       "      <th>title</th>\n",
       "      <th>text</th>\n",
       "      <th>subject</th>\n",
       "      <th>date</th>\n",
       "      <th>label</th>\n",
       "      <th>year</th>\n",
       "      <th>month</th>\n",
       "      <th>day</th>\n",
       "    </tr>\n",
       "  </thead>\n",
       "  <tbody>\n",
       "    <tr>\n",
       "      <th>0</th>\n",
       "      <td>Canada’s Foreign Minister: We Must Now Fill T...</td>\n",
       "      <td>Donald Trump has done so much damage that othe...</td>\n",
       "      <td>News</td>\n",
       "      <td>2017-06-06</td>\n",
       "      <td>0</td>\n",
       "      <td>2017</td>\n",
       "      <td>6</td>\n",
       "      <td>6</td>\n",
       "    </tr>\n",
       "    <tr>\n",
       "      <th>1</th>\n",
       "      <td>FOX News MOCKS MSNBC’s Chris Matthews, Who Act...</td>\n",
       "      <td>MSNBC s Chris Matthews deemed the  big story  ...</td>\n",
       "      <td>politics</td>\n",
       "      <td>2017-07-09</td>\n",
       "      <td>0</td>\n",
       "      <td>2017</td>\n",
       "      <td>7</td>\n",
       "      <td>9</td>\n",
       "    </tr>\n",
       "    <tr>\n",
       "      <th>2</th>\n",
       "      <td>Police arrest seven youths after deadly Malays...</td>\n",
       "      <td>KUALA LUMPUR (Reuters) - Police in Malaysia ha...</td>\n",
       "      <td>worldnews</td>\n",
       "      <td>2017-09-16</td>\n",
       "      <td>1</td>\n",
       "      <td>2017</td>\n",
       "      <td>9</td>\n",
       "      <td>16</td>\n",
       "    </tr>\n",
       "    <tr>\n",
       "      <th>3</th>\n",
       "      <td>CONVENIENT? ‘Active Shooter’ Kills 5 in Fort L...</td>\n",
       "      <td>21st Century Wire says Incredibly, on the same...</td>\n",
       "      <td>Middle-east</td>\n",
       "      <td>2017-01-06</td>\n",
       "      <td>0</td>\n",
       "      <td>2017</td>\n",
       "      <td>1</td>\n",
       "      <td>6</td>\n",
       "    </tr>\n",
       "    <tr>\n",
       "      <th>4</th>\n",
       "      <td>How Ted Cruz win in Supreme Court hurt U.S.-Me...</td>\n",
       "      <td>WASHINGTON (Reuters) - Republican presidential...</td>\n",
       "      <td>politicsNews</td>\n",
       "      <td>2016-04-05</td>\n",
       "      <td>1</td>\n",
       "      <td>2016</td>\n",
       "      <td>4</td>\n",
       "      <td>5</td>\n",
       "    </tr>\n",
       "  </tbody>\n",
       "</table>\n",
       "</div>"
      ],
      "text/plain": [
       "                                               title  \\\n",
       "0   Canada’s Foreign Minister: We Must Now Fill T...   \n",
       "1  FOX News MOCKS MSNBC’s Chris Matthews, Who Act...   \n",
       "2  Police arrest seven youths after deadly Malays...   \n",
       "3  CONVENIENT? ‘Active Shooter’ Kills 5 in Fort L...   \n",
       "4  How Ted Cruz win in Supreme Court hurt U.S.-Me...   \n",
       "\n",
       "                                                text       subject       date  \\\n",
       "0  Donald Trump has done so much damage that othe...          News 2017-06-06   \n",
       "1  MSNBC s Chris Matthews deemed the  big story  ...      politics 2017-07-09   \n",
       "2  KUALA LUMPUR (Reuters) - Police in Malaysia ha...     worldnews 2017-09-16   \n",
       "3  21st Century Wire says Incredibly, on the same...   Middle-east 2017-01-06   \n",
       "4  WASHINGTON (Reuters) - Republican presidential...  politicsNews 2016-04-05   \n",
       "\n",
       "   label  year  month  day  \n",
       "0      0  2017      6    6  \n",
       "1      0  2017      7    9  \n",
       "2      1  2017      9   16  \n",
       "3      0  2017      1    6  \n",
       "4      1  2016      4    5  "
      ]
     },
     "execution_count": 20,
     "metadata": {},
     "output_type": "execute_result"
    }
   ],
   "source": [
    "df.head()"
   ]
  },
  {
   "cell_type": "code",
   "execution_count": 21,
   "id": "c2c620ec-1904-4ad8-b702-e59b62d3a5b9",
   "metadata": {},
   "outputs": [],
   "source": [
    "df.drop('date', axis=1, inplace=True)"
   ]
  },
  {
   "cell_type": "code",
   "execution_count": 22,
   "id": "abd4bc66-df9e-45ee-8d0b-21647d1f1de2",
   "metadata": {},
   "outputs": [
    {
     "data": {
      "text/html": [
       "<div>\n",
       "<style scoped>\n",
       "    .dataframe tbody tr th:only-of-type {\n",
       "        vertical-align: middle;\n",
       "    }\n",
       "\n",
       "    .dataframe tbody tr th {\n",
       "        vertical-align: top;\n",
       "    }\n",
       "\n",
       "    .dataframe thead th {\n",
       "        text-align: right;\n",
       "    }\n",
       "</style>\n",
       "<table border=\"1\" class=\"dataframe\">\n",
       "  <thead>\n",
       "    <tr style=\"text-align: right;\">\n",
       "      <th></th>\n",
       "      <th>title</th>\n",
       "      <th>text</th>\n",
       "      <th>subject</th>\n",
       "      <th>label</th>\n",
       "      <th>year</th>\n",
       "      <th>month</th>\n",
       "      <th>day</th>\n",
       "    </tr>\n",
       "  </thead>\n",
       "  <tbody>\n",
       "    <tr>\n",
       "      <th>0</th>\n",
       "      <td>Canada’s Foreign Minister: We Must Now Fill T...</td>\n",
       "      <td>Donald Trump has done so much damage that othe...</td>\n",
       "      <td>News</td>\n",
       "      <td>0</td>\n",
       "      <td>2017</td>\n",
       "      <td>6</td>\n",
       "      <td>6</td>\n",
       "    </tr>\n",
       "    <tr>\n",
       "      <th>1</th>\n",
       "      <td>FOX News MOCKS MSNBC’s Chris Matthews, Who Act...</td>\n",
       "      <td>MSNBC s Chris Matthews deemed the  big story  ...</td>\n",
       "      <td>politics</td>\n",
       "      <td>0</td>\n",
       "      <td>2017</td>\n",
       "      <td>7</td>\n",
       "      <td>9</td>\n",
       "    </tr>\n",
       "    <tr>\n",
       "      <th>2</th>\n",
       "      <td>Police arrest seven youths after deadly Malays...</td>\n",
       "      <td>KUALA LUMPUR (Reuters) - Police in Malaysia ha...</td>\n",
       "      <td>worldnews</td>\n",
       "      <td>1</td>\n",
       "      <td>2017</td>\n",
       "      <td>9</td>\n",
       "      <td>16</td>\n",
       "    </tr>\n",
       "    <tr>\n",
       "      <th>3</th>\n",
       "      <td>CONVENIENT? ‘Active Shooter’ Kills 5 in Fort L...</td>\n",
       "      <td>21st Century Wire says Incredibly, on the same...</td>\n",
       "      <td>Middle-east</td>\n",
       "      <td>0</td>\n",
       "      <td>2017</td>\n",
       "      <td>1</td>\n",
       "      <td>6</td>\n",
       "    </tr>\n",
       "    <tr>\n",
       "      <th>4</th>\n",
       "      <td>How Ted Cruz win in Supreme Court hurt U.S.-Me...</td>\n",
       "      <td>WASHINGTON (Reuters) - Republican presidential...</td>\n",
       "      <td>politicsNews</td>\n",
       "      <td>1</td>\n",
       "      <td>2016</td>\n",
       "      <td>4</td>\n",
       "      <td>5</td>\n",
       "    </tr>\n",
       "  </tbody>\n",
       "</table>\n",
       "</div>"
      ],
      "text/plain": [
       "                                               title  \\\n",
       "0   Canada’s Foreign Minister: We Must Now Fill T...   \n",
       "1  FOX News MOCKS MSNBC’s Chris Matthews, Who Act...   \n",
       "2  Police arrest seven youths after deadly Malays...   \n",
       "3  CONVENIENT? ‘Active Shooter’ Kills 5 in Fort L...   \n",
       "4  How Ted Cruz win in Supreme Court hurt U.S.-Me...   \n",
       "\n",
       "                                                text       subject  label  \\\n",
       "0  Donald Trump has done so much damage that othe...          News      0   \n",
       "1  MSNBC s Chris Matthews deemed the  big story  ...      politics      0   \n",
       "2  KUALA LUMPUR (Reuters) - Police in Malaysia ha...     worldnews      1   \n",
       "3  21st Century Wire says Incredibly, on the same...   Middle-east      0   \n",
       "4  WASHINGTON (Reuters) - Republican presidential...  politicsNews      1   \n",
       "\n",
       "   year  month  day  \n",
       "0  2017      6    6  \n",
       "1  2017      7    9  \n",
       "2  2017      9   16  \n",
       "3  2017      1    6  \n",
       "4  2016      4    5  "
      ]
     },
     "execution_count": 22,
     "metadata": {},
     "output_type": "execute_result"
    }
   ],
   "source": [
    "df.head()"
   ]
  },
  {
   "cell_type": "code",
   "execution_count": 23,
   "id": "708c8e4f-e84b-4b0b-a46d-6320e772002e",
   "metadata": {
    "scrolled": true
   },
   "outputs": [
    {
     "data": {
      "text/plain": [
       "title      object\n",
       "text       object\n",
       "subject    object\n",
       "label       int64\n",
       "year        int32\n",
       "month       int32\n",
       "day         int32\n",
       "dtype: object"
      ]
     },
     "execution_count": 23,
     "metadata": {},
     "output_type": "execute_result"
    }
   ],
   "source": [
    "df.dtypes"
   ]
  },
  {
   "cell_type": "markdown",
   "id": "ac8a5ea0-61e4-4bdf-9070-8aa60bd5236a",
   "metadata": {},
   "source": [
    "# Column prep"
   ]
  },
  {
   "cell_type": "code",
   "execution_count": 24,
   "id": "a829392c-f265-4c2d-baa8-746797684882",
   "metadata": {},
   "outputs": [
    {
     "data": {
      "text/plain": [
       "<Axes: xlabel='subject'>"
      ]
     },
     "execution_count": 24,
     "metadata": {},
     "output_type": "execute_result"
    },
    {
     "data": {
      "image/png": "[encoded data removed]",
      "text/plain": [
       "<Figure size 640x480 with 1 Axes>"
      ]
     },
     "metadata": {},
     "output_type": "display_data"
    }
   ],
   "source": [
    "df['subject'].value_counts().plot(kind='bar')"
   ]
  },
  {
   "cell_type": "code",
   "execution_count": 25,
   "id": "04e156eb-7950-478b-b8b6-97735bda882d",
   "metadata": {},
   "outputs": [],
   "source": [
    "# subject column doesn't contain valuable information\n",
    "df.drop('subject', axis=1, inplace=True)"
   ]
  },
  {
   "cell_type": "code",
   "execution_count": 26,
   "id": "710c2028-805b-4842-8f78-9997d8727b11",
   "metadata": {
    "scrolled": true
   },
   "outputs": [
    {
     "data": {
      "text/html": [
       "<div>\n",
       "<style scoped>\n",
       "    .dataframe tbody tr th:only-of-type {\n",
       "        vertical-align: middle;\n",
       "    }\n",
       "\n",
       "    .dataframe tbody tr th {\n",
       "        vertical-align: top;\n",
       "    }\n",
       "\n",
       "    .dataframe thead th {\n",
       "        text-align: right;\n",
       "    }\n",
       "</style>\n",
       "<table border=\"1\" class=\"dataframe\">\n",
       "  <thead>\n",
       "    <tr style=\"text-align: right;\">\n",
       "      <th></th>\n",
       "      <th>title</th>\n",
       "      <th>text</th>\n",
       "      <th>label</th>\n",
       "      <th>year</th>\n",
       "      <th>month</th>\n",
       "      <th>day</th>\n",
       "    </tr>\n",
       "  </thead>\n",
       "  <tbody>\n",
       "    <tr>\n",
       "      <th>0</th>\n",
       "      <td>Canada’s Foreign Minister: We Must Now Fill T...</td>\n",
       "      <td>Donald Trump has done so much damage that othe...</td>\n",
       "      <td>0</td>\n",
       "      <td>2017</td>\n",
       "      <td>6</td>\n",
       "      <td>6</td>\n",
       "    </tr>\n",
       "    <tr>\n",
       "      <th>1</th>\n",
       "      <td>FOX News MOCKS MSNBC’s Chris Matthews, Who Act...</td>\n",
       "      <td>MSNBC s Chris Matthews deemed the  big story  ...</td>\n",
       "      <td>0</td>\n",
       "      <td>2017</td>\n",
       "      <td>7</td>\n",
       "      <td>9</td>\n",
       "    </tr>\n",
       "    <tr>\n",
       "      <th>2</th>\n",
       "      <td>Police arrest seven youths after deadly Malays...</td>\n",
       "      <td>KUALA LUMPUR (Reuters) - Police in Malaysia ha...</td>\n",
       "      <td>1</td>\n",
       "      <td>2017</td>\n",
       "      <td>9</td>\n",
       "      <td>16</td>\n",
       "    </tr>\n",
       "    <tr>\n",
       "      <th>3</th>\n",
       "      <td>CONVENIENT? ‘Active Shooter’ Kills 5 in Fort L...</td>\n",
       "      <td>21st Century Wire says Incredibly, on the same...</td>\n",
       "      <td>0</td>\n",
       "      <td>2017</td>\n",
       "      <td>1</td>\n",
       "      <td>6</td>\n",
       "    </tr>\n",
       "    <tr>\n",
       "      <th>4</th>\n",
       "      <td>How Ted Cruz win in Supreme Court hurt U.S.-Me...</td>\n",
       "      <td>WASHINGTON (Reuters) - Republican presidential...</td>\n",
       "      <td>1</td>\n",
       "      <td>2016</td>\n",
       "      <td>4</td>\n",
       "      <td>5</td>\n",
       "    </tr>\n",
       "  </tbody>\n",
       "</table>\n",
       "</div>"
      ],
      "text/plain": [
       "                                               title  \\\n",
       "0   Canada’s Foreign Minister: We Must Now Fill T...   \n",
       "1  FOX News MOCKS MSNBC’s Chris Matthews, Who Act...   \n",
       "2  Police arrest seven youths after deadly Malays...   \n",
       "3  CONVENIENT? ‘Active Shooter’ Kills 5 in Fort L...   \n",
       "4  How Ted Cruz win in Supreme Court hurt U.S.-Me...   \n",
       "\n",
       "                                                text  label  year  month  day  \n",
       "0  Donald Trump has done so much damage that othe...      0  2017      6    6  \n",
       "1  MSNBC s Chris Matthews deemed the  big story  ...      0  2017      7    9  \n",
       "2  KUALA LUMPUR (Reuters) - Police in Malaysia ha...      1  2017      9   16  \n",
       "3  21st Century Wire says Incredibly, on the same...      0  2017      1    6  \n",
       "4  WASHINGTON (Reuters) - Republican presidential...      1  2016      4    5  "
      ]
     },
     "execution_count": 26,
     "metadata": {},
     "output_type": "execute_result"
    }
   ],
   "source": [
    "df.head()"
   ]
  },
  {
   "cell_type": "code",
   "execution_count": 27,
   "id": "9e9c1817-7862-49ef-b700-8b7539bc4c2c",
   "metadata": {},
   "outputs": [
    {
     "data": {
      "text/plain": [
       "4560"
      ]
     },
     "execution_count": 27,
     "metadata": {},
     "output_type": "execute_result"
    }
   ],
   "source": [
    "len(df.text[124])"
   ]
  },
  {
   "cell_type": "code",
   "execution_count": 28,
   "id": "d2d1c430-43d4-41af-b6ca-f480ee0478b1",
   "metadata": {},
   "outputs": [
    {
     "data": {
      "text/plain": [
       "62"
      ]
     },
     "execution_count": 28,
     "metadata": {},
     "output_type": "execute_result"
    }
   ],
   "source": [
    "len(df.title[1466])"
   ]
  },
  {
   "cell_type": "code",
   "execution_count": 29,
   "id": "4f913914-7a9b-45ae-9e82-c785c1e9ee2a",
   "metadata": {},
   "outputs": [],
   "source": [
    "# text can be too long, takes a lot of time to process\n",
    "df.drop('text', axis=1, inplace=True)"
   ]
  },
  {
   "cell_type": "code",
   "execution_count": 30,
   "id": "80ad3339-339d-4f99-8b84-e3047e1bcc35",
   "metadata": {
    "scrolled": true
   },
   "outputs": [
    {
     "data": {
      "text/html": [
       "<div>\n",
       "<style scoped>\n",
       "    .dataframe tbody tr th:only-of-type {\n",
       "        vertical-align: middle;\n",
       "    }\n",
       "\n",
       "    .dataframe tbody tr th {\n",
       "        vertical-align: top;\n",
       "    }\n",
       "\n",
       "    .dataframe thead th {\n",
       "        text-align: right;\n",
       "    }\n",
       "</style>\n",
       "<table border=\"1\" class=\"dataframe\">\n",
       "  <thead>\n",
       "    <tr style=\"text-align: right;\">\n",
       "      <th></th>\n",
       "      <th>title</th>\n",
       "      <th>label</th>\n",
       "      <th>year</th>\n",
       "      <th>month</th>\n",
       "      <th>day</th>\n",
       "    </tr>\n",
       "  </thead>\n",
       "  <tbody>\n",
       "    <tr>\n",
       "      <th>0</th>\n",
       "      <td>Canada’s Foreign Minister: We Must Now Fill T...</td>\n",
       "      <td>0</td>\n",
       "      <td>2017</td>\n",
       "      <td>6</td>\n",
       "      <td>6</td>\n",
       "    </tr>\n",
       "    <tr>\n",
       "      <th>1</th>\n",
       "      <td>FOX News MOCKS MSNBC’s Chris Matthews, Who Act...</td>\n",
       "      <td>0</td>\n",
       "      <td>2017</td>\n",
       "      <td>7</td>\n",
       "      <td>9</td>\n",
       "    </tr>\n",
       "    <tr>\n",
       "      <th>2</th>\n",
       "      <td>Police arrest seven youths after deadly Malays...</td>\n",
       "      <td>1</td>\n",
       "      <td>2017</td>\n",
       "      <td>9</td>\n",
       "      <td>16</td>\n",
       "    </tr>\n",
       "    <tr>\n",
       "      <th>3</th>\n",
       "      <td>CONVENIENT? ‘Active Shooter’ Kills 5 in Fort L...</td>\n",
       "      <td>0</td>\n",
       "      <td>2017</td>\n",
       "      <td>1</td>\n",
       "      <td>6</td>\n",
       "    </tr>\n",
       "    <tr>\n",
       "      <th>4</th>\n",
       "      <td>How Ted Cruz win in Supreme Court hurt U.S.-Me...</td>\n",
       "      <td>1</td>\n",
       "      <td>2016</td>\n",
       "      <td>4</td>\n",
       "      <td>5</td>\n",
       "    </tr>\n",
       "  </tbody>\n",
       "</table>\n",
       "</div>"
      ],
      "text/plain": [
       "                                               title  label  year  month  day\n",
       "0   Canada’s Foreign Minister: We Must Now Fill T...      0  2017      6    6\n",
       "1  FOX News MOCKS MSNBC’s Chris Matthews, Who Act...      0  2017      7    9\n",
       "2  Police arrest seven youths after deadly Malays...      1  2017      9   16\n",
       "3  CONVENIENT? ‘Active Shooter’ Kills 5 in Fort L...      0  2017      1    6\n",
       "4  How Ted Cruz win in Supreme Court hurt U.S.-Me...      1  2016      4    5"
      ]
     },
     "execution_count": 30,
     "metadata": {},
     "output_type": "execute_result"
    }
   ],
   "source": [
    "df.head()"
   ]
  },
  {
   "cell_type": "code",
   "execution_count": 31,
   "id": "dda92d03-de06-4571-a317-6d5a1daf00a5",
   "metadata": {},
   "outputs": [
    {
     "data": {
      "text/html": [
       "<div>\n",
       "<style scoped>\n",
       "    .dataframe tbody tr th:only-of-type {\n",
       "        vertical-align: middle;\n",
       "    }\n",
       "\n",
       "    .dataframe tbody tr th {\n",
       "        vertical-align: top;\n",
       "    }\n",
       "\n",
       "    .dataframe thead th {\n",
       "        text-align: right;\n",
       "    }\n",
       "</style>\n",
       "<table border=\"1\" class=\"dataframe\">\n",
       "  <thead>\n",
       "    <tr style=\"text-align: right;\">\n",
       "      <th></th>\n",
       "      <th>label</th>\n",
       "      <th>year</th>\n",
       "      <th>month</th>\n",
       "      <th>day</th>\n",
       "    </tr>\n",
       "  </thead>\n",
       "  <tbody>\n",
       "    <tr>\n",
       "      <th>label</th>\n",
       "      <td>1.000000</td>\n",
       "      <td>0.407359</td>\n",
       "      <td>0.277868</td>\n",
       "      <td>0.006633</td>\n",
       "    </tr>\n",
       "    <tr>\n",
       "      <th>year</th>\n",
       "      <td>0.407359</td>\n",
       "      <td>1.000000</td>\n",
       "      <td>0.092239</td>\n",
       "      <td>-0.004292</td>\n",
       "    </tr>\n",
       "    <tr>\n",
       "      <th>month</th>\n",
       "      <td>0.277868</td>\n",
       "      <td>0.092239</td>\n",
       "      <td>1.000000</td>\n",
       "      <td>-0.031919</td>\n",
       "    </tr>\n",
       "    <tr>\n",
       "      <th>day</th>\n",
       "      <td>0.006633</td>\n",
       "      <td>-0.004292</td>\n",
       "      <td>-0.031919</td>\n",
       "      <td>1.000000</td>\n",
       "    </tr>\n",
       "  </tbody>\n",
       "</table>\n",
       "</div>"
      ],
      "text/plain": [
       "          label      year     month       day\n",
       "label  1.000000  0.407359  0.277868  0.006633\n",
       "year   0.407359  1.000000  0.092239 -0.004292\n",
       "month  0.277868  0.092239  1.000000 -0.031919\n",
       "day    0.006633 -0.004292 -0.031919  1.000000"
      ]
     },
     "execution_count": 31,
     "metadata": {},
     "output_type": "execute_result"
    }
   ],
   "source": [
    "corr = df.select_dtypes('number').corr()\n",
    "corr"
   ]
  },
  {
   "cell_type": "code",
   "execution_count": 32,
   "id": "da1b774f-82e8-44bb-9bd9-dd6ba927087e",
   "metadata": {},
   "outputs": [],
   "source": [
    "# day has almost no correlation with label\n",
    "df.drop('day', axis=1, inplace=True)"
   ]
  },
  {
   "cell_type": "markdown",
   "id": "51ecff6d-2295-4842-b622-2e064b3949b4",
   "metadata": {},
   "source": [
    "# Tokenization"
   ]
  },
  {
   "cell_type": "code",
   "execution_count": 33,
   "id": "0a0ec460-c279-4c4a-92ca-db6436d7b235",
   "metadata": {},
   "outputs": [
    {
     "name": "stderr",
     "output_type": "stream",
     "text": [
      "[nltk_data] Downloading package stopwords to C:\\Users\\papul.DESKTOP-\n",
      "[nltk_data]     U29R0P8.000\\AppData\\Roaming\\nltk_data...\n",
      "[nltk_data]   Package stopwords is already up-to-date!\n",
      "[nltk_data] Downloading package wordnet to C:\\Users\\papul.DESKTOP-\n",
      "[nltk_data]     U29R0P8.000\\AppData\\Roaming\\nltk_data...\n",
      "[nltk_data]   Package wordnet is already up-to-date!\n"
     ]
    },
    {
     "data": {
      "text/plain": [
       "True"
      ]
     },
     "execution_count": 33,
     "metadata": {},
     "output_type": "execute_result"
    }
   ],
   "source": [
    "import re\n",
    "import nltk\n",
    "from nltk.corpus import stopwords\n",
    "from nltk.stem import WordNetLemmatizer\n",
    "\n",
    "nltk.download('stopwords')\n",
    "nltk.download('wordnet')"
   ]
  },
  {
   "cell_type": "code",
   "execution_count": 34,
   "id": "26d12861-ee39-4f2c-9902-937146ba3de7",
   "metadata": {},
   "outputs": [],
   "source": [
    "def preprocess_text(text):\n",
    "    # delete symbols and make lowercase \n",
    "    text = re.sub(r'[^a-zA-Z\\s]', '', text, re.I|re.A).lower()\n",
    "\n",
    "    # delete stop words\n",
    "    stop_words = set(stopwords.words('english'))\n",
    "    \n",
    "    tokens = text.split()\n",
    "    tokens = [t for t in tokens if t not in stop_words]\n",
    "    \n",
    "    # lemmatization\n",
    "    lemmatizer = WordNetLemmatizer()\n",
    "    tokens = [lemmatizer.lemmatize(t) for t in tokens]\n",
    "    \n",
    "    return ' '.join(tokens)"
   ]
  },
  {
   "cell_type": "code",
   "execution_count": 35,
   "id": "a11e708b-e87e-4b2d-8501-e26df9347e7e",
   "metadata": {},
   "outputs": [],
   "source": [
    "# Применение к тексту\n",
    "df['processed_title'] = df['title'].apply(preprocess_text)"
   ]
  },
  {
   "cell_type": "code",
   "execution_count": 36,
   "id": "ad8d47bf-e251-4a21-a2c9-e38b118e3d64",
   "metadata": {},
   "outputs": [
    {
     "data": {
      "text/html": [
       "<div>\n",
       "<style scoped>\n",
       "    .dataframe tbody tr th:only-of-type {\n",
       "        vertical-align: middle;\n",
       "    }\n",
       "\n",
       "    .dataframe tbody tr th {\n",
       "        vertical-align: top;\n",
       "    }\n",
       "\n",
       "    .dataframe thead th {\n",
       "        text-align: right;\n",
       "    }\n",
       "</style>\n",
       "<table border=\"1\" class=\"dataframe\">\n",
       "  <thead>\n",
       "    <tr style=\"text-align: right;\">\n",
       "      <th></th>\n",
       "      <th>title</th>\n",
       "      <th>label</th>\n",
       "      <th>year</th>\n",
       "      <th>month</th>\n",
       "      <th>processed_title</th>\n",
       "    </tr>\n",
       "  </thead>\n",
       "  <tbody>\n",
       "    <tr>\n",
       "      <th>0</th>\n",
       "      <td>Canada’s Foreign Minister: We Must Now Fill T...</td>\n",
       "      <td>0</td>\n",
       "      <td>2017</td>\n",
       "      <td>6</td>\n",
       "      <td>canada foreign minister must fill global leade...</td>\n",
       "    </tr>\n",
       "    <tr>\n",
       "      <th>1</th>\n",
       "      <td>FOX News MOCKS MSNBC’s Chris Matthews, Who Act...</td>\n",
       "      <td>0</td>\n",
       "      <td>2017</td>\n",
       "      <td>7</td>\n",
       "      <td>fox news mock msnbcs chris matthew actually sa...</td>\n",
       "    </tr>\n",
       "    <tr>\n",
       "      <th>2</th>\n",
       "      <td>Police arrest seven youths after deadly Malays...</td>\n",
       "      <td>1</td>\n",
       "      <td>2017</td>\n",
       "      <td>9</td>\n",
       "      <td>police arrest seven youth deadly malaysia scho...</td>\n",
       "    </tr>\n",
       "    <tr>\n",
       "      <th>3</th>\n",
       "      <td>CONVENIENT? ‘Active Shooter’ Kills 5 in Fort L...</td>\n",
       "      <td>0</td>\n",
       "      <td>2017</td>\n",
       "      <td>1</td>\n",
       "      <td>convenient active shooter kill fort lauderdale...</td>\n",
       "    </tr>\n",
       "    <tr>\n",
       "      <th>4</th>\n",
       "      <td>How Ted Cruz win in Supreme Court hurt U.S.-Me...</td>\n",
       "      <td>1</td>\n",
       "      <td>2016</td>\n",
       "      <td>4</td>\n",
       "      <td>ted cruz win supreme court hurt usmexico relation</td>\n",
       "    </tr>\n",
       "  </tbody>\n",
       "</table>\n",
       "</div>"
      ],
      "text/plain": [
       "                                               title  label  year  month  \\\n",
       "0   Canada’s Foreign Minister: We Must Now Fill T...      0  2017      6   \n",
       "1  FOX News MOCKS MSNBC’s Chris Matthews, Who Act...      0  2017      7   \n",
       "2  Police arrest seven youths after deadly Malays...      1  2017      9   \n",
       "3  CONVENIENT? ‘Active Shooter’ Kills 5 in Fort L...      0  2017      1   \n",
       "4  How Ted Cruz win in Supreme Court hurt U.S.-Me...      1  2016      4   \n",
       "\n",
       "                                     processed_title  \n",
       "0  canada foreign minister must fill global leade...  \n",
       "1  fox news mock msnbcs chris matthew actually sa...  \n",
       "2  police arrest seven youth deadly malaysia scho...  \n",
       "3  convenient active shooter kill fort lauderdale...  \n",
       "4  ted cruz win supreme court hurt usmexico relation  "
      ]
     },
     "execution_count": 36,
     "metadata": {},
     "output_type": "execute_result"
    }
   ],
   "source": [
    "df.head()"
   ]
  },
  {
   "cell_type": "code",
   "execution_count": 37,
   "id": "1ee2408d-25f6-4ca2-bc99-bc510d3b3091",
   "metadata": {},
   "outputs": [],
   "source": [
    "df.drop('title', axis=1, inplace=True)"
   ]
  },
  {
   "cell_type": "code",
   "execution_count": 38,
   "id": "6a3c629c-0eed-4b74-bd34-50500752cffe",
   "metadata": {},
   "outputs": [],
   "source": [
    "from tensorflow.keras.preprocessing.text import Tokenizer\n",
    "from tensorflow.keras.preprocessing.sequence import pad_sequences"
   ]
  },
  {
   "cell_type": "code",
   "execution_count": 39,
   "id": "b862c87c-df86-4683-901e-4689b35f5c48",
   "metadata": {},
   "outputs": [
    {
     "data": {
      "text/plain": [
       "label               int64\n",
       "year                int32\n",
       "month               int32\n",
       "processed_title    object\n",
       "dtype: object"
      ]
     },
     "execution_count": 39,
     "metadata": {},
     "output_type": "execute_result"
    }
   ],
   "source": [
    "df.dtypes"
   ]
  },
  {
   "cell_type": "code",
   "execution_count": 40,
   "id": "f794aa55-789b-48cb-b665-ca003701e0f9",
   "metadata": {},
   "outputs": [
    {
     "data": {
      "text/plain": [
       "str"
      ]
     },
     "execution_count": 40,
     "metadata": {},
     "output_type": "execute_result"
    }
   ],
   "source": [
    "type(df['processed_title'][0])"
   ]
  },
  {
   "cell_type": "code",
   "execution_count": 41,
   "id": "c65fcbbd-3f64-4cb4-9571-a1ed1f185246",
   "metadata": {
    "scrolled": true
   },
   "outputs": [
    {
     "data": {
      "text/plain": [
       "237"
      ]
     },
     "execution_count": 41,
     "metadata": {},
     "output_type": "execute_result"
    }
   ],
   "source": [
    "df['processed_title'].str.len().max()"
   ]
  },
  {
   "cell_type": "code",
   "execution_count": 42,
   "id": "daaa7cba-7100-4688-89ce-984e4b6af7ad",
   "metadata": {},
   "outputs": [],
   "source": [
    "from matplotlib import pyplot as plt\n",
    "%matplotlib inline"
   ]
  },
  {
   "cell_type": "code",
   "execution_count": 43,
   "id": "a7d86c35-a23a-4ec5-82f9-044c8e8eb358",
   "metadata": {},
   "outputs": [
    {
     "data": {
      "text/plain": [
       "(array([4.000e+00, 2.100e+01, 2.500e+01, 1.090e+02, 1.770e+02, 5.300e+02,\n",
       "        1.291e+03, 2.055e+03, 4.651e+03, 5.139e+03, 7.238e+03, 4.774e+03,\n",
       "        4.783e+03, 3.601e+03, 2.172e+03, 1.978e+03, 1.135e+03, 1.050e+03,\n",
       "        8.380e+02, 5.060e+02, 6.590e+02, 3.750e+02, 4.270e+02, 2.690e+02,\n",
       "        2.750e+02, 2.270e+02, 1.520e+02, 1.450e+02, 6.300e+01, 7.200e+01,\n",
       "        4.500e+01, 2.800e+01, 1.600e+01, 7.000e+00, 1.500e+01, 7.000e+00,\n",
       "        9.000e+00, 3.000e+00, 8.000e+00, 0.000e+00, 3.000e+00, 0.000e+00,\n",
       "        0.000e+00, 2.000e+00, 3.000e+00, 0.000e+00, 0.000e+00, 0.000e+00,\n",
       "        0.000e+00, 1.000e+00]),\n",
       " array([  8.  ,  12.58,  17.16,  21.74,  26.32,  30.9 ,  35.48,  40.06,\n",
       "         44.64,  49.22,  53.8 ,  58.38,  62.96,  67.54,  72.12,  76.7 ,\n",
       "         81.28,  85.86,  90.44,  95.02,  99.6 , 104.18, 108.76, 113.34,\n",
       "        117.92, 122.5 , 127.08, 131.66, 136.24, 140.82, 145.4 , 149.98,\n",
       "        154.56, 159.14, 163.72, 168.3 , 172.88, 177.46, 182.04, 186.62,\n",
       "        191.2 , 195.78, 200.36, 204.94, 209.52, 214.1 , 218.68, 223.26,\n",
       "        227.84, 232.42, 237.  ]),\n",
       " <BarContainer object of 50 artists>)"
      ]
     },
     "execution_count": 43,
     "metadata": {},
     "output_type": "execute_result"
    },
    {
     "data": {
      "image/png": "[encoded data removed]",
      "text/plain": [
       "<Figure size 640x480 with 1 Axes>"
      ]
     },
     "metadata": {},
     "output_type": "display_data"
    }
   ],
   "source": [
    "lengths = df['processed_title'].str.len()\n",
    "plt.hist(lengths, bins=50)"
   ]
  },
  {
   "cell_type": "code",
   "execution_count": 44,
   "id": "f163665a-6b2b-4bb9-a6d8-6ac3e5c82e4a",
   "metadata": {},
   "outputs": [
    {
     "data": {
      "text/plain": [
       "{'whiskers': [<matplotlib.lines.Line2D at 0x19547673c50>,\n",
       "  <matplotlib.lines.Line2D at 0x1954dff3710>],\n",
       " 'caps': [<matplotlib.lines.Line2D at 0x1954e008150>,\n",
       "  <matplotlib.lines.Line2D at 0x1954e008b50>],\n",
       " 'boxes': [<matplotlib.lines.Line2D at 0x1954dff2110>],\n",
       " 'medians': [<matplotlib.lines.Line2D at 0x1954e009610>],\n",
       " 'fliers': [<matplotlib.lines.Line2D at 0x1954e00a110>],\n",
       " 'means': []}"
      ]
     },
     "execution_count": 44,
     "metadata": {},
     "output_type": "execute_result"
    },
    {
     "data": {
      "image/png": "[encoded data removed]",
      "text/plain": [
       "<Figure size 640x480 with 1 Axes>"
      ]
     },
     "metadata": {},
     "output_type": "display_data"
    }
   ],
   "source": [
    "plt.boxplot(lengths)"
   ]
  },
  {
   "cell_type": "code",
   "execution_count": 45,
   "id": "2c59060d-b6af-4bdf-95b3-395618d2b2d5",
   "metadata": {},
   "outputs": [],
   "source": [
    "# set params\n",
    "MAX_WORDS = 10000  \n",
    "MAX_SEQ_LEN = 100"
   ]
  },
  {
   "cell_type": "code",
   "execution_count": 46,
   "id": "b28a5d4e-16ee-4d9d-ac40-299e55606dc0",
   "metadata": {},
   "outputs": [],
   "source": [
    "tokenizer = Tokenizer(num_words=MAX_WORDS)\n",
    "tokenizer.fit_on_texts(df['processed_title'])\n"
   ]
  },
  {
   "cell_type": "code",
   "execution_count": 47,
   "id": "ab38e843-d20a-4500-a8be-b02ab504e7a4",
   "metadata": {},
   "outputs": [],
   "source": [
    "sequences = tokenizer.texts_to_sequences(df['processed_title'])\n",
    "X = pad_sequences(sequences, maxlen=MAX_SEQ_LEN)"
   ]
  },
  {
   "cell_type": "code",
   "execution_count": 48,
   "id": "943e43e9-b418-45de-8b84-c53a0b7c3b04",
   "metadata": {},
   "outputs": [
    {
     "data": {
      "text/plain": [
       "(44888, 100)"
      ]
     },
     "execution_count": 48,
     "metadata": {},
     "output_type": "execute_result"
    }
   ],
   "source": [
    "X.shape"
   ]
  },
  {
   "cell_type": "code",
   "execution_count": 49,
   "id": "d5cbd1b0-a793-4e0e-ac62-dbef621709fb",
   "metadata": {},
   "outputs": [],
   "source": [
    "from sklearn.model_selection import train_test_split"
   ]
  },
  {
   "cell_type": "code",
   "execution_count": 50,
   "id": "f6995d50-3101-4b55-8056-806d12bb2366",
   "metadata": {},
   "outputs": [],
   "source": [
    "X_train, X_test, y_train, y_test = train_test_split(X, df['label'].values, test_size=0.2)"
   ]
  },
  {
   "cell_type": "code",
   "execution_count": 51,
   "id": "759899f4-e068-4c39-b341-ebdfabcdc1d4",
   "metadata": {},
   "outputs": [
    {
     "data": {
      "text/plain": [
       "(35910, 100)"
      ]
     },
     "execution_count": 51,
     "metadata": {},
     "output_type": "execute_result"
    }
   ],
   "source": [
    "X_train.shape"
   ]
  },
  {
   "cell_type": "markdown",
   "id": "3ec61443-ee8e-488e-9432-512982b2c262",
   "metadata": {},
   "source": [
    "I've end up not using data column. Despite the moderate correlation with the target variable, they can make artificial dependencies,\r",
    " associated with temporary trends, and not with the content of the text Also their usage requires more complex architecture of the model (multiple inputs)."
   ]
  },
  {
   "cell_type": "markdown",
   "id": "61bbe5df-a5b8-4f48-9184-f0cdb6741168",
   "metadata": {},
   "source": [
    "# Models"
   ]
  },
  {
   "cell_type": "code",
   "execution_count": 52,
   "id": "518f622e-c76f-469b-842c-1d65e1734f7e",
   "metadata": {},
   "outputs": [],
   "source": [
    "import tensorflow as tf\n",
    "from tensorflow.keras.models import Sequential\n",
    "from tensorflow.keras.layers import Embedding, SimpleRNN, Dense, LSTM, Dropout, Bidirectional, GRU"
   ]
  },
  {
   "cell_type": "code",
   "execution_count": 53,
   "id": "27c9e185-5c6a-4ad4-880a-1422eb8995df",
   "metadata": {},
   "outputs": [],
   "source": [
    "callback = tf.keras.callbacks.EarlyStopping(monitor='val_loss', patience=2)"
   ]
  },
  {
   "cell_type": "code",
   "execution_count": 69,
   "id": "067df159-4a6c-4656-b102-692507630352",
   "metadata": {},
   "outputs": [
    {
     "name": "stdout",
     "output_type": "stream",
     "text": [
      "Epoch 1/10\n",
      "449/449 [==============================] - 43s 89ms/step - loss: 0.1928 - accuracy: 0.9173 - val_loss: 0.1243 - val_accuracy: 0.9525\n",
      "Epoch 2/10\n",
      "449/449 [==============================] - 39s 87ms/step - loss: 0.0510 - accuracy: 0.9824 - val_loss: 0.1496 - val_accuracy: 0.9483\n",
      "Epoch 3/10\n",
      "449/449 [==============================] - 40s 90ms/step - loss: 0.0185 - accuracy: 0.9940 - val_loss: 0.2122 - val_accuracy: 0.9447\n"
     ]
    }
   ],
   "source": [
    "# Stacked simple RNN + dropout\n",
    "model1 = Sequential([\n",
    "    Embedding(input_dim=MAX_WORDS, output_dim=128, input_length=MAX_SEQ_LEN),\n",
    "    SimpleRNN(64, activation='tanh', return_sequences=True),\n",
    "    Dropout(0.3),\n",
    "    SimpleRNN(64),\n",
    "    Dense(1, activation='sigmoid')\n",
    "])\n",
    "\n",
    "\n",
    "model1.compile(\n",
    "    optimizer='adam',\n",
    "    loss='binary_crossentropy',\n",
    "    metrics=['accuracy']\n",
    ")\n",
    "\n",
    "history1 = model1.fit(\n",
    "    X_train, y_train,\n",
    "    epochs=10,\n",
    "    batch_size=64,\n",
    "    validation_split=0.2,\n",
    "    callbacks=callback\n",
    ")"
   ]
  },
  {
   "cell_type": "code",
   "execution_count": 56,
   "id": "a5b9171c-ff38-4dd8-849d-539a506c861c",
   "metadata": {},
   "outputs": [
    {
     "name": "stdout",
     "output_type": "stream",
     "text": [
      "Epoch 1/10\n",
      "449/449 [==============================] - 151s 326ms/step - loss: 0.1963 - accuracy: 0.9162 - val_loss: 0.1425 - val_accuracy: 0.9432\n",
      "Epoch 2/10\n",
      "449/449 [==============================] - 148s 329ms/step - loss: 0.0729 - accuracy: 0.9740 - val_loss: 0.1363 - val_accuracy: 0.9527\n",
      "Epoch 3/10\n",
      "449/449 [==============================] - 137s 306ms/step - loss: 0.0408 - accuracy: 0.9867 - val_loss: 0.1604 - val_accuracy: 0.9499\n",
      "Epoch 4/10\n",
      "449/449 [==============================] - 136s 304ms/step - loss: 0.0231 - accuracy: 0.9921 - val_loss: 0.1923 - val_accuracy: 0.9488\n"
     ]
    }
   ],
   "source": [
    "# Stacked LSTM + dropout\n",
    "model2 = Sequential([\n",
    "    Embedding(MAX_WORDS, 128, input_length=MAX_SEQ_LEN),\n",
    "    LSTM(128, return_sequences=True),\n",
    "    Dropout(0.3),\n",
    "    LSTM(64),\n",
    "    Dense(1, activation='sigmoid')\n",
    "])\n",
    "\n",
    "model2.compile(\n",
    "    optimizer='adam',\n",
    "    loss='binary_crossentropy',\n",
    "    metrics=['accuracy']\n",
    ")\n",
    "\n",
    "history2 = model2.fit(\n",
    "    X_train, y_train,\n",
    "    epochs=10,\n",
    "    batch_size=64,\n",
    "    validation_split=0.2,\n",
    "    callbacks=callback\n",
    ")"
   ]
  },
  {
   "cell_type": "code",
   "execution_count": 57,
   "id": "65822edb-fc8c-457b-902f-b60f3ae48f7a",
   "metadata": {},
   "outputs": [
    {
     "name": "stdout",
     "output_type": "stream",
     "text": [
      "Epoch 1/10\n",
      "449/449 [==============================] - 65s 134ms/step - loss: 0.1964 - accuracy: 0.9151 - val_loss: 0.1343 - val_accuracy: 0.9488\n",
      "Epoch 2/10\n",
      "449/449 [==============================] - 60s 133ms/step - loss: 0.0697 - accuracy: 0.9759 - val_loss: 0.1275 - val_accuracy: 0.9518\n",
      "Epoch 3/10\n",
      "449/449 [==============================] - 60s 134ms/step - loss: 0.0363 - accuracy: 0.9880 - val_loss: 0.1569 - val_accuracy: 0.9504\n",
      "Epoch 4/10\n",
      "449/449 [==============================] - 60s 134ms/step - loss: 0.0186 - accuracy: 0.9939 - val_loss: 0.2077 - val_accuracy: 0.9483\n"
     ]
    }
   ],
   "source": [
    "# Bidirectional GRU\n",
    "model3 = Sequential([\n",
    "    Embedding(MAX_WORDS, 128, input_length=MAX_SEQ_LEN),\n",
    "    Bidirectional(GRU(64)),\n",
    "    Dense(1, activation='sigmoid')\n",
    "])\n",
    "\n",
    "model3.compile(\n",
    "    optimizer='adam',\n",
    "    loss='binary_crossentropy',\n",
    "    metrics=['accuracy']\n",
    ")\n",
    "\n",
    "history3 = model3.fit(\n",
    "    X_train, y_train,\n",
    "    epochs=10,\n",
    "    batch_size=64,\n",
    "    validation_split=0.2,\n",
    "    callbacks=callback\n",
    ")"
   ]
  },
  {
   "cell_type": "markdown",
   "id": "4fd4f8d9-6053-474d-86c1-678f80863268",
   "metadata": {},
   "source": [
    "# Tuning hyperparameters "
   ]
  },
  {
   "cell_type": "code",
   "execution_count": 59,
   "id": "cc33688b-d13e-4222-8ccc-08bf8f63bf29",
   "metadata": {},
   "outputs": [
    {
     "name": "stdout",
     "output_type": "stream",
     "text": [
      "Epoch 1/10\n",
      "449/449 [==============================] - 62s 128ms/step - loss: 0.0359 - accuracy: 0.9946 - val_loss: 0.2389 - val_accuracy: 0.9492\n",
      "Epoch 2/10\n",
      "449/449 [==============================] - 58s 129ms/step - loss: 0.0048 - accuracy: 0.9987 - val_loss: 0.2672 - val_accuracy: 0.9507\n",
      "Epoch 3/10\n",
      "449/449 [==============================] - 58s 129ms/step - loss: 0.0035 - accuracy: 0.9993 - val_loss: 0.3015 - val_accuracy: 0.9461\n"
     ]
    }
   ],
   "source": [
    "# with RMSprop optimizer instead of Adam\n",
    "model3.compile(\n",
    "    optimizer='RMSprop',\n",
    "    loss='binary_crossentropy',\n",
    "    metrics=['accuracy']\n",
    ")\n",
    "\n",
    "history4 = model3.fit(\n",
    "    X_train, y_train,\n",
    "    epochs=10,\n",
    "    batch_size=64,\n",
    "    validation_split=0.2,\n",
    "    callbacks=callback\n",
    ")"
   ]
  },
  {
   "cell_type": "code",
   "execution_count": 60,
   "id": "8b9125a7-a461-4ac1-b8cd-f951fc6be5b5",
   "metadata": {
    "scrolled": true
   },
   "outputs": [
    {
     "name": "stdout",
     "output_type": "stream",
     "text": [
      "Epoch 1/10\n",
      "225/225 [==============================] - 80s 316ms/step - loss: 0.0068 - accuracy: 0.9977 - val_loss: 0.2888 - val_accuracy: 0.9433\n",
      "Epoch 2/10\n",
      "225/225 [==============================] - 64s 284ms/step - loss: 0.0062 - accuracy: 0.9976 - val_loss: 0.3040 - val_accuracy: 0.9443\n",
      "Epoch 3/10\n",
      "225/225 [==============================] - 63s 278ms/step - loss: 0.0027 - accuracy: 0.9992 - val_loss: 0.3386 - val_accuracy: 0.9443\n"
     ]
    }
   ],
   "source": [
    "# with batch_size=128 instead of 64\n",
    "model3.compile(\n",
    "    optimizer='Adam',\n",
    "    loss='binary_crossentropy',\n",
    "    metrics=['accuracy']\n",
    ")\n",
    "\n",
    "history5 = model3.fit(\n",
    "    X_train, y_train,\n",
    "    epochs=10,\n",
    "    batch_size=128,\n",
    "    validation_split=0.2,\n",
    "    callbacks=callback\n",
    ")"
   ]
  },
  {
   "cell_type": "code",
   "execution_count": 62,
   "id": "875a90c8-3815-47b0-8e11-28227a4bf0fe",
   "metadata": {},
   "outputs": [],
   "source": [
    "from tensorflow.keras.callbacks import ReduceLROnPlateau, EarlyStopping"
   ]
  },
  {
   "cell_type": "code",
   "execution_count": 63,
   "id": "bfaca3c6-5a50-4319-b8dd-5f150675b60a",
   "metadata": {},
   "outputs": [
    {
     "name": "stdout",
     "output_type": "stream",
     "text": [
      "Epoch 1/10\n",
      "449/449 [==============================] - 67s 138ms/step - loss: 0.0055 - accuracy: 0.9982 - val_loss: 0.3043 - val_accuracy: 0.9424\n",
      "Epoch 2/10\n",
      "449/449 [==============================] - 80s 179ms/step - loss: 0.0053 - accuracy: 0.9984 - val_loss: 0.3344 - val_accuracy: 0.9446\n",
      "Epoch 3/10\n",
      "449/449 [==============================] - 72s 160ms/step - loss: 0.0022 - accuracy: 0.9994 - val_loss: 0.3625 - val_accuracy: 0.9457\n"
     ]
    }
   ],
   "source": [
    "# with reducing LR on plateau\n",
    "callbacks = [\n",
    "    EarlyStopping(patience=2),  \n",
    "    ReduceLROnPlateau(monitor='val_loss', factor=0.1, patience=2)  \n",
    "]\n",
    "\n",
    "model3.compile(\n",
    "    optimizer='Adam',\n",
    "    loss='binary_crossentropy',\n",
    "    metrics=['accuracy']\n",
    ")\n",
    "\n",
    "history6 = model3.fit(\n",
    "    X_train, y_train,\n",
    "    epochs=10,\n",
    "    batch_size=64,\n",
    "    validation_split=0.2,\n",
    "    callbacks=callback\n",
    ")"
   ]
  },
  {
   "cell_type": "markdown",
   "id": "690d0790-93c2-4165-b1e0-d89d4e0d646e",
   "metadata": {},
   "source": [
    "# Simple models"
   ]
  },
  {
   "cell_type": "code",
   "execution_count": 74,
   "id": "666e05ed-17a5-4808-9748-deba590f7e92",
   "metadata": {},
   "outputs": [
    {
     "name": "stdout",
     "output_type": "stream",
     "text": [
      "Epoch 1/10\n",
      "449/449 [==============================] - 26s 54ms/step - loss: 0.1911 - accuracy: 0.9217 - val_loss: 0.1239 - val_accuracy: 0.9504\n",
      "Epoch 2/10\n",
      "449/449 [==============================] - 24s 54ms/step - loss: 0.0555 - accuracy: 0.9822 - val_loss: 0.1374 - val_accuracy: 0.9495\n",
      "Epoch 3/10\n",
      "449/449 [==============================] - 25s 55ms/step - loss: 0.0191 - accuracy: 0.9943 - val_loss: 0.1725 - val_accuracy: 0.9499\n"
     ]
    }
   ],
   "source": [
    "# Simple RNN\n",
    "simple_model1 = Sequential([\n",
    "    Embedding(input_dim=MAX_WORDS, output_dim=128, input_length=MAX_SEQ_LEN),\n",
    "    SimpleRNN(64, activation='tanh'),\n",
    "    Dense(1, activation='sigmoid')\n",
    "])\n",
    "\n",
    "simple_model1.compile(\n",
    "    optimizer='adam',\n",
    "    loss='binary_crossentropy',\n",
    "    metrics=['accuracy']\n",
    ")\n",
    "\n",
    "history7 = simple_model1.fit(\n",
    "    X_train, y_train,\n",
    "    epochs=10,\n",
    "    batch_size=64,\n",
    "    validation_split=0.2,\n",
    "    callbacks=callback\n",
    ")"
   ]
  },
  {
   "cell_type": "code",
   "execution_count": 76,
   "id": "eb92e727-37fb-471d-8147-0fb35c1eb6d1",
   "metadata": {},
   "outputs": [
    {
     "name": "stdout",
     "output_type": "stream",
     "text": [
      "Epoch 1/10\n",
      "449/449 [==============================] - 94s 203ms/step - loss: 0.1926 - accuracy: 0.9213 - val_loss: 0.1313 - val_accuracy: 0.9499\n",
      "Epoch 2/10\n",
      "449/449 [==============================] - 88s 196ms/step - loss: 0.0773 - accuracy: 0.9714 - val_loss: 0.1304 - val_accuracy: 0.9502\n",
      "Epoch 3/10\n",
      "449/449 [==============================] - 88s 197ms/step - loss: 0.0424 - accuracy: 0.9855 - val_loss: 0.1569 - val_accuracy: 0.9486\n",
      "Epoch 4/10\n",
      "449/449 [==============================] - 88s 195ms/step - loss: 0.0238 - accuracy: 0.9917 - val_loss: 0.1805 - val_accuracy: 0.9485\n"
     ]
    }
   ],
   "source": [
    "# Simple LSTM\n",
    "simple_model2 = Sequential([\n",
    "    Embedding(MAX_WORDS, 128, input_length=MAX_SEQ_LEN),\n",
    "    LSTM(128),\n",
    "    Dense(1, activation='sigmoid')\n",
    "])\n",
    "\n",
    "simple_model2.compile(\n",
    "    optimizer='adam',\n",
    "    loss='binary_crossentropy',\n",
    "    metrics=['accuracy']\n",
    ")\n",
    "\n",
    "history8 = simple_model2.fit(\n",
    "    X_train, y_train,\n",
    "    epochs=10,\n",
    "    batch_size=64,\n",
    "    validation_split=0.2,\n",
    "    callbacks=callback\n",
    ")"
   ]
  },
  {
   "cell_type": "code",
   "execution_count": 77,
   "id": "d871d506-6244-43e7-8eb6-aa51f37238bd",
   "metadata": {},
   "outputs": [
    {
     "name": "stdout",
     "output_type": "stream",
     "text": [
      "Epoch 1/10\n",
      "449/449 [==============================] - 46s 97ms/step - loss: 0.1926 - accuracy: 0.9176 - val_loss: 0.1279 - val_accuracy: 0.9520\n",
      "Epoch 2/10\n",
      "449/449 [==============================] - 44s 98ms/step - loss: 0.0679 - accuracy: 0.9761 - val_loss: 0.1338 - val_accuracy: 0.9502\n",
      "Epoch 3/10\n",
      "449/449 [==============================] - 44s 98ms/step - loss: 0.0361 - accuracy: 0.9879 - val_loss: 0.1565 - val_accuracy: 0.9458\n"
     ]
    }
   ],
   "source": [
    "# Simple GRU\n",
    "simple_model3 = Sequential([\n",
    "    Embedding(MAX_WORDS, 128, input_length=MAX_SEQ_LEN),\n",
    "    GRU(64),\n",
    "    Dense(1, activation='sigmoid')\n",
    "])\n",
    "\n",
    "simple_model3.compile(\n",
    "    optimizer='adam',\n",
    "    loss='binary_crossentropy',\n",
    "    metrics=['accuracy']\n",
    ")\n",
    "\n",
    "history9 = simple_model3.fit(\n",
    "    X_train, y_train,\n",
    "    epochs=10,\n",
    "    batch_size=64,\n",
    "    validation_split=0.2,\n",
    "    callbacks=callback\n",
    ")"
   ]
  },
  {
   "cell_type": "code",
   "execution_count": null,
   "id": "bcc97431-f5d5-4e7f-856e-7790e5c8432a",
   "metadata": {},
   "outputs": [],
   "source": []
  }
 ],
 "metadata": {
  "kernelspec": {
   "display_name": "Python 3 (ipykernel)",
   "language": "python",
   "name": "python3"
  },
  "language_info": {
   "codemirror_mode": {
    "name": "ipython",
    "version": 3
   },
   "file_extension": ".py",
   "mimetype": "text/x-python",
   "name": "python",
   "nbconvert_exporter": "python",
   "pygments_lexer": "ipython3",
   "version": "3.11.8"
  }
 },
 "nbformat": 4,
 "nbformat_minor": 5
}
