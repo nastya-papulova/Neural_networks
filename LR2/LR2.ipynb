{
 "cells": [
  {
   "cell_type": "code",
   "execution_count": 1,
   "id": "8242b76e-c5c1-4da7-abe0-4113bbfae572",
   "metadata": {},
   "outputs": [],
   "source": [
    "import pandas as pd"
   ]
  },
  {
   "cell_type": "code",
   "execution_count": 2,
   "id": "2a94588a-5404-47b8-ae02-9ff29ca72173",
   "metadata": {},
   "outputs": [],
   "source": [
    "df_fake = pd.read_csv('dataset/Fake.csv')\n",
    "df_true = pd.read_csv('dataset/True.csv')"
   ]
  },
  {
   "cell_type": "code",
   "execution_count": 17,
   "id": "03173829-d065-439b-8e30-b7f5a24cdd91",
   "metadata": {
    "scrolled": true
   },
   "outputs": [
    {
     "data": {
      "text/html": [
       "<div>\n",
       "<style scoped>\n",
       "    .dataframe tbody tr th:only-of-type {\n",
       "        vertical-align: middle;\n",
       "    }\n",
       "\n",
       "    .dataframe tbody tr th {\n",
       "        vertical-align: top;\n",
       "    }\n",
       "\n",
       "    .dataframe thead th {\n",
       "        text-align: right;\n",
       "    }\n",
       "</style>\n",
       "<table border=\"1\" class=\"dataframe\">\n",
       "  <thead>\n",
       "    <tr style=\"text-align: right;\">\n",
       "      <th></th>\n",
       "      <th>title</th>\n",
       "      <th>text</th>\n",
       "      <th>subject</th>\n",
       "      <th>date</th>\n",
       "      <th>label</th>\n",
       "    </tr>\n",
       "  </thead>\n",
       "  <tbody>\n",
       "    <tr>\n",
       "      <th>0</th>\n",
       "      <td>Donald Trump Sends Out Embarrassing New Year’...</td>\n",
       "      <td>Donald Trump just couldn t wish all Americans ...</td>\n",
       "      <td>News</td>\n",
       "      <td>December 31, 2017</td>\n",
       "      <td>0</td>\n",
       "    </tr>\n",
       "    <tr>\n",
       "      <th>1</th>\n",
       "      <td>Drunk Bragging Trump Staffer Started Russian ...</td>\n",
       "      <td>House Intelligence Committee Chairman Devin Nu...</td>\n",
       "      <td>News</td>\n",
       "      <td>December 31, 2017</td>\n",
       "      <td>0</td>\n",
       "    </tr>\n",
       "    <tr>\n",
       "      <th>2</th>\n",
       "      <td>Sheriff David Clarke Becomes An Internet Joke...</td>\n",
       "      <td>On Friday, it was revealed that former Milwauk...</td>\n",
       "      <td>News</td>\n",
       "      <td>December 30, 2017</td>\n",
       "      <td>0</td>\n",
       "    </tr>\n",
       "    <tr>\n",
       "      <th>3</th>\n",
       "      <td>Trump Is So Obsessed He Even Has Obama’s Name...</td>\n",
       "      <td>On Christmas day, Donald Trump announced that ...</td>\n",
       "      <td>News</td>\n",
       "      <td>December 29, 2017</td>\n",
       "      <td>0</td>\n",
       "    </tr>\n",
       "    <tr>\n",
       "      <th>4</th>\n",
       "      <td>Pope Francis Just Called Out Donald Trump Dur...</td>\n",
       "      <td>Pope Francis used his annual Christmas Day mes...</td>\n",
       "      <td>News</td>\n",
       "      <td>December 25, 2017</td>\n",
       "      <td>0</td>\n",
       "    </tr>\n",
       "  </tbody>\n",
       "</table>\n",
       "</div>"
      ],
      "text/plain": [
       "                                               title  \\\n",
       "0   Donald Trump Sends Out Embarrassing New Year’...   \n",
       "1   Drunk Bragging Trump Staffer Started Russian ...   \n",
       "2   Sheriff David Clarke Becomes An Internet Joke...   \n",
       "3   Trump Is So Obsessed He Even Has Obama’s Name...   \n",
       "4   Pope Francis Just Called Out Donald Trump Dur...   \n",
       "\n",
       "                                                text subject  \\\n",
       "0  Donald Trump just couldn t wish all Americans ...    News   \n",
       "1  House Intelligence Committee Chairman Devin Nu...    News   \n",
       "2  On Friday, it was revealed that former Milwauk...    News   \n",
       "3  On Christmas day, Donald Trump announced that ...    News   \n",
       "4  Pope Francis used his annual Christmas Day mes...    News   \n",
       "\n",
       "                date  label  \n",
       "0  December 31, 2017      0  \n",
       "1  December 31, 2017      0  \n",
       "2  December 30, 2017      0  \n",
       "3  December 29, 2017      0  \n",
       "4  December 25, 2017      0  "
      ]
     },
     "execution_count": 17,
     "metadata": {},
     "output_type": "execute_result"
    }
   ],
   "source": [
    "df_fake.head()"
   ]
  },
  {
   "cell_type": "code",
   "execution_count": 4,
   "id": "4427f558-57d3-4a17-81bf-64bcb3cca4fb",
   "metadata": {},
   "outputs": [
    {
     "name": "stdout",
     "output_type": "stream",
     "text": [
      "(23481, 4)\n",
      "(21417, 4)\n"
     ]
    }
   ],
   "source": [
    "print(df_fake.shape)\n",
    "print(df_true.shape)"
   ]
  },
  {
   "cell_type": "code",
   "execution_count": 45,
   "id": "82ddeabc-5a87-43e1-89e8-ebabc2a71e8f",
   "metadata": {},
   "outputs": [],
   "source": [
    "# add labels and concatinate\n",
    "df_fake['label'] = 0  # fakes\n",
    "df_true['label'] = 1  # real news\n",
    "\n",
    "df = pd.concat([df_fake, df_true], axis=0)\n",
    "df = df.sample(frac=1).reset_index(drop=True)"
   ]
  },
  {
   "cell_type": "code",
   "execution_count": 46,
   "id": "604522f2-3cc4-4c86-9ffd-18337d16da26",
   "metadata": {
    "scrolled": true
   },
   "outputs": [
    {
     "data": {
      "text/html": [
       "<div>\n",
       "<style scoped>\n",
       "    .dataframe tbody tr th:only-of-type {\n",
       "        vertical-align: middle;\n",
       "    }\n",
       "\n",
       "    .dataframe tbody tr th {\n",
       "        vertical-align: top;\n",
       "    }\n",
       "\n",
       "    .dataframe thead th {\n",
       "        text-align: right;\n",
       "    }\n",
       "</style>\n",
       "<table border=\"1\" class=\"dataframe\">\n",
       "  <thead>\n",
       "    <tr style=\"text-align: right;\">\n",
       "      <th></th>\n",
       "      <th>title</th>\n",
       "      <th>text</th>\n",
       "      <th>subject</th>\n",
       "      <th>date</th>\n",
       "      <th>label</th>\n",
       "    </tr>\n",
       "  </thead>\n",
       "  <tbody>\n",
       "    <tr>\n",
       "      <th>0</th>\n",
       "      <td>LGBT Community Furious After Catholic School R...</td>\n",
       "      <td>I fear these cancellations may be based on mi...</td>\n",
       "      <td>left-news</td>\n",
       "      <td>May 8, 2017</td>\n",
       "      <td>0</td>\n",
       "    </tr>\n",
       "    <tr>\n",
       "      <th>1</th>\n",
       "      <td>ESPN’S JEMELE HILL Makes Shocking Admission Ab...</td>\n",
       "      <td>ESPN anchor Jemele Hill says she deserved to b...</td>\n",
       "      <td>politics</td>\n",
       "      <td>Oct 22, 2017</td>\n",
       "      <td>0</td>\n",
       "    </tr>\n",
       "    <tr>\n",
       "      <th>2</th>\n",
       "      <td>FBI chief promises to disclose any attempt to ...</td>\n",
       "      <td>WASHINGTON (Reuters) - The FBI’s acting direct...</td>\n",
       "      <td>politicsNews</td>\n",
       "      <td>May 11, 2017</td>\n",
       "      <td>1</td>\n",
       "    </tr>\n",
       "    <tr>\n",
       "      <th>3</th>\n",
       "      <td>Russia denies Syrian opposition allegation ove...</td>\n",
       "      <td>MOSCOW (Reuters) - The Russian Defence Ministr...</td>\n",
       "      <td>worldnews</td>\n",
       "      <td>September 28, 2017</td>\n",
       "      <td>1</td>\n",
       "    </tr>\n",
       "    <tr>\n",
       "      <th>4</th>\n",
       "      <td>WATCH: Viral Video Of Tomi Lahren Being Calle...</td>\n",
       "      <td>If you don t know who Tomi Lahren is by this p...</td>\n",
       "      <td>News</td>\n",
       "      <td>September 15, 2017</td>\n",
       "      <td>0</td>\n",
       "    </tr>\n",
       "  </tbody>\n",
       "</table>\n",
       "</div>"
      ],
      "text/plain": [
       "                                               title  \\\n",
       "0  LGBT Community Furious After Catholic School R...   \n",
       "1  ESPN’S JEMELE HILL Makes Shocking Admission Ab...   \n",
       "2  FBI chief promises to disclose any attempt to ...   \n",
       "3  Russia denies Syrian opposition allegation ove...   \n",
       "4   WATCH: Viral Video Of Tomi Lahren Being Calle...   \n",
       "\n",
       "                                                text       subject  \\\n",
       "0   I fear these cancellations may be based on mi...     left-news   \n",
       "1  ESPN anchor Jemele Hill says she deserved to b...      politics   \n",
       "2  WASHINGTON (Reuters) - The FBI’s acting direct...  politicsNews   \n",
       "3  MOSCOW (Reuters) - The Russian Defence Ministr...     worldnews   \n",
       "4  If you don t know who Tomi Lahren is by this p...          News   \n",
       "\n",
       "                  date  label  \n",
       "0          May 8, 2017      0  \n",
       "1         Oct 22, 2017      0  \n",
       "2        May 11, 2017       1  \n",
       "3  September 28, 2017       1  \n",
       "4   September 15, 2017      0  "
      ]
     },
     "execution_count": 46,
     "metadata": {},
     "output_type": "execute_result"
    }
   ],
   "source": [
    "df.head()"
   ]
  },
  {
   "cell_type": "code",
   "execution_count": 47,
   "id": "854c0075-6bd6-4029-a625-25ffbc436fd5",
   "metadata": {},
   "outputs": [
    {
     "data": {
      "text/plain": [
       "title      0\n",
       "text       0\n",
       "subject    0\n",
       "date       0\n",
       "label      0\n",
       "dtype: int64"
      ]
     },
     "execution_count": 47,
     "metadata": {},
     "output_type": "execute_result"
    }
   ],
   "source": [
    "df.isna().sum()"
   ]
  },
  {
   "cell_type": "code",
   "execution_count": 48,
   "id": "5a14fce0-dd7d-464a-a153-1852304db291",
   "metadata": {},
   "outputs": [
    {
     "data": {
      "text/plain": [
       "title      object\n",
       "text       object\n",
       "subject    object\n",
       "date       object\n",
       "label       int64\n",
       "dtype: object"
      ]
     },
     "execution_count": 48,
     "metadata": {},
     "output_type": "execute_result"
    }
   ],
   "source": [
    "df.dtypes"
   ]
  },
  {
   "cell_type": "markdown",
   "id": "b0434cc4-8df3-4bc1-8c73-f82249cc9699",
   "metadata": {},
   "source": [
    "# Date preparation"
   ]
  },
  {
   "cell_type": "code",
   "execution_count": 49,
   "id": "f284ea02-4591-46be-831e-ad7ea05457ec",
   "metadata": {},
   "outputs": [
    {
     "data": {
      "text/plain": [
       "2397"
      ]
     },
     "execution_count": 49,
     "metadata": {},
     "output_type": "execute_result"
    }
   ],
   "source": [
    "len(df['date'].unique())"
   ]
  },
  {
   "cell_type": "code",
   "execution_count": 50,
   "id": "f87fbd9c-fcd8-4c23-96d5-e9987378bbc2",
   "metadata": {},
   "outputs": [],
   "source": [
    "df['date'] = pd.to_datetime(df['date'], format='mixed', errors='coerce') #there are a lot of inccorect values"
   ]
  },
  {
   "cell_type": "code",
   "execution_count": 51,
   "id": "e1366375-4cfb-49ac-a9be-cb343553807f",
   "metadata": {
    "scrolled": true
   },
   "outputs": [
    {
     "data": {
      "text/plain": [
       "title              object\n",
       "text               object\n",
       "subject            object\n",
       "date       datetime64[ns]\n",
       "label               int64\n",
       "dtype: object"
      ]
     },
     "execution_count": 51,
     "metadata": {},
     "output_type": "execute_result"
    }
   ],
   "source": [
    "df.dtypes"
   ]
  },
  {
   "cell_type": "code",
   "execution_count": 52,
   "id": "26f91639-ee1c-4740-a1e9-a2d3e18edf76",
   "metadata": {},
   "outputs": [
    {
     "data": {
      "text/plain": [
       "1011"
      ]
     },
     "execution_count": 52,
     "metadata": {},
     "output_type": "execute_result"
    }
   ],
   "source": [
    "len(df['date'].unique())"
   ]
  },
  {
   "cell_type": "code",
   "execution_count": 58,
   "id": "7d758a8b-3f0c-4602-b3e5-109b1ed4fcdf",
   "metadata": {
    "scrolled": true
   },
   "outputs": [
    {
     "data": {
      "text/html": [
       "<div>\n",
       "<style scoped>\n",
       "    .dataframe tbody tr th:only-of-type {\n",
       "        vertical-align: middle;\n",
       "    }\n",
       "\n",
       "    .dataframe tbody tr th {\n",
       "        vertical-align: top;\n",
       "    }\n",
       "\n",
       "    .dataframe thead th {\n",
       "        text-align: right;\n",
       "    }\n",
       "</style>\n",
       "<table border=\"1\" class=\"dataframe\">\n",
       "  <thead>\n",
       "    <tr style=\"text-align: right;\">\n",
       "      <th></th>\n",
       "      <th>title</th>\n",
       "      <th>text</th>\n",
       "      <th>subject</th>\n",
       "      <th>date</th>\n",
       "      <th>label</th>\n",
       "      <th>year</th>\n",
       "      <th>month</th>\n",
       "      <th>day</th>\n",
       "    </tr>\n",
       "  </thead>\n",
       "  <tbody>\n",
       "    <tr>\n",
       "      <th>2921</th>\n",
       "      <td>https://fedup.wpengine.com/wp-content/uploads/...</td>\n",
       "      <td>https://fedup.wpengine.com/wp-content/uploads/...</td>\n",
       "      <td>Government News</td>\n",
       "      <td>NaT</td>\n",
       "      <td>0</td>\n",
       "      <td>NaN</td>\n",
       "      <td>NaN</td>\n",
       "      <td>NaN</td>\n",
       "    </tr>\n",
       "    <tr>\n",
       "      <th>25754</th>\n",
       "      <td>https://100percentfedup.com/video-hillary-aske...</td>\n",
       "      <td>https://100percentfedup.com/video-hillary-aske...</td>\n",
       "      <td>politics</td>\n",
       "      <td>NaT</td>\n",
       "      <td>0</td>\n",
       "      <td>NaN</td>\n",
       "      <td>NaN</td>\n",
       "      <td>NaN</td>\n",
       "    </tr>\n",
       "    <tr>\n",
       "      <th>28140</th>\n",
       "      <td>https://100percentfedup.com/served-roy-moore-v...</td>\n",
       "      <td>https://100percentfedup.com/served-roy-moore-v...</td>\n",
       "      <td>politics</td>\n",
       "      <td>NaT</td>\n",
       "      <td>0</td>\n",
       "      <td>NaN</td>\n",
       "      <td>NaN</td>\n",
       "      <td>NaN</td>\n",
       "    </tr>\n",
       "    <tr>\n",
       "      <th>29720</th>\n",
       "      <td>Homepage</td>\n",
       "      <td>[vc_row][vc_column width= 1/1 ][td_block_trend...</td>\n",
       "      <td>left-news</td>\n",
       "      <td>NaT</td>\n",
       "      <td>0</td>\n",
       "      <td>NaN</td>\n",
       "      <td>NaN</td>\n",
       "      <td>NaN</td>\n",
       "    </tr>\n",
       "    <tr>\n",
       "      <th>31657</th>\n",
       "      <td>https://fedup.wpengine.com/wp-content/uploads/...</td>\n",
       "      <td>https://fedup.wpengine.com/wp-content/uploads/...</td>\n",
       "      <td>left-news</td>\n",
       "      <td>NaT</td>\n",
       "      <td>0</td>\n",
       "      <td>NaN</td>\n",
       "      <td>NaN</td>\n",
       "      <td>NaN</td>\n",
       "    </tr>\n",
       "    <tr>\n",
       "      <th>32167</th>\n",
       "      <td>https://fedup.wpengine.com/wp-content/uploads/...</td>\n",
       "      <td>https://fedup.wpengine.com/wp-content/uploads/...</td>\n",
       "      <td>Government News</td>\n",
       "      <td>NaT</td>\n",
       "      <td>0</td>\n",
       "      <td>NaN</td>\n",
       "      <td>NaN</td>\n",
       "      <td>NaN</td>\n",
       "    </tr>\n",
       "    <tr>\n",
       "      <th>32575</th>\n",
       "      <td>https://fedup.wpengine.com/wp-content/uploads/...</td>\n",
       "      <td>https://fedup.wpengine.com/wp-content/uploads/...</td>\n",
       "      <td>left-news</td>\n",
       "      <td>NaT</td>\n",
       "      <td>0</td>\n",
       "      <td>NaN</td>\n",
       "      <td>NaN</td>\n",
       "      <td>NaN</td>\n",
       "    </tr>\n",
       "    <tr>\n",
       "      <th>33225</th>\n",
       "      <td>https://fedup.wpengine.com/wp-content/uploads/...</td>\n",
       "      <td>https://fedup.wpengine.com/wp-content/uploads/...</td>\n",
       "      <td>politics</td>\n",
       "      <td>NaT</td>\n",
       "      <td>0</td>\n",
       "      <td>NaN</td>\n",
       "      <td>NaN</td>\n",
       "      <td>NaN</td>\n",
       "    </tr>\n",
       "    <tr>\n",
       "      <th>39783</th>\n",
       "      <td>https://fedup.wpengine.com/wp-content/uploads/...</td>\n",
       "      <td>https://fedup.wpengine.com/wp-content/uploads/...</td>\n",
       "      <td>politics</td>\n",
       "      <td>NaT</td>\n",
       "      <td>0</td>\n",
       "      <td>NaN</td>\n",
       "      <td>NaN</td>\n",
       "      <td>NaN</td>\n",
       "    </tr>\n",
       "    <tr>\n",
       "      <th>41350</th>\n",
       "      <td>https://100percentfedup.com/12-yr-old-black-co...</td>\n",
       "      <td>https://100percentfedup.com/12-yr-old-black-co...</td>\n",
       "      <td>politics</td>\n",
       "      <td>NaT</td>\n",
       "      <td>0</td>\n",
       "      <td>NaN</td>\n",
       "      <td>NaN</td>\n",
       "      <td>NaN</td>\n",
       "    </tr>\n",
       "  </tbody>\n",
       "</table>\n",
       "</div>"
      ],
      "text/plain": [
       "                                                   title  \\\n",
       "2921   https://fedup.wpengine.com/wp-content/uploads/...   \n",
       "25754  https://100percentfedup.com/video-hillary-aske...   \n",
       "28140  https://100percentfedup.com/served-roy-moore-v...   \n",
       "29720                                           Homepage   \n",
       "31657  https://fedup.wpengine.com/wp-content/uploads/...   \n",
       "32167  https://fedup.wpengine.com/wp-content/uploads/...   \n",
       "32575  https://fedup.wpengine.com/wp-content/uploads/...   \n",
       "33225  https://fedup.wpengine.com/wp-content/uploads/...   \n",
       "39783  https://fedup.wpengine.com/wp-content/uploads/...   \n",
       "41350  https://100percentfedup.com/12-yr-old-black-co...   \n",
       "\n",
       "                                                    text          subject  \\\n",
       "2921   https://fedup.wpengine.com/wp-content/uploads/...  Government News   \n",
       "25754  https://100percentfedup.com/video-hillary-aske...         politics   \n",
       "28140  https://100percentfedup.com/served-roy-moore-v...         politics   \n",
       "29720  [vc_row][vc_column width= 1/1 ][td_block_trend...        left-news   \n",
       "31657  https://fedup.wpengine.com/wp-content/uploads/...        left-news   \n",
       "32167  https://fedup.wpengine.com/wp-content/uploads/...  Government News   \n",
       "32575  https://fedup.wpengine.com/wp-content/uploads/...        left-news   \n",
       "33225  https://fedup.wpengine.com/wp-content/uploads/...         politics   \n",
       "39783  https://fedup.wpengine.com/wp-content/uploads/...         politics   \n",
       "41350  https://100percentfedup.com/12-yr-old-black-co...         politics   \n",
       "\n",
       "      date  label  year  month  day  \n",
       "2921   NaT      0   NaN    NaN  NaN  \n",
       "25754  NaT      0   NaN    NaN  NaN  \n",
       "28140  NaT      0   NaN    NaN  NaN  \n",
       "29720  NaT      0   NaN    NaN  NaN  \n",
       "31657  NaT      0   NaN    NaN  NaN  \n",
       "32167  NaT      0   NaN    NaN  NaN  \n",
       "32575  NaT      0   NaN    NaN  NaN  \n",
       "33225  NaT      0   NaN    NaN  NaN  \n",
       "39783  NaT      0   NaN    NaN  NaN  \n",
       "41350  NaT      0   NaN    NaN  NaN  "
      ]
     },
     "execution_count": 58,
     "metadata": {},
     "output_type": "execute_result"
    }
   ],
   "source": [
    "df[df['date'].isna()].head(10)"
   ]
  },
  {
   "cell_type": "code",
   "execution_count": 57,
   "id": "025b928f-1091-49b2-99a1-aced4a22fe15",
   "metadata": {
    "scrolled": true
   },
   "outputs": [
    {
     "data": {
      "text/plain": [
       "title       0\n",
       "text        0\n",
       "subject     0\n",
       "date       10\n",
       "label       0\n",
       "year       10\n",
       "month      10\n",
       "day        10\n",
       "dtype: int64"
      ]
     },
     "execution_count": 57,
     "metadata": {},
     "output_type": "execute_result"
    }
   ],
   "source": [
    "df.isna().sum()"
   ]
  },
  {
   "cell_type": "code",
   "execution_count": 59,
   "id": "a46810c2-66ff-4d6c-b98a-df2e710cfd9d",
   "metadata": {},
   "outputs": [],
   "source": [
    "df = df.dropna(subset=['date'])"
   ]
  },
  {
   "cell_type": "code",
   "execution_count": 62,
   "id": "9c99360e-671c-4e25-a14a-629716f96d4b",
   "metadata": {},
   "outputs": [],
   "source": [
    "# add date features\n",
    "df['year'] = df['date'].dt.year.astype('int32')\n",
    "df['month'] = df['date'].dt.month.astype('int32')\n",
    "df['day'] = df['date'].dt.day.astype('int32')"
   ]
  },
  {
   "cell_type": "code",
   "execution_count": 63,
   "id": "abc89c25-0dd8-40d3-8abb-c0a1857cdd68",
   "metadata": {},
   "outputs": [
    {
     "data": {
      "text/html": [
       "<div>\n",
       "<style scoped>\n",
       "    .dataframe tbody tr th:only-of-type {\n",
       "        vertical-align: middle;\n",
       "    }\n",
       "\n",
       "    .dataframe tbody tr th {\n",
       "        vertical-align: top;\n",
       "    }\n",
       "\n",
       "    .dataframe thead th {\n",
       "        text-align: right;\n",
       "    }\n",
       "</style>\n",
       "<table border=\"1\" class=\"dataframe\">\n",
       "  <thead>\n",
       "    <tr style=\"text-align: right;\">\n",
       "      <th></th>\n",
       "      <th>title</th>\n",
       "      <th>text</th>\n",
       "      <th>subject</th>\n",
       "      <th>date</th>\n",
       "      <th>label</th>\n",
       "      <th>year</th>\n",
       "      <th>month</th>\n",
       "      <th>day</th>\n",
       "    </tr>\n",
       "  </thead>\n",
       "  <tbody>\n",
       "    <tr>\n",
       "      <th>0</th>\n",
       "      <td>LGBT Community Furious After Catholic School R...</td>\n",
       "      <td>I fear these cancellations may be based on mi...</td>\n",
       "      <td>left-news</td>\n",
       "      <td>2017-05-08</td>\n",
       "      <td>0</td>\n",
       "      <td>2017</td>\n",
       "      <td>5</td>\n",
       "      <td>8</td>\n",
       "    </tr>\n",
       "    <tr>\n",
       "      <th>1</th>\n",
       "      <td>ESPN’S JEMELE HILL Makes Shocking Admission Ab...</td>\n",
       "      <td>ESPN anchor Jemele Hill says she deserved to b...</td>\n",
       "      <td>politics</td>\n",
       "      <td>2017-10-22</td>\n",
       "      <td>0</td>\n",
       "      <td>2017</td>\n",
       "      <td>10</td>\n",
       "      <td>22</td>\n",
       "    </tr>\n",
       "    <tr>\n",
       "      <th>2</th>\n",
       "      <td>FBI chief promises to disclose any attempt to ...</td>\n",
       "      <td>WASHINGTON (Reuters) - The FBI’s acting direct...</td>\n",
       "      <td>politicsNews</td>\n",
       "      <td>2017-05-11</td>\n",
       "      <td>1</td>\n",
       "      <td>2017</td>\n",
       "      <td>5</td>\n",
       "      <td>11</td>\n",
       "    </tr>\n",
       "    <tr>\n",
       "      <th>3</th>\n",
       "      <td>Russia denies Syrian opposition allegation ove...</td>\n",
       "      <td>MOSCOW (Reuters) - The Russian Defence Ministr...</td>\n",
       "      <td>worldnews</td>\n",
       "      <td>2017-09-28</td>\n",
       "      <td>1</td>\n",
       "      <td>2017</td>\n",
       "      <td>9</td>\n",
       "      <td>28</td>\n",
       "    </tr>\n",
       "    <tr>\n",
       "      <th>4</th>\n",
       "      <td>WATCH: Viral Video Of Tomi Lahren Being Calle...</td>\n",
       "      <td>If you don t know who Tomi Lahren is by this p...</td>\n",
       "      <td>News</td>\n",
       "      <td>2017-09-15</td>\n",
       "      <td>0</td>\n",
       "      <td>2017</td>\n",
       "      <td>9</td>\n",
       "      <td>15</td>\n",
       "    </tr>\n",
       "  </tbody>\n",
       "</table>\n",
       "</div>"
      ],
      "text/plain": [
       "                                               title  \\\n",
       "0  LGBT Community Furious After Catholic School R...   \n",
       "1  ESPN’S JEMELE HILL Makes Shocking Admission Ab...   \n",
       "2  FBI chief promises to disclose any attempt to ...   \n",
       "3  Russia denies Syrian opposition allegation ove...   \n",
       "4   WATCH: Viral Video Of Tomi Lahren Being Calle...   \n",
       "\n",
       "                                                text       subject       date  \\\n",
       "0   I fear these cancellations may be based on mi...     left-news 2017-05-08   \n",
       "1  ESPN anchor Jemele Hill says she deserved to b...      politics 2017-10-22   \n",
       "2  WASHINGTON (Reuters) - The FBI’s acting direct...  politicsNews 2017-05-11   \n",
       "3  MOSCOW (Reuters) - The Russian Defence Ministr...     worldnews 2017-09-28   \n",
       "4  If you don t know who Tomi Lahren is by this p...          News 2017-09-15   \n",
       "\n",
       "   label  year  month  day  \n",
       "0      0  2017      5    8  \n",
       "1      0  2017     10   22  \n",
       "2      1  2017      5   11  \n",
       "3      1  2017      9   28  \n",
       "4      0  2017      9   15  "
      ]
     },
     "execution_count": 63,
     "metadata": {},
     "output_type": "execute_result"
    }
   ],
   "source": [
    "df.head()"
   ]
  },
  {
   "cell_type": "code",
   "execution_count": 64,
   "id": "c2c620ec-1904-4ad8-b702-e59b62d3a5b9",
   "metadata": {},
   "outputs": [],
   "source": [
    "df.drop('date', axis=1, inplace=True)"
   ]
  },
  {
   "cell_type": "code",
   "execution_count": 68,
   "id": "abd4bc66-df9e-45ee-8d0b-21647d1f1de2",
   "metadata": {},
   "outputs": [
    {
     "data": {
      "text/html": [
       "<div>\n",
       "<style scoped>\n",
       "    .dataframe tbody tr th:only-of-type {\n",
       "        vertical-align: middle;\n",
       "    }\n",
       "\n",
       "    .dataframe tbody tr th {\n",
       "        vertical-align: top;\n",
       "    }\n",
       "\n",
       "    .dataframe thead th {\n",
       "        text-align: right;\n",
       "    }\n",
       "</style>\n",
       "<table border=\"1\" class=\"dataframe\">\n",
       "  <thead>\n",
       "    <tr style=\"text-align: right;\">\n",
       "      <th></th>\n",
       "      <th>title</th>\n",
       "      <th>text</th>\n",
       "      <th>subject</th>\n",
       "      <th>label</th>\n",
       "      <th>year</th>\n",
       "      <th>month</th>\n",
       "      <th>day</th>\n",
       "    </tr>\n",
       "  </thead>\n",
       "  <tbody>\n",
       "    <tr>\n",
       "      <th>0</th>\n",
       "      <td>LGBT Community Furious After Catholic School R...</td>\n",
       "      <td>I fear these cancellations may be based on mi...</td>\n",
       "      <td>left-news</td>\n",
       "      <td>0</td>\n",
       "      <td>2017</td>\n",
       "      <td>5</td>\n",
       "      <td>8</td>\n",
       "    </tr>\n",
       "    <tr>\n",
       "      <th>1</th>\n",
       "      <td>ESPN’S JEMELE HILL Makes Shocking Admission Ab...</td>\n",
       "      <td>ESPN anchor Jemele Hill says she deserved to b...</td>\n",
       "      <td>politics</td>\n",
       "      <td>0</td>\n",
       "      <td>2017</td>\n",
       "      <td>10</td>\n",
       "      <td>22</td>\n",
       "    </tr>\n",
       "    <tr>\n",
       "      <th>2</th>\n",
       "      <td>FBI chief promises to disclose any attempt to ...</td>\n",
       "      <td>WASHINGTON (Reuters) - The FBI’s acting direct...</td>\n",
       "      <td>politicsNews</td>\n",
       "      <td>1</td>\n",
       "      <td>2017</td>\n",
       "      <td>5</td>\n",
       "      <td>11</td>\n",
       "    </tr>\n",
       "    <tr>\n",
       "      <th>3</th>\n",
       "      <td>Russia denies Syrian opposition allegation ove...</td>\n",
       "      <td>MOSCOW (Reuters) - The Russian Defence Ministr...</td>\n",
       "      <td>worldnews</td>\n",
       "      <td>1</td>\n",
       "      <td>2017</td>\n",
       "      <td>9</td>\n",
       "      <td>28</td>\n",
       "    </tr>\n",
       "    <tr>\n",
       "      <th>4</th>\n",
       "      <td>WATCH: Viral Video Of Tomi Lahren Being Calle...</td>\n",
       "      <td>If you don t know who Tomi Lahren is by this p...</td>\n",
       "      <td>News</td>\n",
       "      <td>0</td>\n",
       "      <td>2017</td>\n",
       "      <td>9</td>\n",
       "      <td>15</td>\n",
       "    </tr>\n",
       "  </tbody>\n",
       "</table>\n",
       "</div>"
      ],
      "text/plain": [
       "                                               title  \\\n",
       "0  LGBT Community Furious After Catholic School R...   \n",
       "1  ESPN’S JEMELE HILL Makes Shocking Admission Ab...   \n",
       "2  FBI chief promises to disclose any attempt to ...   \n",
       "3  Russia denies Syrian opposition allegation ove...   \n",
       "4   WATCH: Viral Video Of Tomi Lahren Being Calle...   \n",
       "\n",
       "                                                text       subject  label  \\\n",
       "0   I fear these cancellations may be based on mi...     left-news      0   \n",
       "1  ESPN anchor Jemele Hill says she deserved to b...      politics      0   \n",
       "2  WASHINGTON (Reuters) - The FBI’s acting direct...  politicsNews      1   \n",
       "3  MOSCOW (Reuters) - The Russian Defence Ministr...     worldnews      1   \n",
       "4  If you don t know who Tomi Lahren is by this p...          News      0   \n",
       "\n",
       "   year  month  day  \n",
       "0  2017      5    8  \n",
       "1  2017     10   22  \n",
       "2  2017      5   11  \n",
       "3  2017      9   28  \n",
       "4  2017      9   15  "
      ]
     },
     "execution_count": 68,
     "metadata": {},
     "output_type": "execute_result"
    }
   ],
   "source": [
    "df.head()"
   ]
  },
  {
   "cell_type": "code",
   "execution_count": 65,
   "id": "708c8e4f-e84b-4b0b-a46d-6320e772002e",
   "metadata": {
    "scrolled": true
   },
   "outputs": [
    {
     "data": {
      "text/plain": [
       "title      object\n",
       "text       object\n",
       "subject    object\n",
       "label       int64\n",
       "year        int32\n",
       "month       int32\n",
       "day         int32\n",
       "dtype: object"
      ]
     },
     "execution_count": 65,
     "metadata": {},
     "output_type": "execute_result"
    }
   ],
   "source": [
    "df.dtypes"
   ]
  },
  {
   "cell_type": "markdown",
   "id": "ac8a5ea0-61e4-4bdf-9070-8aa60bd5236a",
   "metadata": {},
   "source": [
    "# Column prep"
   ]
  },
  {
   "cell_type": "code",
   "execution_count": 67,
   "id": "a829392c-f265-4c2d-baa8-746797684882",
   "metadata": {},
   "outputs": [
    {
     "data": {
      "text/plain": [
       "<Axes: xlabel='subject'>"
      ]
     },
     "execution_count": 67,
     "metadata": {},
     "output_type": "execute_result"
    },
    {
     "data": {
      "image/png": "[encoded data removed]",
      "text/plain": [
       "<Figure size 640x480 with 1 Axes>"
      ]
     },
     "metadata": {},
     "output_type": "display_data"
    }
   ],
   "source": [
    "df['subject'].value_counts().plot(kind='bar')"
   ]
  },
  {
   "cell_type": "code",
   "execution_count": 70,
   "id": "04e156eb-7950-478b-b8b6-97735bda882d",
   "metadata": {},
   "outputs": [],
   "source": [
    "# subject column doesn't contain valuable information\n",
    "df.drop('subject', axis=1, inplace=True)"
   ]
  },
  {
   "cell_type": "code",
   "execution_count": 71,
   "id": "710c2028-805b-4842-8f78-9997d8727b11",
   "metadata": {
    "scrolled": true
   },
   "outputs": [
    {
     "data": {
      "text/html": [
       "<div>\n",
       "<style scoped>\n",
       "    .dataframe tbody tr th:only-of-type {\n",
       "        vertical-align: middle;\n",
       "    }\n",
       "\n",
       "    .dataframe tbody tr th {\n",
       "        vertical-align: top;\n",
       "    }\n",
       "\n",
       "    .dataframe thead th {\n",
       "        text-align: right;\n",
       "    }\n",
       "</style>\n",
       "<table border=\"1\" class=\"dataframe\">\n",
       "  <thead>\n",
       "    <tr style=\"text-align: right;\">\n",
       "      <th></th>\n",
       "      <th>title</th>\n",
       "      <th>text</th>\n",
       "      <th>label</th>\n",
       "      <th>year</th>\n",
       "      <th>month</th>\n",
       "      <th>day</th>\n",
       "    </tr>\n",
       "  </thead>\n",
       "  <tbody>\n",
       "    <tr>\n",
       "      <th>0</th>\n",
       "      <td>LGBT Community Furious After Catholic School R...</td>\n",
       "      <td>I fear these cancellations may be based on mi...</td>\n",
       "      <td>0</td>\n",
       "      <td>2017</td>\n",
       "      <td>5</td>\n",
       "      <td>8</td>\n",
       "    </tr>\n",
       "    <tr>\n",
       "      <th>1</th>\n",
       "      <td>ESPN’S JEMELE HILL Makes Shocking Admission Ab...</td>\n",
       "      <td>ESPN anchor Jemele Hill says she deserved to b...</td>\n",
       "      <td>0</td>\n",
       "      <td>2017</td>\n",
       "      <td>10</td>\n",
       "      <td>22</td>\n",
       "    </tr>\n",
       "    <tr>\n",
       "      <th>2</th>\n",
       "      <td>FBI chief promises to disclose any attempt to ...</td>\n",
       "      <td>WASHINGTON (Reuters) - The FBI’s acting direct...</td>\n",
       "      <td>1</td>\n",
       "      <td>2017</td>\n",
       "      <td>5</td>\n",
       "      <td>11</td>\n",
       "    </tr>\n",
       "    <tr>\n",
       "      <th>3</th>\n",
       "      <td>Russia denies Syrian opposition allegation ove...</td>\n",
       "      <td>MOSCOW (Reuters) - The Russian Defence Ministr...</td>\n",
       "      <td>1</td>\n",
       "      <td>2017</td>\n",
       "      <td>9</td>\n",
       "      <td>28</td>\n",
       "    </tr>\n",
       "    <tr>\n",
       "      <th>4</th>\n",
       "      <td>WATCH: Viral Video Of Tomi Lahren Being Calle...</td>\n",
       "      <td>If you don t know who Tomi Lahren is by this p...</td>\n",
       "      <td>0</td>\n",
       "      <td>2017</td>\n",
       "      <td>9</td>\n",
       "      <td>15</td>\n",
       "    </tr>\n",
       "  </tbody>\n",
       "</table>\n",
       "</div>"
      ],
      "text/plain": [
       "                                               title  \\\n",
       "0  LGBT Community Furious After Catholic School R...   \n",
       "1  ESPN’S JEMELE HILL Makes Shocking Admission Ab...   \n",
       "2  FBI chief promises to disclose any attempt to ...   \n",
       "3  Russia denies Syrian opposition allegation ove...   \n",
       "4   WATCH: Viral Video Of Tomi Lahren Being Calle...   \n",
       "\n",
       "                                                text  label  year  month  day  \n",
       "0   I fear these cancellations may be based on mi...      0  2017      5    8  \n",
       "1  ESPN anchor Jemele Hill says she deserved to b...      0  2017     10   22  \n",
       "2  WASHINGTON (Reuters) - The FBI’s acting direct...      1  2017      5   11  \n",
       "3  MOSCOW (Reuters) - The Russian Defence Ministr...      1  2017      9   28  \n",
       "4  If you don t know who Tomi Lahren is by this p...      0  2017      9   15  "
      ]
     },
     "execution_count": 71,
     "metadata": {},
     "output_type": "execute_result"
    }
   ],
   "source": [
    "df.head()"
   ]
  },
  {
   "cell_type": "code",
   "execution_count": 73,
   "id": "9e9c1817-7862-49ef-b700-8b7539bc4c2c",
   "metadata": {},
   "outputs": [
    {
     "data": {
      "text/plain": [
       "2367"
      ]
     },
     "execution_count": 73,
     "metadata": {},
     "output_type": "execute_result"
    }
   ],
   "source": [
    "len(df.text[124])"
   ]
  },
  {
   "cell_type": "code",
   "execution_count": 77,
   "id": "d2d1c430-43d4-41af-b6ca-f480ee0478b1",
   "metadata": {},
   "outputs": [
    {
     "data": {
      "text/plain": [
       "60"
      ]
     },
     "execution_count": 77,
     "metadata": {},
     "output_type": "execute_result"
    }
   ],
   "source": [
    "len(df.title[1466])"
   ]
  },
  {
   "cell_type": "code",
   "execution_count": 78,
   "id": "4f913914-7a9b-45ae-9e82-c785c1e9ee2a",
   "metadata": {},
   "outputs": [],
   "source": [
    "# text can be too long, takes a lot of time to process\n",
    "df.drop('text', axis=1, inplace=True)"
   ]
  },
  {
   "cell_type": "code",
   "execution_count": 79,
   "id": "80ad3339-339d-4f99-8b84-e3047e1bcc35",
   "metadata": {
    "scrolled": true
   },
   "outputs": [
    {
     "data": {
      "text/html": [
       "<div>\n",
       "<style scoped>\n",
       "    .dataframe tbody tr th:only-of-type {\n",
       "        vertical-align: middle;\n",
       "    }\n",
       "\n",
       "    .dataframe tbody tr th {\n",
       "        vertical-align: top;\n",
       "    }\n",
       "\n",
       "    .dataframe thead th {\n",
       "        text-align: right;\n",
       "    }\n",
       "</style>\n",
       "<table border=\"1\" class=\"dataframe\">\n",
       "  <thead>\n",
       "    <tr style=\"text-align: right;\">\n",
       "      <th></th>\n",
       "      <th>title</th>\n",
       "      <th>label</th>\n",
       "      <th>year</th>\n",
       "      <th>month</th>\n",
       "      <th>day</th>\n",
       "    </tr>\n",
       "  </thead>\n",
       "  <tbody>\n",
       "    <tr>\n",
       "      <th>0</th>\n",
       "      <td>LGBT Community Furious After Catholic School R...</td>\n",
       "      <td>0</td>\n",
       "      <td>2017</td>\n",
       "      <td>5</td>\n",
       "      <td>8</td>\n",
       "    </tr>\n",
       "    <tr>\n",
       "      <th>1</th>\n",
       "      <td>ESPN’S JEMELE HILL Makes Shocking Admission Ab...</td>\n",
       "      <td>0</td>\n",
       "      <td>2017</td>\n",
       "      <td>10</td>\n",
       "      <td>22</td>\n",
       "    </tr>\n",
       "    <tr>\n",
       "      <th>2</th>\n",
       "      <td>FBI chief promises to disclose any attempt to ...</td>\n",
       "      <td>1</td>\n",
       "      <td>2017</td>\n",
       "      <td>5</td>\n",
       "      <td>11</td>\n",
       "    </tr>\n",
       "    <tr>\n",
       "      <th>3</th>\n",
       "      <td>Russia denies Syrian opposition allegation ove...</td>\n",
       "      <td>1</td>\n",
       "      <td>2017</td>\n",
       "      <td>9</td>\n",
       "      <td>28</td>\n",
       "    </tr>\n",
       "    <tr>\n",
       "      <th>4</th>\n",
       "      <td>WATCH: Viral Video Of Tomi Lahren Being Calle...</td>\n",
       "      <td>0</td>\n",
       "      <td>2017</td>\n",
       "      <td>9</td>\n",
       "      <td>15</td>\n",
       "    </tr>\n",
       "  </tbody>\n",
       "</table>\n",
       "</div>"
      ],
      "text/plain": [
       "                                               title  label  year  month  day\n",
       "0  LGBT Community Furious After Catholic School R...      0  2017      5    8\n",
       "1  ESPN’S JEMELE HILL Makes Shocking Admission Ab...      0  2017     10   22\n",
       "2  FBI chief promises to disclose any attempt to ...      1  2017      5   11\n",
       "3  Russia denies Syrian opposition allegation ove...      1  2017      9   28\n",
       "4   WATCH: Viral Video Of Tomi Lahren Being Calle...      0  2017      9   15"
      ]
     },
     "execution_count": 79,
     "metadata": {},
     "output_type": "execute_result"
    }
   ],
   "source": [
    "df.head()"
   ]
  },
  {
   "cell_type": "markdown",
   "id": "51ecff6d-2295-4842-b622-2e064b3949b4",
   "metadata": {},
   "source": [
    "# Tokenization"
   ]
  },
  {
   "cell_type": "code",
   "execution_count": 80,
   "id": "0a0ec460-c279-4c4a-92ca-db6436d7b235",
   "metadata": {},
   "outputs": [
    {
     "name": "stderr",
     "output_type": "stream",
     "text": [
      "[nltk_data] Downloading package stopwords to C:\\Users\\papul.DESKTOP-\n",
      "[nltk_data]     U29R0P8.000\\AppData\\Roaming\\nltk_data...\n",
      "[nltk_data]   Unzipping corpora\\stopwords.zip.\n",
      "[nltk_data] Downloading package wordnet to C:\\Users\\papul.DESKTOP-\n",
      "[nltk_data]     U29R0P8.000\\AppData\\Roaming\\nltk_data...\n"
     ]
    },
    {
     "data": {
      "text/plain": [
       "True"
      ]
     },
     "execution_count": 80,
     "metadata": {},
     "output_type": "execute_result"
    }
   ],
   "source": [
    "import re\n",
    "import nltk\n",
    "from nltk.corpus import stopwords\n",
    "from nltk.stem import WordNetLemmatizer\n",
    "\n",
    "nltk.download('stopwords')\n",
    "nltk.download('wordnet')"
   ]
  },
  {
   "cell_type": "code",
   "execution_count": 81,
   "id": "26d12861-ee39-4f2c-9902-937146ba3de7",
   "metadata": {},
   "outputs": [],
   "source": [
    "def preprocess_text(text):\n",
    "    # delete symbols and make lowercase \n",
    "    text = re.sub(r'[^a-zA-Z\\s]', '', text, re.I|re.A).lower()\n",
    "\n",
    "    # delete stop words\n",
    "    stop_words = set(stopwords.words('english'))\n",
    "    \n",
    "    tokens = text.split()\n",
    "    tokens = [t for t in tokens if t not in stop_words]\n",
    "    \n",
    "    # lemmatization\n",
    "    lemmatizer = WordNetLemmatizer()\n",
    "    tokens = [lemmatizer.lemmatize(t) for t in tokens]\n",
    "    \n",
    "    return ' '.join(tokens)"
   ]
  },
  {
   "cell_type": "code",
   "execution_count": 82,
   "id": "a11e708b-e87e-4b2d-8501-e26df9347e7e",
   "metadata": {},
   "outputs": [],
   "source": [
    "# Применение к тексту\n",
    "df['processed_title'] = df['title'].apply(preprocess_text)"
   ]
  },
  {
   "cell_type": "code",
   "execution_count": 83,
   "id": "ad8d47bf-e251-4a21-a2c9-e38b118e3d64",
   "metadata": {},
   "outputs": [
    {
     "data": {
      "text/html": [
       "<div>\n",
       "<style scoped>\n",
       "    .dataframe tbody tr th:only-of-type {\n",
       "        vertical-align: middle;\n",
       "    }\n",
       "\n",
       "    .dataframe tbody tr th {\n",
       "        vertical-align: top;\n",
       "    }\n",
       "\n",
       "    .dataframe thead th {\n",
       "        text-align: right;\n",
       "    }\n",
       "</style>\n",
       "<table border=\"1\" class=\"dataframe\">\n",
       "  <thead>\n",
       "    <tr style=\"text-align: right;\">\n",
       "      <th></th>\n",
       "      <th>title</th>\n",
       "      <th>label</th>\n",
       "      <th>year</th>\n",
       "      <th>month</th>\n",
       "      <th>day</th>\n",
       "      <th>processed_title</th>\n",
       "    </tr>\n",
       "  </thead>\n",
       "  <tbody>\n",
       "    <tr>\n",
       "      <th>0</th>\n",
       "      <td>LGBT Community Furious After Catholic School R...</td>\n",
       "      <td>0</td>\n",
       "      <td>2017</td>\n",
       "      <td>5</td>\n",
       "      <td>8</td>\n",
       "      <td>lgbt community furious catholic school reject ...</td>\n",
       "    </tr>\n",
       "    <tr>\n",
       "      <th>1</th>\n",
       "      <td>ESPN’S JEMELE HILL Makes Shocking Admission Ab...</td>\n",
       "      <td>0</td>\n",
       "      <td>2017</td>\n",
       "      <td>10</td>\n",
       "      <td>22</td>\n",
       "      <td>espns jemele hill make shocking admission susp...</td>\n",
       "    </tr>\n",
       "    <tr>\n",
       "      <th>2</th>\n",
       "      <td>FBI chief promises to disclose any attempt to ...</td>\n",
       "      <td>1</td>\n",
       "      <td>2017</td>\n",
       "      <td>5</td>\n",
       "      <td>11</td>\n",
       "      <td>fbi chief promise disclose attempt stall russi...</td>\n",
       "    </tr>\n",
       "    <tr>\n",
       "      <th>3</th>\n",
       "      <td>Russia denies Syrian opposition allegation ove...</td>\n",
       "      <td>1</td>\n",
       "      <td>2017</td>\n",
       "      <td>9</td>\n",
       "      <td>28</td>\n",
       "      <td>russia denies syrian opposition allegation civ...</td>\n",
       "    </tr>\n",
       "    <tr>\n",
       "      <th>4</th>\n",
       "      <td>WATCH: Viral Video Of Tomi Lahren Being Calle...</td>\n",
       "      <td>0</td>\n",
       "      <td>2017</td>\n",
       "      <td>9</td>\n",
       "      <td>15</td>\n",
       "      <td>watch viral video tomi lahren called racist pi...</td>\n",
       "    </tr>\n",
       "  </tbody>\n",
       "</table>\n",
       "</div>"
      ],
      "text/plain": [
       "                                               title  label  year  month  day  \\\n",
       "0  LGBT Community Furious After Catholic School R...      0  2017      5    8   \n",
       "1  ESPN’S JEMELE HILL Makes Shocking Admission Ab...      0  2017     10   22   \n",
       "2  FBI chief promises to disclose any attempt to ...      1  2017      5   11   \n",
       "3  Russia denies Syrian opposition allegation ove...      1  2017      9   28   \n",
       "4   WATCH: Viral Video Of Tomi Lahren Being Calle...      0  2017      9   15   \n",
       "\n",
       "                                     processed_title  \n",
       "0  lgbt community furious catholic school reject ...  \n",
       "1  espns jemele hill make shocking admission susp...  \n",
       "2  fbi chief promise disclose attempt stall russi...  \n",
       "3  russia denies syrian opposition allegation civ...  \n",
       "4  watch viral video tomi lahren called racist pi...  "
      ]
     },
     "execution_count": 83,
     "metadata": {},
     "output_type": "execute_result"
    }
   ],
   "source": [
    "df.head()"
   ]
  },
  {
   "cell_type": "code",
   "execution_count": 84,
   "id": "1ee2408d-25f6-4ca2-bc99-bc510d3b3091",
   "metadata": {},
   "outputs": [],
   "source": [
    "df.drop('title', axis=1, inplace=True)"
   ]
  },
  {
   "cell_type": "code",
   "execution_count": 85,
   "id": "6a3c629c-0eed-4b74-bd34-50500752cffe",
   "metadata": {},
   "outputs": [],
   "source": [
    "from tensorflow.keras.preprocessing.text import Tokenizer\n",
    "from tensorflow.keras.preprocessing.sequence import pad_sequences"
   ]
  },
  {
   "cell_type": "code",
   "execution_count": 86,
   "id": "b862c87c-df86-4683-901e-4689b35f5c48",
   "metadata": {},
   "outputs": [
    {
     "data": {
      "text/plain": [
       "label               int64\n",
       "year                int32\n",
       "month               int32\n",
       "day                 int32\n",
       "processed_title    object\n",
       "dtype: object"
      ]
     },
     "execution_count": 86,
     "metadata": {},
     "output_type": "execute_result"
    }
   ],
   "source": [
    "df.dtypes"
   ]
  },
  {
   "cell_type": "code",
   "execution_count": 88,
   "id": "f794aa55-789b-48cb-b665-ca003701e0f9",
   "metadata": {},
   "outputs": [
    {
     "data": {
      "text/plain": [
       "str"
      ]
     },
     "execution_count": 88,
     "metadata": {},
     "output_type": "execute_result"
    }
   ],
   "source": [
    "type(df['processed_title'][0])"
   ]
  },
  {
   "cell_type": "code",
   "execution_count": 89,
   "id": "c65fcbbd-3f64-4cb4-9571-a1ed1f185246",
   "metadata": {
    "scrolled": true
   },
   "outputs": [
    {
     "data": {
      "text/plain": [
       "237"
      ]
     },
     "execution_count": 89,
     "metadata": {},
     "output_type": "execute_result"
    }
   ],
   "source": [
    "df['processed_title'].str.len().max()"
   ]
  },
  {
   "cell_type": "code",
   "execution_count": 94,
   "id": "daaa7cba-7100-4688-89ce-984e4b6af7ad",
   "metadata": {},
   "outputs": [],
   "source": [
    "from matplotlib import pyplot as plt\n",
    "%matplotlib inline"
   ]
  },
  {
   "cell_type": "code",
   "execution_count": 97,
   "id": "a7d86c35-a23a-4ec5-82f9-044c8e8eb358",
   "metadata": {},
   "outputs": [
    {
     "data": {
      "text/plain": [
       "(array([4.000e+00, 2.100e+01, 2.500e+01, 1.090e+02, 1.770e+02, 5.300e+02,\n",
       "        1.291e+03, 2.055e+03, 4.651e+03, 5.139e+03, 7.238e+03, 4.774e+03,\n",
       "        4.783e+03, 3.601e+03, 2.172e+03, 1.978e+03, 1.135e+03, 1.050e+03,\n",
       "        8.380e+02, 5.060e+02, 6.590e+02, 3.750e+02, 4.270e+02, 2.690e+02,\n",
       "        2.750e+02, 2.270e+02, 1.520e+02, 1.450e+02, 6.300e+01, 7.200e+01,\n",
       "        4.500e+01, 2.800e+01, 1.600e+01, 7.000e+00, 1.500e+01, 7.000e+00,\n",
       "        9.000e+00, 3.000e+00, 8.000e+00, 0.000e+00, 3.000e+00, 0.000e+00,\n",
       "        0.000e+00, 2.000e+00, 3.000e+00, 0.000e+00, 0.000e+00, 0.000e+00,\n",
       "        0.000e+00, 1.000e+00]),\n",
       " array([  8.  ,  12.58,  17.16,  21.74,  26.32,  30.9 ,  35.48,  40.06,\n",
       "         44.64,  49.22,  53.8 ,  58.38,  62.96,  67.54,  72.12,  76.7 ,\n",
       "         81.28,  85.86,  90.44,  95.02,  99.6 , 104.18, 108.76, 113.34,\n",
       "        117.92, 122.5 , 127.08, 131.66, 136.24, 140.82, 145.4 , 149.98,\n",
       "        154.56, 159.14, 163.72, 168.3 , 172.88, 177.46, 182.04, 186.62,\n",
       "        191.2 , 195.78, 200.36, 204.94, 209.52, 214.1 , 218.68, 223.26,\n",
       "        227.84, 232.42, 237.  ]),\n",
       " <BarContainer object of 50 artists>)"
      ]
     },
     "execution_count": 97,
     "metadata": {},
     "output_type": "execute_result"
    },
    {
     "data": {
      "image/png": "[encoded data removed]",
      "text/plain": [
       "<Figure size 640x480 with 1 Axes>"
      ]
     },
     "metadata": {},
     "output_type": "display_data"
    }
   ],
   "source": [
    "lengths = df['processed_title'].str.len()\n",
    "plt.hist(lengths, bins=50)"
   ]
  },
  {
   "cell_type": "code",
   "execution_count": 100,
   "id": "f163665a-6b2b-4bb9-a6d8-6ac3e5c82e4a",
   "metadata": {},
   "outputs": [
    {
     "data": {
      "text/plain": [
       "{'whiskers': [<matplotlib.lines.Line2D at 0x1ac6d517110>,\n",
       "  <matplotlib.lines.Line2D at 0x1ac6d443290>],\n",
       " 'caps': [<matplotlib.lines.Line2D at 0x1ac6d203310>,\n",
       "  <matplotlib.lines.Line2D at 0x1ac6bf65c10>],\n",
       " 'boxes': [<matplotlib.lines.Line2D at 0x1ac6d25bad0>],\n",
       " 'medians': [<matplotlib.lines.Line2D at 0x1ac6d4da150>],\n",
       " 'fliers': [<matplotlib.lines.Line2D at 0x1ac6d2721d0>],\n",
       " 'means': []}"
      ]
     },
     "execution_count": 100,
     "metadata": {},
     "output_type": "execute_result"
    },
    {
     "data": {
      "image/png": "[encoded data removed]",
      "text/plain": [
       "<Figure size 640x480 with 1 Axes>"
      ]
     },
     "metadata": {},
     "output_type": "display_data"
    }
   ],
   "source": [
    "plt.boxplot(lengths)"
   ]
  },
  {
   "cell_type": "code",
   "execution_count": 101,
   "id": "2c59060d-b6af-4bdf-95b3-395618d2b2d5",
   "metadata": {},
   "outputs": [],
   "source": [
    "# set params\n",
    "MAX_WORDS = 10000  \n",
    "MAX_SEQ_LEN = 100"
   ]
  },
  {
   "cell_type": "code",
   "execution_count": 102,
   "id": "b28a5d4e-16ee-4d9d-ac40-299e55606dc0",
   "metadata": {},
   "outputs": [],
   "source": [
    "tokenizer = Tokenizer(num_words=MAX_WORDS)\n",
    "tokenizer.fit_on_texts(df['processed_title'])\n"
   ]
  },
  {
   "cell_type": "code",
   "execution_count": 103,
   "id": "ab38e843-d20a-4500-a8be-b02ab504e7a4",
   "metadata": {},
   "outputs": [],
   "source": [
    "sequences = tokenizer.texts_to_sequences(df['processed_title'])\n",
    "X = pad_sequences(sequences, maxlen=MAX_SEQ_LEN)"
   ]
  },
  {
   "cell_type": "code",
   "execution_count": 107,
   "id": "943e43e9-b418-45de-8b84-c53a0b7c3b04",
   "metadata": {},
   "outputs": [
    {
     "data": {
      "text/plain": [
       "(44888, 100)"
      ]
     },
     "execution_count": 107,
     "metadata": {},
     "output_type": "execute_result"
    }
   ],
   "source": [
    "X.shape"
   ]
  },
  {
   "cell_type": "code",
   "execution_count": 105,
   "id": "d5cbd1b0-a793-4e0e-ac62-dbef621709fb",
   "metadata": {},
   "outputs": [],
   "source": [
    "from sklearn.model_selection import train_test_split"
   ]
  },
  {
   "cell_type": "code",
   "execution_count": 108,
   "id": "f6995d50-3101-4b55-8056-806d12bb2366",
   "metadata": {},
   "outputs": [],
   "source": [
    "X_train, X_test, y_train, y_test = train_test_split(X, df['label'].values, test_size=0.2)"
   ]
  },
  {
   "cell_type": "markdown",
   "id": "61bbe5df-a5b8-4f48-9184-f0cdb6741168",
   "metadata": {},
   "source": [
    "# Models"
   ]
  },
  {
   "cell_type": "code",
   "execution_count": null,
   "id": "518f622e-c76f-469b-842c-1d65e1734f7e",
   "metadata": {},
   "outputs": [],
   "source": []
  }
 ],
 "metadata": {
  "kernelspec": {
   "display_name": "Python 3 (ipykernel)",
   "language": "python",
   "name": "python3"
  },
  "language_info": {
   "codemirror_mode": {
    "name": "ipython",
    "version": 3
   },
   "file_extension": ".py",
   "mimetype": "text/x-python",
   "name": "python",
   "nbconvert_exporter": "python",
   "pygments_lexer": "ipython3",
   "version": "3.11.8"
  }
 },
 "nbformat": 4,
 "nbformat_minor": 5
}
